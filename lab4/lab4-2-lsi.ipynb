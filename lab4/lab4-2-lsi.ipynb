{
 "cells": [
  {
   "cell_type": "markdown",
   "metadata": {},
   "source": [
    "# Text 2: Latent semantic indexing\n",
    "**Internet Analytics - Lab 4**\n",
    "\n",
    "---\n",
    "\n",
    "**Group:** *B*\n",
    "\n",
    "**Names:**\n",
    "\n",
    "* *Vincenzo Bazzucchi*\n",
    "* *Amaury Combes*\n",
    "* *Alexis Montavon*\n",
    "\n",
    "---\n",
    "\n",
    "#### Instructions\n",
    "\n",
    "*This is a template for part 2 of the lab. Clearly write your answers, comments and interpretations in Markodown cells. Don't forget that you can add $\\LaTeX$ equations in these cells. Feel free to add or remove any cell.*\n",
    "\n",
    "*Please properly comment your code. Code readability will be considered for grading. To avoid long cells of codes in the notebook, you can also embed long python functions and classes in a separate module. Don’t forget to hand in your module if that is the case. In multiple exercises, you are required to come up with your own method to solve various problems. Be creative and clearly motivate and explain your methods. Creativity and clarity will be considered for grading.*"
   ]
  },
  {
   "cell_type": "code",
   "execution_count": 1,
   "metadata": {
    "collapsed": true
   },
   "outputs": [],
   "source": [
    "import pickle\n",
    "import numpy as np\n",
    "from scipy.sparse.linalg import svds\n",
    "from scipy.sparse import csr_matrix"
   ]
  },
  {
   "cell_type": "markdown",
   "metadata": {},
   "source": [
    "## Exercise 4.4: Latent semantic indexing"
   ]
  },
  {
   "cell_type": "code",
   "execution_count": 2,
   "metadata": {
    "collapsed": true
   },
   "outputs": [],
   "source": [
    "loader = np.load('tfidf.npz')\n",
    "tdm = csr_matrix((loader['data'], loader['indices'], loader['indptr']),\n",
    "                         shape = loader['shape'], dtype=np.float)\n",
    "\n",
    "with open('terms.txt', 'r') as f:\n",
    "    terms = [t.strip('\\n') for t in f]\n",
    "\n",
    "with open('courses.txt', 'r') as f:\n",
    "    courses = [c.strip('\\n') for c in f]"
   ]
  },
  {
   "cell_type": "code",
   "execution_count": 3,
   "metadata": {
    "collapsed": true
   },
   "outputs": [],
   "source": [
    "U, s, Vt = svds(tdm, k=300)"
   ]
  },
  {
   "cell_type": "code",
   "execution_count": 4,
   "metadata": {
    "collapsed": false
   },
   "outputs": [
    {
     "data": {
      "text/plain": [
       "array([ 59.01271033,  42.69280749,  36.27004754,  33.81421925,\n",
       "        33.18910907,  32.6155604 ,  31.56403462,  30.69270191,\n",
       "        30.22463554,  29.62774003,  29.39274378,  29.12005698,\n",
       "        28.82328777,  28.3323923 ,  28.02012071,  27.46953019,\n",
       "        27.353118  ,  27.16420203,  27.00796738,  26.66922338])"
      ]
     },
     "execution_count": 4,
     "metadata": {},
     "output_type": "execute_result"
    }
   ],
   "source": [
    "s[-20:][::-1]"
   ]
  },
  {
   "cell_type": "markdown",
   "metadata": {},
   "source": [
    "$U$ has a row per term and a column per topic. Its columns describe a basis for the terms in the space of the 300 topics. Each row maps a term in the new space. Each row $i$ corresponds to a term and each element $i,j$ tells us to what extent the term $i$ is relevant to topic $j$.\n",
    "\n",
    "$V$ has a row per course (document) a and a column per topic. Its columns describe a basis for the courses in the space of the 300 documents. Each row $i$ corresponds to a course and each element $i,j$ of the rows tells us to what extent the topic $j$ is present in document (course) $i$.\n",
    "\n",
    "Finally `np.diag(s)` is a diagonal matrix which has one element per topic. The element $i,i$ of the matrix gives the importance of topic $i$ in the document corpus."
   ]
  },
  {
   "cell_type": "markdown",
   "metadata": {},
   "source": [
    "## Exercise 4.5: Topic extraction"
   ]
  },
  {
   "cell_type": "code",
   "execution_count": 5,
   "metadata": {
    "collapsed": true
   },
   "outputs": [],
   "source": [
    "\"\"\"\n",
    "Sort vectors and values by decreasing order and only keep the first 10.\n",
    "\"\"\"\n",
    "top10left = np.fliplr(U)[:,:10]\n",
    "top10right = np.flipud(Vt).T[:,:10]"
   ]
  },
  {
   "cell_type": "code",
   "execution_count": 6,
   "metadata": {
    "collapsed": false
   },
   "outputs": [
    {
     "data": {
      "text/plain": [
       "(854, 10)"
      ]
     },
     "execution_count": 6,
     "metadata": {},
     "output_type": "execute_result"
    }
   ],
   "source": [
    "top10right.shape"
   ]
  },
  {
   "cell_type": "code",
   "execution_count": 7,
   "metadata": {
    "collapsed": true
   },
   "outputs": [],
   "source": [
    "keep_first = lambda list_of_tuples: [t[0] for t in list_of_tuples] # Only keep the first element of tuples in tuple list\n",
    "topics = {}\n",
    "for topic in range(10):\n",
    "    top_words = sorted([(terms[i], top10left[i, topic]) for i in range(top10left.shape[0])],\n",
    "                       key=lambda t: t[1],\n",
    "                       reverse=True)[:10]\n",
    "    top_courses = sorted([(courses[i], top10right[i, topic]) for i in range(top10right.shape[0])],\n",
    "                         key=lambda t: t[1],\n",
    "                         reverse=True)[:10]\n",
    "    topics[topic] = {'terms': keep_first(top_words), 'courses': keep_first(top_courses)}"
   ]
  },
  {
   "cell_type": "code",
   "execution_count": 8,
   "metadata": {
    "collapsed": false,
    "scrolled": false
   },
   "outputs": [
    {
     "name": "stdout",
     "output_type": "stream",
     "text": [
      "{0: {'courses': ['Innovation management',\n",
      "                 'Nanoelectronics',\n",
      "                 'Eco-friendly production and process intensification',\n",
      "                 'Nonlinear Optics',\n",
      "                 'Machine Learning for Engineers',\n",
      "                 'Biomechanics of the musculoskeletal system',\n",
      "                 'Production management',\n",
      "                 'Current Topics in Chemical Biology 2',\n",
      "                 'Atmospheric Boundary Layer',\n",
      "                 'Investments'],\n",
      "     'terms': ['transmits',\n",
      "               'redistribution',\n",
      "               'metamorphism',\n",
      "               'pack',\n",
      "               'vegetation',\n",
      "               'avalanches',\n",
      "               'genesis',\n",
      "               'sectionexplain',\n",
      "               'saphirre',\n",
      "               'oscillationknow']},\n",
      " 1: {'courses': ['Difficult Double Double Histories',\n",
      "                 'Technology & innovation strategy',\n",
      "                 'Industrial automation',\n",
      "                 'Product lifecycle management - concepts methods and tools',\n",
      "                 'Introduction to Algebraic geometry',\n",
      "                 'Advanced diffusional separation processes',\n",
      "                 'Process development project',\n",
      "                 'Renewable energy and solar architecture in Davos',\n",
      "                 'Strategic marketing & technology commercialization',\n",
      "                 'Advanced algorithms'],\n",
      "     'terms': ['wetlab',\n",
      "               'experimentation',\n",
      "               'obtained',\n",
      "               'laboratory',\n",
      "               'experiment',\n",
      "               'lab',\n",
      "               'head',\n",
      "               'supervising',\n",
      "               'neuroscience',\n",
      "               'studied']},\n",
      " 2: {'courses': ['Statistical mechanics',\n",
      "                 'Convexity',\n",
      "                 'Food biotechnology',\n",
      "                 'Laboratory information management systems (LIMS)',\n",
      "                 'Data science for business',\n",
      "                 'Non linear analysis of structures',\n",
      "                 'Théorie et critique du projet MA2 (Geers)',\n",
      "                 'Selected topics in mechanics of solids and structures',\n",
      "                 'Introduction to practical aspects of animal experimentation '\n",
      "                 'and animal facilities (Winter) (EDNE)',\n",
      "                 'Microeconomics'],\n",
      "     'terms': ['financial',\n",
      "               'risk',\n",
      "               'pricing',\n",
      "               'finance',\n",
      "               'stochastic',\n",
      "               'market',\n",
      "               'valuation',\n",
      "               'optimization',\n",
      "               'decision',\n",
      "               'corporate']},\n",
      " 3: {'courses': ['Biotechnology lab (for CGC)',\n",
      "                 'Image and video processing',\n",
      "                 'Théorie et critique du projet MA2 (Geers)',\n",
      "                 'Numerical methods in heat transfer',\n",
      "                 'Interfaces in biology and nanoscience',\n",
      "                 'Structural mechanics (for SV)',\n",
      "                 'Seismic engineering',\n",
      "                 'Audio engineering',\n",
      "                 'Lab immersion III',\n",
      "                 'Biomechanics of the cardiovascular system'],\n",
      "     'terms': ['cell',\n",
      "               'bioprocess',\n",
      "               'development',\n",
      "               'students',\n",
      "               'doctoral',\n",
      "               'kinetics',\n",
      "               'biology',\n",
      "               'downstream',\n",
      "               'studio',\n",
      "               'note']},\n",
      " 4: {'courses': ['Biotechnology lab (for CGC)',\n",
      "                 'Image and video processing',\n",
      "                 'Applied corporate & industry analysis (MTE master only)',\n",
      "                 'Probability theory',\n",
      "                 'Chemical engineering product design',\n",
      "                 'Turbulence',\n",
      "                 'Catalyst design for synthesis',\n",
      "                 'Spacecraft design and system engineering',\n",
      "                 'Nanofabrication with focused electron and ion beams',\n",
      "                 'Optimization Methods and Models'],\n",
      "     'terms': ['bioprocess',\n",
      "               'equation',\n",
      "               'kinetics',\n",
      "               'downstream',\n",
      "               'adsorption',\n",
      "               'bioreactors',\n",
      "               'precipitation',\n",
      "               'batch',\n",
      "               'liquid',\n",
      "               'heat']},\n",
      " 5: {'courses': ['Applied corporate & industry analysis (MTE master only)',\n",
      "                 'Advanced materials for photovoltaics and lighting',\n",
      "                 'Optimization Methods and Models',\n",
      "                 'Théorie et critique du projet MA2 (Geers)',\n",
      "                 'Numerical methods in heat transfer',\n",
      "                 'Advanced control systems',\n",
      "                 'Technology and Public Policy - (c) Technology, intellectual '\n",
      "                 'property and innovation policy',\n",
      "                 'Audio engineering',\n",
      "                 'Low-voltage analog CMOS IC design',\n",
      "                 'Chemistry of small biological molecules'],\n",
      "     'terms': ['device',\n",
      "               'architecture',\n",
      "               'transistor',\n",
      "               'circuit',\n",
      "               'gate',\n",
      "               'quantum',\n",
      "               'electronics',\n",
      "               'devices',\n",
      "               'studio',\n",
      "               'memory']},\n",
      " 6: {'courses': ['Interfaces in biology and nanoscience',\n",
      "                 'Lab immersion III',\n",
      "                 'Diffraction methods in structural biology',\n",
      "                 'Fundamentals of biophotonics',\n",
      "                 'Biomolecular structure and mechanics',\n",
      "                 'Probabilities and statistics',\n",
      "                 'Inorganic chemistry \"Applications and spin-offs\"',\n",
      "                 'Studio BA4 (De Vylder & Taillieu)',\n",
      "                 'Satellite communications  systems and networks',\n",
      "                 'Analysis III'],\n",
      "     'terms': ['students',\n",
      "               'doctoral',\n",
      "               'cell',\n",
      "               'algorithm',\n",
      "               'note',\n",
      "               'linear',\n",
      "               'protein',\n",
      "               'programming',\n",
      "               'priority',\n",
      "               'graph']},\n",
      " 7: {'courses': ['Biotechnology lab (for CGC)',\n",
      "                 'Image and video processing',\n",
      "                 '3D Electron Microscopy and FIB-Nanotomography',\n",
      "                 'Topics in geometric analysis I',\n",
      "                 'Structural mechanics (for SV)',\n",
      "                 'Chemistry of small biological molecules',\n",
      "                 'Audio engineering',\n",
      "                 'Studio MA1 (Lütjens et Padmanabhan)',\n",
      "                 'Numerical methods in heat transfer',\n",
      "                 'Biomaterials (pour MX)'],\n",
      "     'terms': ['bioprocess',\n",
      "               'architectural',\n",
      "               'studio',\n",
      "               'intensive',\n",
      "               'microscopes',\n",
      "               'downstream',\n",
      "               'researcher',\n",
      "               'image',\n",
      "               'bioreactors',\n",
      "               'intended']},\n",
      " 8: {'courses': ['Fundamentals of biophotonics',\n",
      "                 'Biomechanics of the cardiovascular system',\n",
      "                 'Emerging Nanopatterning Methods',\n",
      "                 'Advances in Contact Mechanics',\n",
      "                 'Practical - Brisken Lab',\n",
      "                 'Catalyst design for synthesis',\n",
      "                 'Nuclear fusion and plasma physics',\n",
      "                 'Advanced energetics',\n",
      "                 'Packing and covering',\n",
      "                 'Technology and Public Policy - (a) Science, technology and '\n",
      "                 'society'],\n",
      "     'terms': ['numerical',\n",
      "               'biomechanics',\n",
      "               'reaction',\n",
      "               'mechanic',\n",
      "               'chemistry',\n",
      "               'equation',\n",
      "               'fluid',\n",
      "               'acquired',\n",
      "               'electronic',\n",
      "               'property']},\n",
      " 9: {'courses': ['Structural mechanics (for SV)',\n",
      "                 'Advances in Contact Mechanics',\n",
      "                 'Hydrodynamics',\n",
      "                 'Practical - Fellay Lab',\n",
      "                 'Audio engineering',\n",
      "                 'Some problems in the theory of simple groups',\n",
      "                 'Microeconomics',\n",
      "                 'Chemistry of small biological molecules',\n",
      "                 'Studio MA1 (Lütjens et Padmanabhan)',\n",
      "                 'Lab methods : histology'],\n",
      "     'terms': ['architectural',\n",
      "               'chemistry',\n",
      "               'studio',\n",
      "               'metal',\n",
      "               'expose',\n",
      "               'wetlab',\n",
      "               'property',\n",
      "               'catalysis',\n",
      "               'synthesis',\n",
      "               'quantum']}}\n"
     ]
    }
   ],
   "source": [
    "from pprint import pprint\n",
    "pprint(topics)"
   ]
  },
  {
   "cell_type": "markdown",
   "metadata": {},
   "source": [
    "**Labels:**\n",
    "\n",
    "0) Environmental science\n",
    "\n",
    "1) Lab/Experiment\n",
    "\n",
    "2) Finance\n",
    "\n",
    "3) Mecanical engineering\n",
    "\n",
    "4) Chemistry\n",
    "\n",
    "5) Electronics\n",
    "\n",
    "6) Life Sciences\n",
    "\n",
    "7) Bio-engineering\n",
    "\n",
    "8) Micro engineering\n",
    "\n",
    "9) Physics"
   ]
  },
  {
   "cell_type": "markdown",
   "metadata": {},
   "source": [
    "## Exercise 4.6: Document similarity search in concept-space"
   ]
  },
  {
   "cell_type": "code",
   "execution_count": 9,
   "metadata": {
    "collapsed": true
   },
   "outputs": [],
   "source": [
    "term_directory = {terms[i]: i for i in range(len(terms))}\n",
    "S = np.diag(s)\n",
    "\n",
    "def sim(w_indexes, j):\n",
    "    \"\"\"\n",
    "    Computes the similarity between the terms with *indexes* w_indexes and\n",
    "    the document (course) with *index* j\n",
    "    \n",
    "    w_indexes -- The list of indexes of the terms\n",
    "    j -- The index of the document\n",
    "    \"\"\"\n",
    "    temp = 0\n",
    "    vj = Vt[:,j] #j-th column of V^T <=> j-th row of V\n",
    "    for i in w_indexes:\n",
    "        ui = U[i, :] #i-th row of U\n",
    "        temp += (ui @ S @ vj.T) / (np.linalg.norm(ui) * np.linalg.norm(S @ vj))\n",
    "    return temp\n",
    "\n",
    "def search(keywords):\n",
    "    \"\"\"\n",
    "    Finds the indexes of the 5 documents most relevant to the query\n",
    "    \n",
    "    keywords -- list of keywords to search\n",
    "    \"\"\"\n",
    "    w_indexes = [term_directory[w] for w in keywords]\n",
    "    doc_to_sim = [(doc, sim(w_indexes, doc)) for doc in range(Vt.shape[1])] # (course_index, similarity) array\n",
    "    doc_to_sim.sort(key=lambda t: t[1], reverse=True)\n",
    "    return [(courses[t[0]], t[1]) for t in doc_to_sim[:5]]"
   ]
  },
  {
   "cell_type": "code",
   "execution_count": 10,
   "metadata": {
    "collapsed": false
   },
   "outputs": [
    {
     "name": "stdout",
     "output_type": "stream",
     "text": [
      "[('Computational finance', 1.4489563427083438),\n",
      " ('Integrated circuits technology', 1.3449336874694562),\n",
      " ('Media security', 1.1600939699858928),\n",
      " ('Internet analytics', 1.0266601960879465),\n",
      " ('Particle-based methods', 0.82656599302150857)]\n"
     ]
    }
   ],
   "source": [
    "pprint(search('markov chain'.split(' ')))"
   ]
  },
  {
   "cell_type": "code",
   "execution_count": 11,
   "metadata": {
    "collapsed": false
   },
   "outputs": [
    {
     "name": "stdout",
     "output_type": "stream",
     "text": [
      "[('Martingales in financial mathematics', 0.92341057133120974),\n",
      " ('Interdisciplinary / disciplinary project for chemical master',\n",
      "  0.66106638084504554),\n",
      " ('Software engineering', 0.51636209660108612),\n",
      " ('Molecular endocrinology', 0.43929443794931894),\n",
      " ('Database systems', 0.43285700621746326)]\n"
     ]
    }
   ],
   "source": [
    "pprint(search(['facebook']))"
   ]
  },
  {
   "cell_type": "markdown",
   "metadata": {},
   "source": [
    "We can see that the results are very different from the one we optained in the first Notebook (EX. 4.3). This is mainly due to the fact that the similarity was calculated with each term beeing independant from one another. With LSI we include near-synonymity. Hence the results are not simple classes that contain the searched terms in their descriptions."
   ]
  },
  {
   "cell_type": "markdown",
   "metadata": {},
   "source": [
    "## Exercise 4.7: Document-document similarity"
   ]
  },
  {
   "cell_type": "markdown",
   "metadata": {
    "collapsed": true
   },
   "source": [
    "The rows of matrix $V$ describe a basis for the courses in the lower dimensional ($K=300$) space. Each row can be interpreted as the \"profile\" of a course.\n",
    "\n",
    "To compare the similarity between two courses we can use the *cos-similarity*:\n",
    "\n",
    "$$ sim(d_i, d_j) = \\frac{v^T_i \\cdot v_j}{||v_i|| \\cdot ||v_j||}$$\n",
    "\n",
    "where $v_k$ is the $k$-th row of matrix $V$. However the rows of $V$, which are equivalent to the columns of $V^T$, are already normalized, so the calculation simply becomes:\n",
    "\n",
    "$$ sim(d_i, d_j) = v^T_i \\cdot v_j $$"
   ]
  },
  {
   "cell_type": "code",
   "execution_count": 12,
   "metadata": {
    "collapsed": true
   },
   "outputs": [],
   "source": [
    "com_308 = -1\n",
    "for index, course_name in enumerate(courses):\n",
    "    if course_name == 'Internet analytics':\n",
    "        com_308 = index\n",
    "        break"
   ]
  },
  {
   "cell_type": "code",
   "execution_count": 13,
   "metadata": {
    "collapsed": false
   },
   "outputs": [
    {
     "name": "stdout",
     "output_type": "stream",
     "text": [
      "[('Macrofinance', 0.19602937299465739),\n",
      " ('Speech processing', 0.12943128184625616),\n",
      " ('Mechanical product design and development', 0.090962756970695766),\n",
      " ('Computational finance', 0.063905920088881796),\n",
      " ('Early detection of innovation potential', 0.061124624588481162)]\n"
     ]
    }
   ],
   "source": [
    "course_sim = lambda i, j: Vt[:,i].T @ Vt[:, j]\n",
    "most_similar = [(name, course_sim(com_308, i)) for i, name in enumerate(courses[:len(courses)-1]) if i != com_308]\n",
    "most_similar.sort(key=lambda t: t[1], reverse=True)\n",
    "pprint(most_similar[:5])"
   ]
  }
 ],
 "metadata": {
  "anaconda-cloud": {},
  "kernelspec": {
   "display_name": "Python 3",
   "language": "python",
   "name": "python3"
  },
  "language_info": {
   "codemirror_mode": {
    "name": "ipython",
    "version": 3
   },
   "file_extension": ".py",
   "mimetype": "text/x-python",
   "name": "python",
   "nbconvert_exporter": "python",
   "pygments_lexer": "ipython3",
   "version": "3.5.2"
  }
 },
 "nbformat": 4,
 "nbformat_minor": 2
}
