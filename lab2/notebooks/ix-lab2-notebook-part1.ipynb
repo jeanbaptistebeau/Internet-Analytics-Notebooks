{
 "cells": [
  {
   "cell_type": "markdown",
   "metadata": {},
   "source": [
    "# Networks: structure, evolution & processes\n",
    "**Internet Analytics - Lab 2**\n",
    "\n",
    "---\n",
    "\n",
    "**Group:** B\n",
    "\n",
    "**Names:**\n",
    "\n",
    "* Vincenzo Bazzucchi\n",
    "* Amaury Combes\n",
    "* Alexis Montavon\n",
    "\n",
    "---\n",
    "\n",
    "#### Instructions\n",
    "\n",
    "*This is a template for part 1 of the lab. Clearly write your answers, comments and interpretations in Markodown cells. Don't forget that you can add $\\LaTeX$ equations in these cells. Feel free to add or remove any cell.*\n",
    "\n",
    "*Please properly comment your code. Code readability will be considered for grading. To avoid long cells of codes in the notebook, you can also embed long python functions and classes in a separate module. Don’t forget to hand in your module if that is the case. In multiple exercises, you are required to come up with your own method to solve various problems. Be creative and clearly motivate and explain your methods. Creativity and clarity will be considered for grading.*"
   ]
  },
  {
   "cell_type": "markdown",
   "metadata": {},
   "source": [
    "---\n",
    "\n",
    "## 2.1 Exploration of real networks\n",
    "\n",
    "#### Exercise 2.1"
   ]
  },
  {
   "cell_type": "code",
   "execution_count": 3,
   "metadata": {
    "collapsed": false
   },
   "outputs": [],
   "source": [
    "import networkx as nx\n",
    "import matplotlib.pyplot as plt\n",
    "from itertools import groupby\n",
    "import numpy as np\n",
    "from collections import Counter\n",
    "%matplotlib inline"
   ]
  },
  {
   "cell_type": "code",
   "execution_count": 4,
   "metadata": {
    "collapsed": true
   },
   "outputs": [],
   "source": [
    "def read_edge_file(pathname):\n",
    "    f = open(pathname, 'r')\n",
    "    G = nx.Graph()\n",
    "    for line in f:\n",
    "        if line[0] == '#':\n",
    "            continue\n",
    "        line = f.readline().split(',')\n",
    "        G.add_edge(int(line[0]) , int(line[1]))\n",
    "    f.close()\n",
    "    return G"
   ]
  },
  {
   "cell_type": "code",
   "execution_count": 5,
   "metadata": {
    "collapsed": true
   },
   "outputs": [],
   "source": [
    "G1 = read_edge_file('../data/network1.csv')"
   ]
  },
  {
   "cell_type": "code",
   "execution_count": 6,
   "metadata": {
    "collapsed": false
   },
   "outputs": [
    {
     "name": "stdout",
     "output_type": "stream",
     "text": [
      "The network has 8419 nodes and 9292 edges\n"
     ]
    }
   ],
   "source": [
    "print(\"The network has\", len(G1), \"nodes\", \"and\", G1.size(), \"edges\")"
   ]
  },
  {
   "cell_type": "markdown",
   "metadata": {},
   "source": [
    "#### Exercise 2.2:  Node degree distribution"
   ]
  },
  {
   "cell_type": "code",
   "execution_count": 7,
   "metadata": {
    "collapsed": true
   },
   "outputs": [],
   "source": [
    "def compute_deg_dist(graph):\n",
    "    degrees = nx.degree(graph)\n",
    "    deg_distr = Counter()\n",
    "    for deg in degrees.values():\n",
    "        deg_distr[deg] += 1\n",
    "    deg_distr = {k: (deg_distr[k] / len(degrees.keys())) for k in deg_distr.keys()}\n",
    "    return deg_distr"
   ]
  },
  {
   "cell_type": "code",
   "execution_count": 55,
   "metadata": {
    "collapsed": false
   },
   "outputs": [
    {
     "data": {
      "image/png": "[encoded data removed]",
      "text/plain": [
       "<matplotlib.figure.Figure at 0x7fc62a40fbe0>"
      ]
     },
     "metadata": {},
     "output_type": "display_data"
    }
   ],
   "source": [
    "deg_distr = compute_deg_dist(G1)\n",
    "N = 10\n",
    "fig, ax = plt.subplots()\n",
    "x = list(deg_distr.keys())[:N]\n",
    "x.insert(0, 0)\n",
    "y = list(deg_distr.values())[:N]\n",
    "y.insert(0, 0)\n",
    "plt.bar(x, y, tick_label=['0', '1', '2', '3', '4', '5', '6', '7', '8', '9', '10'], color='r')\n",
    "ax.xaxis.set_label_text(\"Degrees\")\n",
    "ax.yaxis.set_label_text(\"Distribution\")\n",
    "plt.show()"
   ]
  },
  {
   "cell_type": "markdown",
   "metadata": {},
   "source": [
    "!!!Missing answer to question 2.2.1 & 2.2.2\n",
    "\n",
    "This distribution looks like a Poisson distribution (discret equivalent of the power law distribution). We didn't plot further than degree 10 because the probability drop below 0.01%.\n",
    "\n",
    "Here we find a lambda value based on the maximum likelyhood estimator and plot the Poisson ditribution accordingly."
   ]
  },
  {
   "cell_type": "code",
   "execution_count": 9,
   "metadata": {
    "collapsed": true
   },
   "outputs": [],
   "source": [
    "from scipy.stats import poisson\n",
    "mle_poisson = lambda sample, n: sum(sample[:n]) / n # use mle to find mu"
   ]
  },
  {
   "cell_type": "code",
   "execution_count": 54,
   "metadata": {
    "collapsed": false
   },
   "outputs": [
    {
     "data": {
      "image/png": "[encoded data removed]",
      "text/plain": [
       "<matplotlib.figure.Figure at 0x7fc62a670048>"
      ]
     },
     "metadata": {},
     "output_type": "display_data"
    }
   ],
   "source": [
    "fig, ax = plt.subplots()\n",
    "ax.bar(x, y, color='r')\n",
    "mu = mle_poisson(list(deg_distr.values()), N)\n",
    "gen_data = [poisson.pmf(x, mu, 1) for x in range(N)]\n",
    "ax.bar(x[:len(gen_data)],gen_data, alpha=0.5)\n",
    "ax.xaxis.set_label_text(\"Degrees\")\n",
    "ax.yaxis.set_label_text(\"Distribution\")\n",
    "plt.show()"
   ]
  },
  {
   "cell_type": "markdown",
   "metadata": {},
   "source": [
    "#### Exercise 2.3: Giant component"
   ]
  },
  {
   "cell_type": "code",
   "execution_count": 11,
   "metadata": {
    "collapsed": false
   },
   "outputs": [],
   "source": [
    "connected_components = sorted(nx.connected_component_subgraphs(G1), key=len, reverse=True)"
   ]
  },
  {
   "cell_type": "code",
   "execution_count": 61,
   "metadata": {
    "collapsed": false
   },
   "outputs": [
    {
     "name": "stdout",
     "output_type": "stream",
     "text": [
      "Amount of connected components: 480\n",
      "Ten biggest connected component ordered by size [7077, 20, 19, 16, 15, 13, 11, 10, 9, 9]\n"
     ]
    },
    {
     "data": {
      "image/png": "[encoded data removed]",
      "text/plain": [
       "<matplotlib.figure.Figure at 0x7fc62a224198>"
      ]
     },
     "metadata": {},
     "output_type": "display_data"
    }
   ],
   "source": [
    "num_of_connected_components = len(connected_components)\n",
    "dimensions = [len(cc) for cc in connected_components]\n",
    "print(\"Amount of connected components:\", num_of_connected_components)\n",
    "print(\"Ten biggest connected component ordered by size\", dimensions[:N])\n",
    "\n",
    "fig, ax = plt.subplots()\n",
    "ax.bar(np.arange(len(dimensions[:N])),dimensions[:N])\n",
    "ax.xaxis.set_label_text(\"Size\")\n",
    "ax.yaxis.set_label_text(\"Connected Components\")\n",
    "plt.show()"
   ]
  },
  {
   "cell_type": "markdown",
   "metadata": {},
   "source": [
    "This plot represent the ten biggest connected components. We can easily see that there exists a giant component containing 7077 nodes, which represent $\\approx$84.06% of the graph."
   ]
  },
  {
   "cell_type": "markdown",
   "metadata": {},
   "source": [
    "#### Exercise 2.4: Short paths & Small-worlds"
   ]
  },
  {
   "cell_type": "code",
   "execution_count": 18,
   "metadata": {
    "collapsed": false
   },
   "outputs": [],
   "source": [
    "# ATTENTION: Run only on cluster. SLOW\n",
    "giant_component = connected_components[0]\n",
    "path_lengths = nx.all_pairs_shortest_path_length(giant_component)\n",
    "avg_shortest = nx.average_shortest_path_length(giant_component)"
   ]
  },
  {
   "cell_type": "code",
   "execution_count": 23,
   "metadata": {
    "collapsed": false
   },
   "outputs": [
    {
     "name": "stdout",
     "output_type": "stream",
     "text": [
      "Average shortest path 4.698255872793282\n"
     ]
    }
   ],
   "source": [
    "print(\"Average shortest path\", avg_shortest)"
   ]
  },
  {
   "cell_type": "markdown",
   "metadata": {},
   "source": [
    "Network1 seems to be a small world, even smaller than what Duncan Watts exlpains as the average shortest path is $\\approx$4.7 links in this graph."
   ]
  },
  {
   "cell_type": "code",
   "execution_count": 24,
   "metadata": {
    "collapsed": false
   },
   "outputs": [],
   "source": [
    "def path_length_distribution(path_lengths):\n",
    "    distribution = Counter()\n",
    "    for dest in path_lengths.values():\n",
    "        for dist in dest.values():\n",
    "            distribution[dist] += 1\n",
    "    return {k: distribution[k] / len(path_lengths) for k in distribution.keys()}"
   ]
  },
  {
   "cell_type": "code",
   "execution_count": 25,
   "metadata": {
    "collapsed": false
   },
   "outputs": [
    {
     "data": {
      "text/plain": [
       "[<matplotlib.lines.Line2D at 0x7fc62a98b780>]"
      ]
     },
     "execution_count": 25,
     "metadata": {},
     "output_type": "execute_result"
    },
    {
     "data": {
      "image/png": "[encoded data removed]",
      "text/plain": [
       "<matplotlib.figure.Figure at 0x7fc62aa5ddd8>"
      ]
     },
     "metadata": {},
     "output_type": "display_data"
    }
   ],
   "source": [
    "# x = distance, y = (number of couple of nodes at this distance / number of nodes)  Do we need division?\n",
    "distribution = path_length_distribution(path_lengths)\n",
    "plt.plot(list(distribution.keys()), list(distribution.values()))"
   ]
  },
  {
   "cell_type": "markdown",
   "metadata": {},
   "source": [
    "Here is the plot of the distribution of the path lengths between any two node in the network."
   ]
  },
  {
   "cell_type": "markdown",
   "metadata": {},
   "source": [
    "#### Exercise 2.5: Network comparison"
   ]
  },
  {
   "cell_type": "code",
   "execution_count": null,
   "metadata": {
    "collapsed": true
   },
   "outputs": [],
   "source": []
  },
  {
   "cell_type": "markdown",
   "metadata": {},
   "source": [
    "#### Exercise 2.6: Network identification"
   ]
  },
  {
   "cell_type": "code",
   "execution_count": null,
   "metadata": {
    "collapsed": true
   },
   "outputs": [],
   "source": []
  }
 ],
 "metadata": {
  "anaconda-cloud": {},
  "kernelspec": {
   "display_name": "Python 3",
   "language": "python",
   "name": "python3"
  },
  "language_info": {
   "codemirror_mode": {
    "name": "ipython",
    "version": 3
   },
   "file_extension": ".py",
   "mimetype": "text/x-python",
   "name": "python",
   "nbconvert_exporter": "python",
   "pygments_lexer": "ipython3",
   "version": "3.5.2"
  }
 },
 "nbformat": 4,
 "nbformat_minor": 2
}
