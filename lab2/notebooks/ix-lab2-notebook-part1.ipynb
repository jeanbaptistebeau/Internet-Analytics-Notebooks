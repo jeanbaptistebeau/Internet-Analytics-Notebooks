{
 "cells": [
  {
   "cell_type": "markdown",
   "metadata": {},
   "source": [
    "# Networks: structure, evolution & processes\n",
    "**Internet Analytics - Lab 2**\n",
    "\n",
    "---\n",
    "\n",
    "**Group:** B\n",
    "\n",
    "**Names:**\n",
    "\n",
    "* Vincenzo Bazzucchi\n",
    "* Amaury Combes\n",
    "* Alexis Montavon\n",
    "\n",
    "---\n",
    "\n",
    "#### Instructions\n",
    "\n",
    "*This is a template for part 1 of the lab. Clearly write your answers, comments and interpretations in Markodown cells. Don't forget that you can add $\\LaTeX$ equations in these cells. Feel free to add or remove any cell.*\n",
    "\n",
    "*Please properly comment your code. Code readability will be considered for grading. To avoid long cells of codes in the notebook, you can also embed long python functions and classes in a separate module. Don’t forget to hand in your module if that is the case. In multiple exercises, you are required to come up with your own method to solve various problems. Be creative and clearly motivate and explain your methods. Creativity and clarity will be considered for grading.*"
   ]
  },
  {
   "cell_type": "markdown",
   "metadata": {},
   "source": [
    "---\n",
    "\n",
    "## 2.1 Exploration of real networks\n",
    "\n",
    "#### Exercise 2.1"
   ]
  },
  {
   "cell_type": "code",
   "execution_count": 2,
   "metadata": {
    "collapsed": false
   },
   "outputs": [],
   "source": [
    "import networkx as nx\n",
    "import matplotlib.pyplot as plt\n",
    "from itertools import groupby\n",
    "import numpy as np\n",
    "from collections import Counter\n",
    "%matplotlib inline"
   ]
  },
  {
   "cell_type": "code",
   "execution_count": 3,
   "metadata": {
    "collapsed": true
   },
   "outputs": [],
   "source": [
    "def read_edge_file(pathname):\n",
    "    f = open(pathname, 'r')\n",
    "    G = nx.Graph()\n",
    "    for line in f:\n",
    "        if line[0] == '#':\n",
    "            continue\n",
    "        line = f.readline().split(',')\n",
    "        G.add_edge(int(line[0]) , int(line[1]))\n",
    "    f.close()\n",
    "    return G"
   ]
  },
  {
   "cell_type": "code",
   "execution_count": 4,
   "metadata": {
    "collapsed": true
   },
   "outputs": [],
   "source": [
    "G1 = read_edge_file('../data/network1.csv')"
   ]
  },
  {
   "cell_type": "code",
   "execution_count": 5,
   "metadata": {
    "collapsed": false
   },
   "outputs": [
    {
     "name": "stdout",
     "output_type": "stream",
     "text": [
      "The network has 8419 nodes and 9292 edges\n"
     ]
    }
   ],
   "source": [
    "print(\"The network has\", len(G1), \"nodes\", \"and\", G1.size(), \"edges\")"
   ]
  },
  {
   "cell_type": "markdown",
   "metadata": {},
   "source": [
    "#### Exercise 2.2:  Node degree distribution"
   ]
  },
  {
   "cell_type": "code",
   "execution_count": 6,
   "metadata": {
    "collapsed": true
   },
   "outputs": [],
   "source": [
    "def compute_deg_dist(graph):\n",
    "    degrees = nx.degree(graph)\n",
    "    deg_distr = Counter()\n",
    "    for deg in degrees.values():\n",
    "        deg_distr[deg] += 1\n",
    "    deg_distr = {k: (deg_distr[k] / len(degrees.keys())) for k in deg_distr.keys()}\n",
    "    return deg_distr"
   ]
  },
  {
   "cell_type": "code",
   "execution_count": 7,
   "metadata": {
    "collapsed": false
   },
   "outputs": [
    {
     "data": {
      "image/png": "[encoded data removed]",
      "text/plain": [
       "<matplotlib.figure.Figure at 0x7f534b9a6240>"
      ]
     },
     "metadata": {},
     "output_type": "display_data"
    }
   ],
   "source": [
    "deg_distr = compute_deg_dist(G1)\n",
    "N = 10\n",
    "fig, ax = plt.subplots()\n",
    "x = list(deg_distr.keys())[:N]\n",
    "x.insert(0, 0)\n",
    "y = list(deg_distr.values())[:N]\n",
    "y.insert(0, 0)\n",
    "plt.bar(x, y, tick_label=['0', '1', '2', '3', '4', '5', '6', '7', '8', '9', '10'], color='r')\n",
    "ax.xaxis.set_label_text(\"Degrees\")\n",
    "ax.yaxis.set_label_text(\"Distribution\")\n",
    "plt.show()"
   ]
  },
  {
   "cell_type": "markdown",
   "metadata": {},
   "source": [
    "An histogram plot is useful for ploting a discret distribution.\n",
    "\n",
    "This distribution looks like a Poisson distribution (discret equivalent of the power law distribution). We didn't plot further than degree 10 because the probability drop below 0.01%.\n",
    "\n",
    "Here we find a lambda value based on the maximum likelyhood estimator and plot the Poisson ditribution accordingly."
   ]
  },
  {
   "cell_type": "code",
   "execution_count": 8,
   "metadata": {
    "collapsed": true
   },
   "outputs": [],
   "source": [
    "from scipy.stats import poisson\n",
    "mle_poisson = lambda sample, n: sum(sample[:n]) / n # use mle to find mu"
   ]
  },
  {
   "cell_type": "code",
   "execution_count": 9,
   "metadata": {
    "collapsed": false
   },
   "outputs": [
    {
     "data": {
      "image/png": "[encoded data removed]",
      "text/plain": [
       "<matplotlib.figure.Figure at 0x7f5335f25160>"
      ]
     },
     "metadata": {},
     "output_type": "display_data"
    }
   ],
   "source": [
    "fig, ax = plt.subplots()\n",
    "ax.bar(x, y, color='r')\n",
    "mu = mle_poisson(list(deg_distr.values()), N)\n",
    "gen_data = [poisson.pmf(x, mu, 1) for x in range(N)]\n",
    "ax.bar(x[:len(gen_data)],gen_data, alpha=0.5)\n",
    "ax.xaxis.set_label_text(\"Degrees\")\n",
    "ax.yaxis.set_label_text(\"Distribution\")\n",
    "plt.show()"
   ]
  },
  {
   "cell_type": "markdown",
   "metadata": {},
   "source": [
    "#### Exercise 2.3: Giant component"
   ]
  },
  {
   "cell_type": "code",
   "execution_count": 29,
   "metadata": {
    "collapsed": false
   },
   "outputs": [
    {
     "name": "stdout",
     "output_type": "stream",
     "text": [
      "Amount of connected components: 480\n",
      "Ten biggest connected components ordered by size [7077, 20, 19, 16, 15, 13, 11, 10, 9, 9]\n"
     ]
    },
    {
     "data": {
      "image/png": "[encoded data removed]",
      "text/plain": [
       "<matplotlib.figure.Figure at 0x7f5335bc1128>"
      ]
     },
     "metadata": {},
     "output_type": "display_data"
    }
   ],
   "source": [
    "connected_components = sorted(nx.connected_component_subgraphs(G1), key=len, reverse=True)\n",
    "num_of_connected_components = len(connected_components)\n",
    "dimensions = [len(cc) for cc in connected_components]\n",
    "print(\"Amount of connected components:\", num_of_connected_components)\n",
    "print(\"Ten biggest connected components ordered by size\", dimensions[:N])\n",
    "\n",
    "fig, ax = plt.subplots()\n",
    "ax.bar(np.arange(len(dimensions[:N])),dimensions[:N])\n",
    "ax.xaxis.set_label_text(\"Size\")\n",
    "ax.yaxis.set_label_text(\"Connected Components\")\n",
    "plt.show()"
   ]
  },
  {
   "cell_type": "markdown",
   "metadata": {},
   "source": [
    "This plot represent the ten biggest connected components. We can easily see that there exists a giant component containing 7077 nodes, which represent $\\approx$84.06% of the graph."
   ]
  },
  {
   "cell_type": "markdown",
   "metadata": {},
   "source": [
    "#### Exercise 2.4: Short paths & Small-worlds"
   ]
  },
  {
   "cell_type": "code",
   "execution_count": 12,
   "metadata": {
    "collapsed": false
   },
   "outputs": [],
   "source": [
    "# ATTENTION: Run only on cluster. SLOW\n",
    "giant_component = connected_components[0]\n",
    "path_lengths = nx.all_pairs_shortest_path_length(giant_component)\n",
    "avg_shortest = nx.average_shortest_path_length(giant_component)"
   ]
  },
  {
   "cell_type": "code",
   "execution_count": 13,
   "metadata": {
    "collapsed": false
   },
   "outputs": [
    {
     "name": "stdout",
     "output_type": "stream",
     "text": [
      "Average shortest path 4.698255872793282\n"
     ]
    }
   ],
   "source": [
    "print(\"Average shortest path\", avg_shortest)"
   ]
  },
  {
   "cell_type": "markdown",
   "metadata": {},
   "source": [
    "Network1 seems to be a small world, even smaller than what Duncan Watts exlpains as the average shortest path is $\\approx$4.7 links in this graph."
   ]
  },
  {
   "cell_type": "code",
   "execution_count": 14,
   "metadata": {
    "collapsed": false
   },
   "outputs": [],
   "source": [
    "def path_length_distribution(path_lengths):\n",
    "    distribution = Counter()\n",
    "    for dest in path_lengths.values():\n",
    "        for dist in dest.values():\n",
    "            distribution[dist] += 1\n",
    "    return {k: distribution[k] / len(path_lengths) for k in distribution.keys()}"
   ]
  },
  {
   "cell_type": "code",
   "execution_count": 15,
   "metadata": {
    "collapsed": false
   },
   "outputs": [
    {
     "data": {
      "text/plain": [
       "[<matplotlib.lines.Line2D at 0x7f53358bd1d0>]"
      ]
     },
     "execution_count": 15,
     "metadata": {},
     "output_type": "execute_result"
    },
    {
     "data": {
      "image/png": "[encoded data removed]",
      "text/plain": [
       "<matplotlib.figure.Figure at 0x7f5336a52a58>"
      ]
     },
     "metadata": {},
     "output_type": "display_data"
    }
   ],
   "source": [
    "# x = distance, y = (number of couple of nodes at this distance / number of nodes)  Do we need division?\n",
    "distribution = path_length_distribution(path_lengths)\n",
    "plt.plot(list(distribution.keys()), list(distribution.values()))"
   ]
  },
  {
   "cell_type": "markdown",
   "metadata": {},
   "source": [
    "Here is the plot of the distribution of the path lengths between any two node in the network."
   ]
  },
  {
   "cell_type": "markdown",
   "metadata": {},
   "source": [
    "#### Exercise 2.5: Network comparison"
   ]
  },
  {
   "cell_type": "code",
   "execution_count": 16,
   "metadata": {
    "collapsed": false
   },
   "outputs": [],
   "source": [
    "G2 = read_edge_file('../data/network2.csv')"
   ]
  },
  {
   "cell_type": "code",
   "execution_count": 17,
   "metadata": {
    "collapsed": false
   },
   "outputs": [
    {
     "name": "stdout",
     "output_type": "stream",
     "text": [
      "The network has 24496 nodes and 21758 edges\n"
     ]
    }
   ],
   "source": [
    "print(\"The network has\", len(G2), \"nodes\", \"and\", G2.size(), \"edges\")"
   ]
  },
  {
   "cell_type": "code",
   "execution_count": 19,
   "metadata": {
    "collapsed": false
   },
   "outputs": [
    {
     "data": {
      "image/png": "[encoded data removed]",
      "text/plain": [
       "<matplotlib.figure.Figure at 0x7f5335b462b0>"
      ]
     },
     "metadata": {},
     "output_type": "display_data"
    }
   ],
   "source": [
    "deg_distr = compute_deg_dist(G2)\n",
    "N = 10\n",
    "fig, ax = plt.subplots()\n",
    "x = list(deg_distr.keys())[:N]\n",
    "x.insert(0, 0)\n",
    "y = list(deg_distr.values())[:N]\n",
    "y.insert(0, 0)\n",
    "plt.bar(x, y, tick_label=['0', '1', '2', '3', '4', '5', '6'], color='r')\n",
    "ax.xaxis.set_label_text(\"Degrees\")\n",
    "ax.yaxis.set_label_text(\"Distribution\")\n",
    "plt.show()"
   ]
  },
  {
   "cell_type": "markdown",
   "metadata": {},
   "source": [
    "Repondre aux questions!"
   ]
  },
  {
   "cell_type": "code",
   "execution_count": 21,
   "metadata": {
    "collapsed": false
   },
   "outputs": [
    {
     "data": {
      "image/png": "[encoded data removed]",
      "text/plain": [
       "<matplotlib.figure.Figure at 0x7f5335186748>"
      ]
     },
     "metadata": {},
     "output_type": "display_data"
    }
   ],
   "source": [
    "fig, ax = plt.subplots()\n",
    "ax.bar(x, y, color='r')\n",
    "mu = mle_poisson(list(deg_distr.values()), 7)\n",
    "gen_data = [poisson.pmf(x, mu, 1) for x in range(7)]\n",
    "ax.bar(x[:len(gen_data)],gen_data, alpha=0.5)\n",
    "ax.xaxis.set_label_text(\"Degrees\")\n",
    "ax.yaxis.set_label_text(\"Distribution\")\n",
    "plt.show()"
   ]
  },
  {
   "cell_type": "code",
   "execution_count": 28,
   "metadata": {
    "collapsed": false
   },
   "outputs": [
    {
     "name": "stdout",
     "output_type": "stream",
     "text": [
      "Amount of connected components: 3355\n",
      "Ten biggest connected components ordered by size [237, 219, 215, 194, 175, 136, 136, 123, 118, 112]\n"
     ]
    },
    {
     "data": {
      "image/png": "[encoded data removed]",
      "text/plain": [
       "<matplotlib.figure.Figure at 0x7f535182deb8>"
      ]
     },
     "metadata": {},
     "output_type": "display_data"
    }
   ],
   "source": [
    "connected_components = sorted(nx.connected_component_subgraphs(G2), key=len, reverse=True)\n",
    "num_of_connected_components = len(connected_components)\n",
    "dimensions = [len(cc) for cc in connected_components]\n",
    "print(\"Amount of connected components:\", num_of_connected_components)\n",
    "print(\"Ten biggest connected components ordered by size\", dimensions[:N])\n",
    "\n",
    "fig, ax = plt.subplots()\n",
    "ax.bar(np.arange(len(dimensions[:N])),dimensions[:N])\n",
    "ax.xaxis.set_label_text(\"Size\")\n",
    "ax.yaxis.set_label_text(\"Connected Components\")\n",
    "plt.show()"
   ]
  },
  {
   "cell_type": "markdown",
   "metadata": {},
   "source": [
    "This graph represent the 10 biggest connected components. We see that in this second network, there is no giant component. Unlike network1 there are many more different connected components (3355) and their size is more similar. Therefore we can say that network2 is not a small-world, as the proportion of connected nodes is very small."
   ]
  },
  {
   "cell_type": "markdown",
   "metadata": {},
   "source": [
    "#### Exercise 2.6: Network identification"
   ]
  },
  {
   "cell_type": "markdown",
   "metadata": {
    "collapsed": true
   },
   "source": [
    "Clearly network1 is the subgraph of router comprising the Internet and network2 is the network of roads of New-York city. As seen in class one of the property of social network is to have a giant component and network1 has one. Another property about the connection between people, given by Duncan Watts, is that on average we are all connected by a path of length 6. Network1 has an average connection of 4.7 on his giant component (84% of the graph).\n",
    "Although newtork1 is not a graph of people but routers, we can imagine them having the same properties as routers connect humans throughout the web."
   ]
  }
 ],
 "metadata": {
  "anaconda-cloud": {},
  "kernelspec": {
   "display_name": "Python 3",
   "language": "python",
   "name": "python3"
  },
  "language_info": {
   "codemirror_mode": {
    "name": "ipython",
    "version": 3
   },
   "file_extension": ".py",
   "mimetype": "text/x-python",
   "name": "python",
   "nbconvert_exporter": "python",
   "pygments_lexer": "ipython3",
   "version": "3.5.2"
  }
 },
 "nbformat": 4,
 "nbformat_minor": 2
}
