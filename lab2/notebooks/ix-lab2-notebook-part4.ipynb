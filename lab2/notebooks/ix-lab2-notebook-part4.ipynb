{
 "cells": [
  {
   "cell_type": "markdown",
   "metadata": {},
   "source": [
    "# Networks: structure, evolution & processes\n",
    "**Internet Analytics - Lab 2**\n",
    "\n",
    "---\n",
    "\n",
    "**Group:** *Your group letter.*\n",
    "\n",
    "**Names:**\n",
    "\n",
    "* *Name 1*\n",
    "* *Name 2*\n",
    "* *Name 3*\n",
    "\n",
    "---\n",
    "\n",
    "#### Instructions\n",
    "\n",
    "*This is a template for part 4 of the lab. Clearly write your answers, comments and interpretations in Markodown cells. Don't forget that you can add $\\LaTeX$ equations in these cells. Feel free to add or remove any cell.*\n",
    "\n",
    "*Please properly comment your code. Code readability will be considered for grading. To avoid long cells of codes in the notebook, you can also embed long python functions and classes in a separate module. Don’t forget to hand in your module if that is the case. In multiple exercises, you are required to come up with your own method to solve various problems. Be creative and clearly motivate and explain your methods. Creativity and clarity will be considered for grading.*"
   ]
  },
  {
   "cell_type": "code",
   "execution_count": 1,
   "metadata": {
    "collapsed": true
   },
   "outputs": [],
   "source": [
    "import networkx as nx\n",
    "import numpy as np\n",
    "from collections import Counter"
   ]
  },
  {
   "cell_type": "code",
   "execution_count": 2,
   "metadata": {
    "collapsed": true
   },
   "outputs": [],
   "source": [
    "def directed_graph_from_tsv(pathname):\n",
    "    file = open(pathname, 'r');\n",
    "    G = nx.DiGraph()\n",
    "    for line in file:\n",
    "        content = line.split('\\t')\n",
    "        u = int(content[0])\n",
    "        Vs = map(lambda v: int(v), content[1].split())\n",
    "        for v in Vs:\n",
    "            G.add_edge(u, v)\n",
    "    file.close()\n",
    "    return G"
   ]
  },
  {
   "cell_type": "code",
   "execution_count": 3,
   "metadata": {
    "collapsed": true
   },
   "outputs": [],
   "source": [
    "# Question for these two functions: is having a maximum number of hopes the right stop criteria?\n",
    "def random_surfer(G, max_hops):\n",
    "    counter = Counter()\n",
    "    u = choice(G.nodes())\n",
    "    for i in range(max_hops):\n",
    "        links = list(G[u].keys())\n",
    "        if len(links) == 0: # Dangling node found!\n",
    "            break\n",
    "        v = choice(links)\n",
    "        counter[v] += 1\n",
    "        u = v\n",
    "    return {page: counter[page] / sum(counter.values()) for page in counter.keys()}"
   ]
  },
  {
   "cell_type": "markdown",
   "metadata": {},
   "source": [
    "#### Exercise 2.13"
   ]
  },
  {
   "cell_type": "code",
   "execution_count": 4,
   "metadata": {
    "collapsed": true
   },
   "outputs": [],
   "source": [
    "def random_surfer_improved(G, max_hops, damping_factor=0.15):\n",
    "    counter = Counter()\n",
    "    u = choice(G.nodes())\n",
    "    for i in range(max_hops):\n",
    "        links = list(G[u].keys())\n",
    "        # if restart or dangling node start at random\n",
    "        if np.random.binomial(1, damping_factor) or len(links) == 0:\n",
    "            v = choice(G.nodes())\n",
    "        else: # choose link at random\n",
    "            v = choice(links)\n",
    "        counter[v] += 1\n",
    "        u = v\n",
    "    return counter"
   ]
  },
  {
   "cell_type": "markdown",
   "metadata": {},
   "source": [
    "---\n",
    "\n",
    "### 2.4.2 Power Iteration Method\n",
    "\n",
    "#### Exercise 2.14: Power Iteration method"
   ]
  },
  {
   "cell_type": "code",
   "execution_count": 7,
   "metadata": {
    "collapsed": false
   },
   "outputs": [],
   "source": [
    "g = directed_graph_from_tsv('../data/components.graph')"
   ]
  },
  {
   "cell_type": "code",
   "execution_count": 8,
   "metadata": {
    "collapsed": false
   },
   "outputs": [
    {
     "data": {
      "text/plain": [
       "[0, 1, 2, 3, 4, 5, 6, 7]"
      ]
     },
     "execution_count": 8,
     "metadata": {},
     "output_type": "execute_result"
    }
   ],
   "source": [
    "g.nodes()"
   ]
  },
  {
   "cell_type": "code",
   "execution_count": 9,
   "metadata": {
    "collapsed": false
   },
   "outputs": [
    {
     "data": {
      "text/plain": [
       "[[1], [2, 3], [0], [2], [5, 6], [6], [7], [4]]"
      ]
     },
     "execution_count": 9,
     "metadata": {},
     "output_type": "execute_result"
    }
   ],
   "source": [
    "g.adjacency_list()"
   ]
  },
  {
   "cell_type": "code",
   "execution_count": 11,
   "metadata": {
    "collapsed": false
   },
   "outputs": [
    {
     "data": {
      "text/plain": [
       "array([[ 0.,  0.,  0.],\n",
       "       [ 0.,  4.,  2.],\n",
       "       [ 0.,  2.,  2.]])"
      ]
     },
     "execution_count": 11,
     "metadata": {},
     "output_type": "execute_result"
    }
   ],
   "source": [
    "nx.degree_mixing_matrix(g, normalized=False)"
   ]
  },
  {
   "cell_type": "code",
   "execution_count": 13,
   "metadata": {
    "collapsed": false
   },
   "outputs": [],
   "source": [
    "def transition_matrix(graph):\n",
    "    H = np.zeros((len(graph), len(graph)))\n",
    "    for u in graph:\n",
    "        out_degree_u = nx.degree(g, u)\n",
    "        for v in graph:\n",
    "            H[u, v] = 1 / out_degree_u if graph.has_edge(u, v) else 0\n",
    "    return H\n",
    "        \n",
    "def GoogleMatrix(graph, theta):\n",
    "    N = len(graph)\n",
    "    H = transition_matrix(graph)\n",
    "    w = nx.degree(g)\n",
    "    w[i > 0] = 1\n",
    "    w = np.reshape(w, (N, 1))\n",
    "    onesT = np.reshape(np.ones(), (1, N))\n",
    "    Hhat = H + (1 / N) (w @ ones)\n",
    "    return theta * Hhat + (1-theta)* (onesT.T @ onesT) / N\n",
    "\n",
    "def PageRank(google_matrix, pi_0):\n",
    "    prev = 0\n",
    "    pi_k = pi_0\n",
    "    while (pi_k != pi_k1):\n",
    "        prev = pi_k\n",
    "        pi_k = pi_k @ google_matrix \n",
    "    return pi_k"
   ]
  },
  {
   "cell_type": "markdown",
   "metadata": {},
   "source": [
    "---\n",
    "\n",
    "### 2.4.3 Gaming the system *(Bonus)*\n",
    "\n",
    "#### Exercise 2.15 *(Bonus)*"
   ]
  },
  {
   "cell_type": "code",
   "execution_count": null,
   "metadata": {
    "collapsed": true
   },
   "outputs": [],
   "source": []
  }
 ],
 "metadata": {
  "anaconda-cloud": {},
  "kernelspec": {
   "display_name": "Python 3",
   "language": "python",
   "name": "python3"
  },
  "language_info": {
   "codemirror_mode": {
    "name": "ipython",
    "version": 3
   },
   "file_extension": ".py",
   "mimetype": "text/x-python",
   "name": "python",
   "nbconvert_exporter": "python",
   "pygments_lexer": "ipython3",
   "version": "3.5.2"
  }
 },
 "nbformat": 4,
 "nbformat_minor": 2
}
