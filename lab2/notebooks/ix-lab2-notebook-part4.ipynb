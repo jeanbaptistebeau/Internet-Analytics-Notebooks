{
 "cells": [
  {
   "cell_type": "markdown",
   "metadata": {},
   "source": [
    "# Networks: structure, evolution & processes\n",
    "**Internet Analytics - Lab 2**\n",
    "\n",
    "---\n",
    "\n",
    "**Group:** B\n",
    "\n",
    "**Names:**\n",
    "\n",
    "* Vincenzo Bazzucchi\n",
    "* Amaury Combes\n",
    "* Alexis Montavon\n",
    "\n",
    "---\n",
    "\n",
    "#### Instructions\n",
    "\n",
    "*This is a template for part 4 of the lab. Clearly write your answers, comments and interpretations in Markodown cells. Don't forget that you can add $\\LaTeX$ equations in these cells. Feel free to add or remove any cell.*\n",
    "\n",
    "*Please properly comment your code. Code readability will be considered for grading. To avoid long cells of codes in the notebook, you can also embed long python functions and classes in a separate module. Don’t forget to hand in your module if that is the case. In multiple exercises, you are required to come up with your own method to solve various problems. Be creative and clearly motivate and explain your methods. Creativity and clarity will be considered for grading.*"
   ]
  },
  {
   "cell_type": "code",
   "execution_count": 2,
   "metadata": {
    "collapsed": true
   },
   "outputs": [],
   "source": [
    "import networkx as nx\n",
    "import numpy as np\n",
    "from random import choice\n",
    "from collections import Counter"
   ]
  },
  {
   "cell_type": "code",
   "execution_count": 3,
   "metadata": {
    "collapsed": true
   },
   "outputs": [],
   "source": [
    "def directed_graph_from_tsv(pathname):\n",
    "    file = open(pathname, 'r');\n",
    "    G = nx.DiGraph()\n",
    "    for line in file:\n",
    "        content = line.split('\\t')\n",
    "        u = int(content[0])\n",
    "        adjacent_nodes = map(lambda v: int(v), content[1].split())\n",
    "        for v in adjacent_nodes:\n",
    "            G.add_edge(u, v)\n",
    "    file.close()\n",
    "    return G"
   ]
  },
  {
   "cell_type": "code",
   "execution_count": 4,
   "metadata": {
    "collapsed": true
   },
   "outputs": [],
   "source": [
    "# Question for these two functions: is having a maximum number of hopes the right stop criteria?\n",
    "def random_surfer(G, max_hops=100):\n",
    "    counter = Counter()\n",
    "    u = choice(G.nodes())\n",
    "    for i in range(max_hops):\n",
    "        links = list(G[u].keys())\n",
    "        if len(links) == 0: # Dangling node found!\n",
    "            break\n",
    "        v = choice(links)\n",
    "        counter[v] += 1\n",
    "        u = v\n",
    "    return {page: counter[page] / sum(counter.values()) for page in counter.keys()}"
   ]
  },
  {
   "cell_type": "code",
   "execution_count": 5,
   "metadata": {
    "collapsed": false
   },
   "outputs": [],
   "source": [
    "components = directed_graph_from_tsv('../data/components.graph')\n",
    "absorbing = directed_graph_from_tsv('../data/absorbing.graph')"
   ]
  },
  {
   "cell_type": "code",
   "execution_count": 6,
   "metadata": {
    "collapsed": false
   },
   "outputs": [
    {
     "name": "stdout",
     "output_type": "stream",
     "text": [
      "4.0 % of nodes was visited\n"
     ]
    }
   ],
   "source": [
    "N_SIMUL = 10000\n",
    "visited_nodes_p = 0\n",
    "for i in range(N_SIMUL):\n",
    "    visited_nodes_p += len(random_surfer(components))\n",
    "print(visited_nodes_p / N_SIMUL, '% of nodes was visited')"
   ]
  },
  {
   "cell_type": "code",
   "execution_count": 7,
   "metadata": {
    "collapsed": false
   },
   "outputs": [
    {
     "name": "stdout",
     "output_type": "stream",
     "text": [
      "1.607 % of nodes was visited\n"
     ]
    }
   ],
   "source": [
    "N_SIMUL = 10000\n",
    "visited_nodes_p = 0\n",
    "for i in range(N_SIMUL):\n",
    "    visited_nodes_p += len(random_surfer(absorbing))\n",
    "print(visited_nodes_p / N_SIMUL, '% of nodes was visited')"
   ]
  },
  {
   "cell_type": "markdown",
   "metadata": {},
   "source": [
    "We observe that even if the num ber of maximal hops is quite large, the number of visited nodes stays small.\n",
    "This behavior is probably caused by dangling nodes."
   ]
  },
  {
   "cell_type": "markdown",
   "metadata": {},
   "source": [
    "#### Exercise 2.13"
   ]
  },
  {
   "cell_type": "code",
   "execution_count": 8,
   "metadata": {
    "collapsed": true
   },
   "outputs": [],
   "source": [
    "def random_surfer_improved(G, max_hops=100, damping_factor=0.15):\n",
    "    counter = Counter()\n",
    "    u = choice(G.nodes())\n",
    "    for i in range(max_hops):\n",
    "        links = list(G[u].keys())\n",
    "        # if restart or dangling node start at random\n",
    "        if np.random.binomial(1, damping_factor) or len(links) == 0:\n",
    "            v = choice(G.nodes())\n",
    "        else: # choose link at random\n",
    "            v = choice(links)\n",
    "        counter[v] += 1\n",
    "        u = v\n",
    "    return counter"
   ]
  },
  {
   "cell_type": "code",
   "execution_count": 9,
   "metadata": {
    "collapsed": false
   },
   "outputs": [
    {
     "name": "stdout",
     "output_type": "stream",
     "text": [
      "7.9894 % of nodes was visited\n"
     ]
    }
   ],
   "source": [
    "N_SIMUL = 10000\n",
    "visited_nodes_p = 0\n",
    "for i in range(N_SIMUL):\n",
    "    visited_nodes_p += len(random_surfer_improved(components))\n",
    "print(visited_nodes_p / N_SIMUL, '% of nodes was visited')"
   ]
  },
  {
   "cell_type": "code",
   "execution_count": 10,
   "metadata": {
    "collapsed": false
   },
   "outputs": [
    {
     "name": "stdout",
     "output_type": "stream",
     "text": [
      "4.0 % of nodes was visited\n"
     ]
    }
   ],
   "source": [
    "N_SIMUL = 10000\n",
    "visited_nodes_p = 0\n",
    "for i in range(N_SIMUL):\n",
    "    visited_nodes_p += len(random_surfer(components))\n",
    "print(visited_nodes_p / N_SIMUL, '% of nodes was visited')"
   ]
  },
  {
   "cell_type": "code",
   "execution_count": 11,
   "metadata": {
    "collapsed": true
   },
   "outputs": [],
   "source": [
    "#Do you think that the PageRank scores make intuitive sense?"
   ]
  },
  {
   "cell_type": "markdown",
   "metadata": {},
   "source": [
    "---\n",
    "\n",
    "### 2.4.2 Power Iteration Method\n",
    "\n",
    "#### Exercise 2.14: Power Iteration method"
   ]
  },
  {
   "cell_type": "code",
   "execution_count": 66,
   "metadata": {
    "collapsed": false
   },
   "outputs": [],
   "source": [
    "g = directed_graph_from_tsv('../data/wikipedia.graph')"
   ]
  },
  {
   "cell_type": "code",
   "execution_count": 124,
   "metadata": {
    "collapsed": false
   },
   "outputs": [],
   "source": [
    "def transition_matrix(graph):\n",
    "    #H = np.zeros((len(graph), len(graph))) # I DO NOT UNDERSTAND WHY I GET INDEX ERROR\n",
    "    H = []\n",
    "    for u in graph.nodes():\n",
    "        out_degree_u = nx.degree(g, u)\n",
    "        line = []\n",
    "        for v in graph.nodes():\n",
    "            #H[u, v] = 1 / out_degree_u if graph.has_edge(u, v) else 0 #SEE ABOVE\n",
    "            line.append(1 / out_degree_u if graph.has_edge(u, v) else 0)\n",
    "        H.append(line)\n",
    "    return np.matrix(H)\n",
    "\n",
    "def GoogleMatrix(graph, theta):\n",
    "    N = len(graph)\n",
    "    H = transition_matrix(graph)\n",
    "    w = np.reshape(np.array([1 if nx.degree(g, node) == 0 else 0 for node in graph]), (N, 1))\n",
    "    onesT = np.ones((1, N))\n",
    "    Hhat = H + (1 / N) * (w @ onesT)\n",
    "    return theta * Hhat + (1-theta) * (onesT.T @ onesT) / N\n",
    "\n",
    "def PageRank(google_matrix, pi_0, max_iter = np.inf):\n",
    "    prev = np.zeros(pi_0.shape)\n",
    "    curr = pi_0\n",
    "    niter = 0\n",
    "    #while not np.allclose(curr, prev, atol=0.001) and niter < max_iter: # atol has impact on result\n",
    "    # Find smarter way to solve the convergence after lecture about it.\n",
    "    while not np.allclose(curr, prev) and niter < max_iter:\n",
    "        prev = curr\n",
    "        curr = curr @ google_matrix\n",
    "        niter += 1\n",
    "    print(\"Converged in\", niter, \"steps\")\n",
    "    return curr"
   ]
  },
  {
   "cell_type": "code",
   "execution_count": 125,
   "metadata": {
    "collapsed": false,
    "scrolled": true
   },
   "outputs": [
    {
     "name": "stdout",
     "output_type": "stream",
     "text": [
      "Converged in 23 steps\n"
     ]
    }
   ],
   "source": [
    "GM = GoogleMatrix(g, 0.85)\n",
    "r = PageRank(GM, np.array([1 / len(g) for el in g]))"
   ]
  },
  {
   "cell_type": "code",
   "execution_count": 126,
   "metadata": {
    "collapsed": false
   },
   "outputs": [
    {
     "data": {
      "text/plain": [
       "matrix([[  2.02194202e-10,   7.95270291e-11,   2.29012956e-10, ...,\n",
       "           9.39515018e-11,   8.46681717e-11,   1.28788152e-10]])"
      ]
     },
     "execution_count": 126,
     "metadata": {},
     "output_type": "execute_result"
    }
   ],
   "source": [
    "r"
   ]
  },
  {
   "cell_type": "code",
   "execution_count": 106,
   "metadata": {
    "collapsed": false
   },
   "outputs": [
    {
     "data": {
      "text/plain": [
       "5536"
      ]
     },
     "execution_count": 106,
     "metadata": {},
     "output_type": "execute_result"
    }
   ],
   "source": [
    "len(g)"
   ]
  },
  {
   "cell_type": "markdown",
   "metadata": {},
   "source": [
    "---\n",
    "\n",
    "### 2.4.3 Gaming the system *(Bonus)*\n",
    "\n",
    "#### Exercise 2.15 *(Bonus)*"
   ]
  },
  {
   "cell_type": "code",
   "execution_count": null,
   "metadata": {
    "collapsed": true
   },
   "outputs": [],
   "source": []
  }
 ],
 "metadata": {
  "anaconda-cloud": {},
  "kernelspec": {
   "display_name": "Python [Root]",
   "language": "python",
   "name": "Python [Root]"
  },
  "language_info": {
   "codemirror_mode": {
    "name": "ipython",
    "version": 3
   },
   "file_extension": ".py",
   "mimetype": "text/x-python",
   "name": "python",
   "nbconvert_exporter": "python",
   "pygments_lexer": "ipython3",
   "version": "3.5.2"
  }
 },
 "nbformat": 4,
 "nbformat_minor": 2
}
