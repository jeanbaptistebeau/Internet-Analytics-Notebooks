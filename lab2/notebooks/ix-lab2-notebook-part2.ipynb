{
 "cells": [
  {
   "cell_type": "markdown",
   "metadata": {},
   "source": [
    "# Networks: structure, evolution & processes\n",
    "**Internet Analytics - Lab 2**\n",
    "\n",
    "---\n",
    "\n",
    "**Group:** *Your group letter.*\n",
    "\n",
    "**Names:**\n",
    "\n",
    "* *Name 1*\n",
    "* *Name 2*\n",
    "* *Name 3*\n",
    "\n",
    "---\n",
    "\n",
    "#### Instructions\n",
    "\n",
    "*This is a template for part 2 of the lab. Clearly write your answers, comments and interpretations in Markodown cells. Don't forget that you can add $\\LaTeX$ equations in these cells. Feel free to add or remove any cell.*\n",
    "\n",
    "*Please properly comment your code. Code readability will be considered for grading. To avoid long cells of codes in the notebook, you can also embed long python functions and classes in a separate module. Don’t forget to hand in your module if that is the case. In multiple exercises, you are required to come up with your own method to solve various problems. Be creative and clearly motivate and explain your methods. Creativity and clarity will be considered for grading.*"
   ]
  },
  {
   "cell_type": "code",
   "execution_count": 5,
   "metadata": {
    "collapsed": true
   },
   "outputs": [],
   "source": [
    "import requests\n",
    "from random import randint"
   ]
  },
  {
   "cell_type": "markdown",
   "metadata": {},
   "source": [
    "---\n",
    "\n",
    "## 2.2 Network sampling\n",
    "\n",
    "#### Exercise 2.7: Random walk on the Facebook network"
   ]
  },
  {
   "cell_type": "code",
   "execution_count": 44,
   "metadata": {
    "collapsed": true
   },
   "outputs": [],
   "source": [
    "# Base url of the API\n",
    "URL_TEMPLATE = 'http://iccluster118.iccluster.epfl.ch:5050/v1.0/facebook?user={user_id}'"
   ]
  },
  {
   "cell_type": "code",
   "execution_count": 45,
   "metadata": {
    "collapsed": false
   },
   "outputs": [],
   "source": [
    "def naiveRandomWalkAge(steps, first_id):\n",
    "    #Initial setup\n",
    "    cid = first_id\n",
    "    ageStack = 0\n",
    "    \n",
    "    for i in range(steps): \n",
    "        \n",
    "        #Get current id information from server\n",
    "        url = URL_TEMPLATE.format(user_id=cid)\n",
    "        response = requests.get(url)\n",
    "        data = response.json()\n",
    "        \n",
    "        #Add current age to stack\n",
    "        ageStack += data['age']\n",
    "        \n",
    "        #Choose randomly next friend\n",
    "        friends = data['friends']\n",
    "        nextFriendIndex = randint(0, len(friends) - 1)\n",
    "        cid = friends[nextFriendIndex]\n",
    "    \n",
    "    return (ageStack / steps)    "
   ]
  },
  {
   "cell_type": "code",
   "execution_count": 47,
   "metadata": {
    "collapsed": false
   },
   "outputs": [
    {
     "data": {
      "text/plain": [
       "22.166"
      ]
     },
     "execution_count": 47,
     "metadata": {},
     "output_type": "execute_result"
    }
   ],
   "source": [
    "naiveRandomWalkAge(1000, 'f30ff3966f16ed62f5165a229a19b319')"
   ]
  },
  {
   "cell_type": "markdown",
   "metadata": {},
   "source": [
    "#### Exercise 2.8"
   ]
  },
  {
   "cell_type": "code",
   "execution_count": 59,
   "metadata": {
    "collapsed": true
   },
   "outputs": [],
   "source": [
    "def betterRandomWalkAge(steps, first_id):\n",
    "    #Initial setup\n",
    "    cid = first_id\n",
    "    ageStack = 0\n",
    "    denom = 0\n",
    "    \n",
    "    for i in range(steps): \n",
    "        \n",
    "        #Get current id information from server\n",
    "        url = URL_TEMPLATE.format(user_id=cid)\n",
    "        response = requests.get(url)\n",
    "        data = response.json()\n",
    "        \n",
    "        #Choose randomly next friend\n",
    "        friends = data['friends']\n",
    "        nextFriendIndex = randint(0, len(friends) - 1)\n",
    "        cid = friends[nextFriendIndex]\n",
    "        \n",
    "        #Add current age to stack\n",
    "        ageStack += data['age'] / len(friends)\n",
    "        denom += 1 / len(friends)\n",
    "    \n",
    "    return (ageStack / denom)  "
   ]
  },
  {
   "cell_type": "code",
   "execution_count": 60,
   "metadata": {
    "collapsed": false
   },
   "outputs": [
    {
     "data": {
      "text/plain": [
       "36.04232420078446"
      ]
     },
     "execution_count": 60,
     "metadata": {},
     "output_type": "execute_result"
    }
   ],
   "source": [
    "betterRandomWalkAge(100, 'f30ff3966f16ed62f5165a229a19b319')"
   ]
  },
  {
   "cell_type": "code",
   "execution_count": null,
   "metadata": {
    "collapsed": true
   },
   "outputs": [],
   "source": []
  }
 ],
 "metadata": {
  "anaconda-cloud": {},
  "kernelspec": {
   "display_name": "Python [default]",
   "language": "python",
   "name": "python3"
  },
  "language_info": {
   "codemirror_mode": {
    "name": "ipython",
    "version": 3
   },
   "file_extension": ".py",
   "mimetype": "text/x-python",
   "name": "python",
   "nbconvert_exporter": "python",
   "pygments_lexer": "ipython3",
   "version": "3.5.2"
  }
 },
 "nbformat": 4,
 "nbformat_minor": 2
}
