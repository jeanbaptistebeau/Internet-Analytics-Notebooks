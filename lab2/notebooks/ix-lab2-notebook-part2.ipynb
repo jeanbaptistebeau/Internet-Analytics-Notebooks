{
 "cells": [
  {
   "cell_type": "markdown",
   "metadata": {},
   "source": [
    "# Networks: structure, evolution & processes\n",
    "**Internet Analytics - Lab 2**\n",
    "\n",
    "---\n",
    "\n",
    "**Group:** *Your group letter.*\n",
    "\n",
    "**Names:**\n",
    "\n",
    "* *Name 1*\n",
    "* *Name 2*\n",
    "* *Name 3*\n",
    "\n",
    "---\n",
    "\n",
    "#### Instructions\n",
    "\n",
    "*This is a template for part 2 of the lab. Clearly write your answers, comments and interpretations in Markodown cells. Don't forget that you can add $\\LaTeX$ equations in these cells. Feel free to add or remove any cell.*\n",
    "\n",
    "*Please properly comment your code. Code readability will be considered for grading. To avoid long cells of codes in the notebook, you can also embed long python functions and classes in a separate module. Don’t forget to hand in your module if that is the case. In multiple exercises, you are required to come up with your own method to solve various problems. Be creative and clearly motivate and explain your methods. Creativity and clarity will be considered for grading.*"
   ]
  },
  {
   "cell_type": "code",
   "execution_count": 1,
   "metadata": {
    "collapsed": true
   },
   "outputs": [],
   "source": [
    "import requests\n",
    "from random import randint"
   ]
  },
  {
   "cell_type": "markdown",
   "metadata": {},
   "source": [
    "---\n",
    "\n",
    "## 2.2 Network sampling\n",
    "\n",
    "#### Exercise 2.7: Random walk on the Facebook network"
   ]
  },
  {
   "cell_type": "code",
   "execution_count": 5,
   "metadata": {
    "collapsed": true
   },
   "outputs": [],
   "source": [
    "# Base url of the API\n",
    "URL_TEMPLATE = 'http://iccluster118.iccluster.epfl.ch:5050/v1.0/facebook?user={user_id}'"
   ]
  },
  {
   "cell_type": "code",
   "execution_count": 6,
   "metadata": {
    "collapsed": false
   },
   "outputs": [],
   "source": [
    "def naiveRandomWalkAge(steps, first_id):\n",
    "    #Initial setup\n",
    "    cid = first_id\n",
    "    ageStack = 0\n",
    "    \n",
    "    for i in range(steps): \n",
    "        \n",
    "        #Get current id information from server\n",
    "        url = URL_TEMPLATE.format(user_id=cid)\n",
    "        response = requests.get(url)\n",
    "        data = response.json()\n",
    "        \n",
    "        #Add current age to stack\n",
    "        ageStack += data['age']\n",
    "        \n",
    "        #Choose randomly next friend\n",
    "        friends = data['friends']\n",
    "        nextFriendIndex = randint(0, len(friends) - 1)\n",
    "        cid = friends[nextFriendIndex]\n",
    "    \n",
    "    return (ageStack / steps)    "
   ]
  },
  {
   "cell_type": "code",
   "execution_count": 7,
   "metadata": {
    "collapsed": false
   },
   "outputs": [
    {
     "data": {
      "text/plain": [
       "25.52"
      ]
     },
     "execution_count": 7,
     "metadata": {},
     "output_type": "execute_result"
    }
   ],
   "source": [
    "naiveRandomWalkAge(1000, 'f30ff3966f16ed62f5165a229a19b319')"
   ]
  },
  {
   "cell_type": "markdown",
   "metadata": {},
   "source": [
    "From the previous algorithm, we can see that visiting 1000 nodes gave us an average age of 25.52"
   ]
  },
  {
   "cell_type": "markdown",
   "metadata": {},
   "source": [
    "#### Exercise 2.8"
   ]
  },
  {
   "cell_type": "markdown",
   "metadata": {},
   "source": [
    "1) Knowing that the average age on facebook is 43.3, we can see that our estimation is not accurate (more than 17 years difference!)."
   ]
  },
  {
   "cell_type": "markdown",
   "metadata": {},
   "source": [
    "2) This can be explained by the fact that younger people might add others more easily on facebook. Thus their average degree is superior to the one of older people which explains why our random walk is completely biased. As seen in class, the random walk sees uniformly random edges which implies that nodes are biased by their number of edges. "
   ]
  },
  {
   "cell_type": "markdown",
   "metadata": {},
   "source": [
    "3) In order to have a better estimation, we can adjust our estimator to make it unbiased. This can be done using the formula seen in class when the total number of nodes and edges in the network is not known. "
   ]
  },
  {
   "cell_type": "code",
   "execution_count": 8,
   "metadata": {
    "collapsed": true
   },
   "outputs": [],
   "source": [
    "def betterRandomWalkAge(steps, first_id):\n",
    "    #Initial setup\n",
    "    cid = first_id\n",
    "    ageStack = 0\n",
    "    denom = 0\n",
    "    \n",
    "    for i in range(steps): \n",
    "        \n",
    "        #Get current id information from server\n",
    "        url = URL_TEMPLATE.format(user_id=cid)\n",
    "        response = requests.get(url)\n",
    "        data = response.json()\n",
    "        \n",
    "        #Choose randomly next friend\n",
    "        friends = data['friends']\n",
    "        nextFriendIndex = randint(0, len(friends) - 1)\n",
    "        cid = friends[nextFriendIndex]\n",
    "        \n",
    "        #Add current age to stack\n",
    "        ageStack += data['age'] / len(friends)\n",
    "        denom += 1 / len(friends)\n",
    "    \n",
    "    return (ageStack / denom)  "
   ]
  },
  {
   "cell_type": "code",
   "execution_count": 9,
   "metadata": {
    "collapsed": false
   },
   "outputs": [
    {
     "data": {
      "text/plain": [
       "42.810953634965784"
      ]
     },
     "execution_count": 9,
     "metadata": {},
     "output_type": "execute_result"
    }
   ],
   "source": [
    "betterRandomWalkAge(1000, 'f30ff3966f16ed62f5165a229a19b319')"
   ]
  },
  {
   "cell_type": "markdown",
   "metadata": {
    "collapsed": true
   },
   "source": [
    "Now our estimator yields an average age of 42.8 while visiting the same number of nodes compare to the previous algorithm. This is quite close from reality."
   ]
  },
  {
   "cell_type": "code",
   "execution_count": null,
   "metadata": {
    "collapsed": true
   },
   "outputs": [],
   "source": []
  }
 ],
 "metadata": {
  "anaconda-cloud": {},
  "kernelspec": {
   "display_name": "Python [default]",
   "language": "python",
   "name": "python3"
  },
  "language_info": {
   "codemirror_mode": {
    "name": "ipython",
    "version": 3
   },
   "file_extension": ".py",
   "mimetype": "text/x-python",
   "name": "python",
   "nbconvert_exporter": "python",
   "pygments_lexer": "ipython3",
   "version": "3.5.2"
  }
 },
 "nbformat": 4,
 "nbformat_minor": 2
}
