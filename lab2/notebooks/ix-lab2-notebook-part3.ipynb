{
 "cells": [
  {
   "cell_type": "markdown",
   "metadata": {},
   "source": [
    "# Networks: structure, evolution & processes\n",
    "**Internet Analytics - Lab 2**\n",
    "\n",
    "---\n",
    "\n",
    "**Group:** *Your group letter.*\n",
    "\n",
    "**Names:**\n",
    "\n",
    "* *Name 1*\n",
    "* *Name 2*\n",
    "* *Name 3*\n",
    "\n",
    "---\n",
    "\n",
    "#### Instructions\n",
    "\n",
    "*This is a template for part 3 of the lab. Clearly write your answers, comments and interpretations in Markodown cells. Don't forget that you can add $\\LaTeX$ equations in these cells. Feel free to add or remove any cell.*\n",
    "\n",
    "*Please properly comment your code. Code readability will be considered for grading. To avoid long cells of codes in the notebook, you can also embed long python functions and classes in a separate module. Don’t forget to hand in your module if that is the case. In multiple exercises, you are required to come up with your own method to solve various problems. Be creative and clearly motivate and explain your methods. Creativity and clarity will be considered for grading.*"
   ]
  },
  {
   "cell_type": "markdown",
   "metadata": {},
   "source": [
    "---\n",
    "\n",
    "## 2.3 Epdemics\n",
    "\n",
    "#### Exercise 2.9: Simulate an epidemic outbreak"
   ]
  },
  {
   "cell_type": "code",
   "execution_count": 41,
   "metadata": {
    "collapsed": true
   },
   "outputs": [],
   "source": [
    "import networkx as nx\n",
    "import json\n",
    "import epidemics_helper\n",
    "import numpy as np\n",
    "import matplotlib.pyplot as plt\n",
    "%matplotlib inline\n",
    "%config InlineBackend.figure_format='retina'"
   ]
  },
  {
   "cell_type": "code",
   "execution_count": 29,
   "metadata": {
    "collapsed": false
   },
   "outputs": [],
   "source": [
    "# Import the data\n",
    "def graph_from_json(pathname):\n",
    "    json_file = open(pathname, 'r')\n",
    "    data = json.load(json_file)\n",
    "    json_file.close()\n",
    "    G = nx.Graph()\n",
    "    for node in data['nodes']:\n",
    "        G.add_node(node['id'], coordinates=node['coordinates'])\n",
    "    for edge in data['links']:\n",
    "        G.add_edge(edge['source'], edge['target'])\n",
    "    return G"
   ]
  },
  {
   "cell_type": "code",
   "execution_count": 30,
   "metadata": {
    "collapsed": false
   },
   "outputs": [],
   "source": [
    "G = graph_from_json('../data/nyc_augmented_network.json')"
   ]
  },
  {
   "cell_type": "code",
   "execution_count": 31,
   "metadata": {
    "collapsed": true
   },
   "outputs": [],
   "source": [
    "beta = 10.0\n",
    "gamma = 0.1\n",
    "max_time = 100.0\n",
    "sir = epidemics_helper.SimulationSIR(G, beta=beta, gamma=gamma)"
   ]
  },
  {
   "cell_type": "code",
   "execution_count": 32,
   "metadata": {
    "collapsed": false
   },
   "outputs": [
    {
     "name": "stdout",
     "output_type": "stream",
     "text": [
      "Epidemic stopped after 100.46 days | 100.46 days elapsed | 0.1% susceptible, 0.0% infected, 99.9% recovered\n"
     ]
    }
   ],
   "source": [
    "sir.launch_epidemic(source=23654, max_time=max_time)"
   ]
  },
  {
   "cell_type": "code",
   "execution_count": 53,
   "metadata": {
    "collapsed": false
   },
   "outputs": [],
   "source": [
    "# Do you agree?\n",
    "infected_by_day = np.zeros(110)\n",
    "recovered_by_day = np.zeros(110)\n",
    "n = len(G)\n",
    "for node in range(n):\n",
    "    infection_time = sir.inf_time[node]\n",
    "    if infection_time != np.inf:\n",
    "        infected_by_day[int(infection_time)] += 1\n",
    "    recover_time = sir.rec_time[node]\n",
    "    if recover_time != np.inf:\n",
    "        recovered_by_day[int(recover_time)] += 1\n",
    "infected_by_day = (100. * infected_by_day) / n\n",
    "recovered_by_day = (100. * recovered_by_day) / n"
   ]
  },
  {
   "cell_type": "code",
   "execution_count": 50,
   "metadata": {
    "collapsed": false,
    "scrolled": true
   },
   "outputs": [
    {
     "data": {
      "text/plain": [
       "[<matplotlib.lines.Line2D at 0x7fdfb724ec18>]"
      ]
     },
     "execution_count": 50,
     "metadata": {},
     "output_type": "execute_result"
    },
    {
     "data": {
      "image/png": "[encoded data removed]",
      "text/plain": [
       "<matplotlib.figure.Figure at 0x7fdfb724ee10>"
      ]
     },
     "metadata": {
      "image/png": {
       "height": 255,
       "width": 375
      }
     },
     "output_type": "display_data"
    }
   ],
   "source": [
    "plt.plot(infected_by_day, 'r')\n",
    "plt.plot(recovered_by_day, 'b')\n",
    "# Missing susceptible by time"
   ]
  },
  {
   "cell_type": "markdown",
   "metadata": {},
   "source": [
    "---\n",
    "\n",
    "### 2.3.1 Stop the apocalypse!\n",
    "\n",
    "#### Exercise 2.10: Strategy 1"
   ]
  },
  {
   "cell_type": "code",
   "execution_count": null,
   "metadata": {
    "collapsed": true
   },
   "outputs": [],
   "source": []
  },
  {
   "cell_type": "markdown",
   "metadata": {},
   "source": [
    "#### Exercise 2.11: Strategy 2"
   ]
  },
  {
   "cell_type": "code",
   "execution_count": null,
   "metadata": {
    "collapsed": true
   },
   "outputs": [],
   "source": []
  }
 ],
 "metadata": {
  "anaconda-cloud": {},
  "kernelspec": {
   "display_name": "Python [Root]",
   "language": "python",
   "name": "Python [Root]"
  },
  "language_info": {
   "codemirror_mode": {
    "name": "ipython",
    "version": 3
   },
   "file_extension": ".py",
   "mimetype": "text/x-python",
   "name": "python",
   "nbconvert_exporter": "python",
   "pygments_lexer": "ipython3",
   "version": "3.5.2"
  }
 },
 "nbformat": 4,
 "nbformat_minor": 2
}
