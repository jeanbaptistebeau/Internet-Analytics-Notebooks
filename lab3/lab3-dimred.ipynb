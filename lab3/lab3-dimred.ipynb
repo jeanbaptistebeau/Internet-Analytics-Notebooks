{
 "cells": [
  {
   "cell_type": "markdown",
   "metadata": {},
   "source": [
    "# Lab 3 — Dimensionality reduction"
   ]
  },
  {
   "cell_type": "code",
   "execution_count": 1,
   "metadata": {
    "collapsed": true
   },
   "outputs": [],
   "source": [
    "import json\n",
    "import matplotlib.pyplot as plt\n",
    "import numpy as np\n",
    "import numpy.linalg as la\n",
    "\n",
    "from operator import itemgetter\n",
    "\n",
    "%matplotlib inline\n",
    "plt.style.use(\"ggplot\")"
   ]
  },
  {
   "cell_type": "code",
   "execution_count": 2,
   "metadata": {
    "collapsed": false
   },
   "outputs": [
    {
     "name": "stdout",
     "output_type": "stream",
     "text": [
      "{\"relevance\": 0.11449999999999999, \"tagId\": 1127, \"movieId\": 131170}\n",
      "{\"relevance\": 0.02174999999999999, \"tagId\": 1128, \"movieId\": 131170}\n",
      "{\"tagId\": 1127, \"tag\": \"zombie\"}\n",
      "{\"tagId\": 1128, \"tag\": \"zombies\"}\n"
     ]
    }
   ],
   "source": [
    "!hdfs dfs -cat /ix/ml-20m/genome-scores.txt | tail -n 2\n",
    "!hdfs dfs -cat /ix/ml-20m/genome-tags.txt | tail -n 2"
   ]
  },
  {
   "cell_type": "code",
   "execution_count": 9,
   "metadata": {
    "collapsed": false
   },
   "outputs": [],
   "source": [
    "scores = sc.textFile(\"/ix/ml-20m/genome-scores.txt\").map(json.loads)\n",
    "movies = sc.textFile(\"/ix/ml-20m/movies.txt\").map(json.loads)\n",
    "tags = sc.textFile(\"/ix/ml-20m/genome-tags.txt\").map(json.loads)"
   ]
  },
  {
   "cell_type": "markdown",
   "metadata": {
    "collapsed": true
   },
   "source": [
    "### Exercise 3.1"
   ]
  },
  {
   "cell_type": "code",
   "execution_count": 10,
   "metadata": {
    "collapsed": false,
    "scrolled": true
   },
   "outputs": [],
   "source": [
    "from collections import OrderedDict\n",
    "tag_to_movies_relevances = scores.map(lambda j: (j['tagId'], (j['movieId'], j['relevance'])))\\\n",
    "                                 .groupByKey()\\\n",
    "                                 .mapValues(lambda ls: list(ls))\\\n",
    "                                 .sortByKey()\\\n",
    "                                 .cache()"
   ]
  },
  {
   "cell_type": "markdown",
   "metadata": {},
   "source": [
    "#### Exploring the scores data"
   ]
  },
  {
   "cell_type": "code",
   "execution_count": 11,
   "metadata": {
    "collapsed": false
   },
   "outputs": [
    {
     "data": {
      "text/plain": [
       "True"
      ]
     },
     "execution_count": 11,
     "metadata": {},
     "output_type": "execute_result"
    }
   ],
   "source": [
    "seqOp = lambda accTup, entry: (min(accTup[0], len(entry[1])), max(accTup[0], len(entry[1])))\n",
    "combOp = lambda tup1, tup2: (min(tup1[0], tup2[0]), max(tup1[1], tup2[1]))\n",
    "minV, maxV = tag_to_movies_relevances.aggregate((movies.count(), 0), seqOp, combOp)\n",
    "minV == maxV"
   ]
  },
  {
   "cell_type": "markdown",
   "metadata": {},
   "source": [
    "We checked that all the tags are associated to the same number of movies. As the minimum number of movies per tag is equal to the maximum, each movie has a relevance for every tag: the data is not sparse (we did not consider movies without tags)"
   ]
  },
  {
   "cell_type": "code",
   "execution_count": 12,
   "metadata": {
    "collapsed": false
   },
   "outputs": [
    {
     "data": {
      "text/plain": [
       "0"
      ]
     },
     "execution_count": 12,
     "metadata": {},
     "output_type": "execute_result"
    }
   ],
   "source": [
    "sc.parallelize(list(range(1, tag_to_movies_relevances.count() + 1)))\\\n",
    "  .subtract(tag_to_movies_relevances.keys()).count()"
   ]
  },
  {
   "cell_type": "markdown",
   "metadata": {},
   "source": [
    "We checked that the tag ids are sequential integers from $1$ to $max(tagId)$. Therefore we know how to retrieve a tag from the matrix: $tagId = rowNumber + 1$.\n",
    "\n",
    "Let's build the matrix:"
   ]
  },
  {
   "cell_type": "code",
   "execution_count": 13,
   "metadata": {
    "collapsed": false
   },
   "outputs": [],
   "source": [
    "rows = tag_to_movies_relevances.map(lambda el: [c[1] for c in sorted(el[1], key=lambda t: t[0])])\n",
    "M = np.matrix(rows.collect())"
   ]
  },
  {
   "cell_type": "markdown",
   "metadata": {},
   "source": [
    "Remark that we collect a list of lists. We could use PySparks mllib.linalg to build Vectors and Matrices. However this module uses numpy arrays and matrices on a single machine, therefore this makes no difference.\n",
    "\n",
    "We compute the matrix $M$\n"
   ]
  },
  {
   "cell_type": "code",
   "execution_count": 14,
   "metadata": {
    "collapsed": false
   },
   "outputs": [
    {
     "data": {
      "text/plain": [
       "(1128, 10381)"
      ]
     },
     "execution_count": 14,
     "metadata": {},
     "output_type": "execute_result"
    }
   ],
   "source": [
    "M.shape"
   ]
  },
  {
   "cell_type": "code",
   "execution_count": 15,
   "metadata": {
    "collapsed": false
   },
   "outputs": [
    {
     "data": {
      "text/plain": [
       "1128"
      ]
     },
     "execution_count": 15,
     "metadata": {},
     "output_type": "execute_result"
    }
   ],
   "source": [
    "tags.count()"
   ]
  },
  {
   "cell_type": "markdown",
   "metadata": {},
   "source": [
    "We have a $M \\times N$ matrix where $M$ is the number of tags and $N$ is the number of movies"
   ]
  },
  {
   "cell_type": "markdown",
   "metadata": {},
   "source": [
    "Let's center the matrix:"
   ]
  },
  {
   "cell_type": "code",
   "execution_count": 16,
   "metadata": {
    "collapsed": false
   },
   "outputs": [],
   "source": [
    "M = M - np.mean(M, axis=1)"
   ]
  },
  {
   "cell_type": "markdown",
   "metadata": {},
   "source": [
    "#### Question A"
   ]
  },
  {
   "cell_type": "code",
   "execution_count": 17,
   "metadata": {
    "collapsed": false
   },
   "outputs": [
    {
     "data": {
      "text/plain": [
       "<matplotlib.text.Text at 0x7fac4e4a37f0>"
      ]
     },
     "execution_count": 17,
     "metadata": {},
     "output_type": "execute_result"
    },
    {
     "data": {
      "image/png": "[encoded data removed]",
      "text/plain": [
       "<matplotlib.figure.Figure at 0x7fac680a7cc0>"
      ]
     },
     "metadata": {},
     "output_type": "display_data"
    }
   ],
   "source": [
    "plt.plot(sorted(np.ravel(np.var(M, axis=0)), key=lambda x: -x))\n",
    "plt.title('Variance distribution of the movies')"
   ]
  },
  {
   "cell_type": "code",
   "execution_count": 18,
   "metadata": {
    "collapsed": false
   },
   "outputs": [
    {
     "data": {
      "text/plain": [
       "<matplotlib.text.Text at 0x7fac6b149e80>"
      ]
     },
     "execution_count": 18,
     "metadata": {},
     "output_type": "execute_result"
    },
    {
     "data": {
      "image/png": "[encoded data removed]",
      "text/plain": [
       "<matplotlib.figure.Figure at 0x7fac680620f0>"
      ]
     },
     "metadata": {},
     "output_type": "display_data"
    }
   ],
   "source": [
    "plt.plot(sorted(np.ravel(np.var(M, axis=1)), key=lambda x: -x))\n",
    "plt.title('Variance distribution of the tags')"
   ]
  },
  {
   "cell_type": "markdown",
   "metadata": {},
   "source": [
    "#### Question B"
   ]
  },
  {
   "cell_type": "code",
   "execution_count": 19,
   "metadata": {
    "collapsed": false
   },
   "outputs": [
    {
     "data": {
      "text/plain": [
       "(1128, 1128)"
      ]
     },
     "execution_count": 19,
     "metadata": {},
     "output_type": "execute_result"
    }
   ],
   "source": [
    "C = (M @ M.T) / M.shape[1]\n",
    "C.shape"
   ]
  },
  {
   "cell_type": "code",
   "execution_count": 20,
   "metadata": {
    "collapsed": false
   },
   "outputs": [],
   "source": [
    "sorted_values, vectors = la.eigh(C)\n",
    "# Sort the eigenvalues (and therefore the vectors) by non increasing ordered\n",
    "sorted_values = sorted_values[::-1]\n",
    "vectors = np.fliplr(vectors)"
   ]
  },
  {
   "cell_type": "code",
   "execution_count": 21,
   "metadata": {
    "collapsed": false
   },
   "outputs": [
    {
     "data": {
      "text/plain": [
       "array([  2.75311225e+00,   1.22135338e+00,   9.95955570e-01, ...,\n",
       "         1.21306102e-04,   7.85861162e-05,   5.48978745e-05])"
      ]
     },
     "execution_count": 21,
     "metadata": {},
     "output_type": "execute_result"
    }
   ],
   "source": [
    "sorted_values"
   ]
  },
  {
   "cell_type": "code",
   "execution_count": 22,
   "metadata": {
    "collapsed": false
   },
   "outputs": [
    {
     "data": {
      "text/plain": [
       "<matplotlib.text.Text at 0x7fac610251d0>"
      ]
     },
     "execution_count": 22,
     "metadata": {},
     "output_type": "execute_result"
    },
    {
     "data": {
      "image/png": "[encoded data removed]",
      "text/plain": [
       "<matplotlib.figure.Figure at 0x7fac4f141470>"
      ]
     },
     "metadata": {},
     "output_type": "display_data"
    }
   ],
   "source": [
    "plt.semilogy(sorted_values)\n",
    "plt.title('Eigenvalues of the covariance matrix')"
   ]
  },
  {
   "cell_type": "markdown",
   "metadata": {},
   "source": [
    "#### Question C"
   ]
  },
  {
   "cell_type": "markdown",
   "metadata": {},
   "source": [
    "We can see that eigenvalues fall off very quickly at the beginning. This means that a few directions can explain most of the data."
   ]
  },
  {
   "cell_type": "markdown",
   "metadata": {},
   "source": [
    "#### Conclusion"
   ]
  },
  {
   "cell_type": "code",
   "execution_count": 23,
   "metadata": {
    "collapsed": true
   },
   "outputs": [],
   "source": [
    "def directions_variability(ww, ratio):\n",
    "    currentRatio = 0.0\n",
    "    i = 1\n",
    "    tot = np.sum(ww)\n",
    "    while currentRatio < ratio:\n",
    "        currentRatio = np.sum(ww[:i]) / tot\n",
    "        i += 1\n",
    "    return i - 1"
   ]
  },
  {
   "cell_type": "code",
   "execution_count": 24,
   "metadata": {
    "collapsed": false
   },
   "outputs": [
    {
     "name": "stdout",
     "output_type": "stream",
     "text": [
      "We need 37 directions to explain 2/3 of the variability in the data\n"
     ]
    }
   ],
   "source": [
    "print('We need', directions_variability(sorted_values, 2/3), 'directions to explain 2/3 of the variability in the data')"
   ]
  },
  {
   "cell_type": "markdown",
   "metadata": {},
   "source": [
    "### Exercise 3.2"
   ]
  },
  {
   "cell_type": "markdown",
   "metadata": {},
   "source": [
    "#### Setup"
   ]
  },
  {
   "cell_type": "code",
   "execution_count": 25,
   "metadata": {
    "collapsed": true
   },
   "outputs": [],
   "source": [
    "DIRECTIONS = 5"
   ]
  },
  {
   "cell_type": "code",
   "execution_count": 26,
   "metadata": {
    "collapsed": false
   },
   "outputs": [],
   "source": [
    "top5values = sorted_values[:DIRECTIONS]\n",
    "top5vectors = vectors[:,:DIRECTIONS]"
   ]
  },
  {
   "cell_type": "code",
   "execution_count": 27,
   "metadata": {
    "collapsed": false
   },
   "outputs": [
    {
     "data": {
      "text/plain": [
       "(1128, 5)"
      ]
     },
     "execution_count": 27,
     "metadata": {},
     "output_type": "execute_result"
    }
   ],
   "source": [
    "top5vectors.shape"
   ]
  },
  {
   "cell_type": "code",
   "execution_count": 28,
   "metadata": {
    "collapsed": true
   },
   "outputs": [],
   "source": [
    "tag_to_name = dict(tags.map(itemgetter(\"tagId\", \"tag\")).collect())"
   ]
  },
  {
   "cell_type": "code",
   "execution_count": 29,
   "metadata": {
    "collapsed": false
   },
   "outputs": [],
   "source": [
    "dir_to_best = {}\n",
    "dir_to_worst = {}\n",
    "for direction in range(DIRECTIONS):\n",
    "    ordered = sorted([(idx, top5vectors[idx, direction]) for idx in range(1128)], key=lambda t: -t[1])\n",
    "    \n",
    "    best10 = [tag_to_name[el[0] + 1] for el in ordered[:10]]\n",
    "    worst10 = [tag_to_name[el[0] + 1] for el in ordered[::-1][:10]]\n",
    "    dir_to_best[direction] = best10  \n",
    "    dir_to_worst[direction] = worst10"
   ]
  },
  {
   "cell_type": "code",
   "execution_count": 30,
   "metadata": {
    "collapsed": false
   },
   "outputs": [
    {
     "data": {
      "text/plain": [
       "{0: ['talky',\n",
       "  'social commentary',\n",
       "  'criterion',\n",
       "  'imdb top 250',\n",
       "  'great acting',\n",
       "  'drama',\n",
       "  'oscar (best directing)',\n",
       "  'bleak',\n",
       "  'dramatic',\n",
       "  'cinematography'],\n",
       " 1: ['intimate',\n",
       "  'relationships',\n",
       "  'criterion',\n",
       "  'melancholic',\n",
       "  'loneliness',\n",
       "  'golden palm',\n",
       "  'meditative',\n",
       "  'art house',\n",
       "  'melancholy',\n",
       "  'sexual'],\n",
       " 2: ['feel-good',\n",
       "  'sentimental',\n",
       "  'love story',\n",
       "  'heartwarming',\n",
       "  'touching',\n",
       "  'romantic',\n",
       "  'sweet',\n",
       "  'courage',\n",
       "  'girlie movie',\n",
       "  'feel good movie'],\n",
       " 3: ['visual',\n",
       "  'visually stunning',\n",
       "  'imagination',\n",
       "  'sci-fi',\n",
       "  'scifi',\n",
       "  'visually appealing',\n",
       "  'science fiction',\n",
       "  'sci fi',\n",
       "  'special effects',\n",
       "  'beautifully filmed'],\n",
       " 4: ['thriller',\n",
       "  'conspiracy',\n",
       "  'secrets',\n",
       "  'suspenseful',\n",
       "  'tense',\n",
       "  'mystery',\n",
       "  'suspense',\n",
       "  'investigation',\n",
       "  'murder mystery',\n",
       "  'betrayal']}"
      ]
     },
     "execution_count": 30,
     "metadata": {},
     "output_type": "execute_result"
    }
   ],
   "source": [
    "dir_to_best"
   ]
  },
  {
   "cell_type": "code",
   "execution_count": 31,
   "metadata": {
    "collapsed": false
   },
   "outputs": [
    {
     "data": {
      "text/plain": [
       "{0: ['predictable',\n",
       "  \"so bad it's funny\",\n",
       "  'bad plot',\n",
       "  'silly',\n",
       "  'silly fun',\n",
       "  'horrible',\n",
       "  'franchise',\n",
       "  'lame',\n",
       "  'big budget',\n",
       "  'comedy'],\n",
       " 1: ['action',\n",
       "  'special effects',\n",
       "  'big budget',\n",
       "  'chase',\n",
       "  'fast paced',\n",
       "  'suspense',\n",
       "  'good action',\n",
       "  'plot',\n",
       "  'pg-13',\n",
       "  'action packed'],\n",
       " 2: ['horror',\n",
       "  'weird',\n",
       "  'creepy',\n",
       "  'splatter',\n",
       "  'stylish',\n",
       "  'cult classic',\n",
       "  'disturbing',\n",
       "  'violence',\n",
       "  'cult film',\n",
       "  'dark'],\n",
       " 3: ['corruption',\n",
       "  'crime',\n",
       "  'murder',\n",
       "  'police investigation',\n",
       "  'thriller',\n",
       "  'suspense',\n",
       "  'violence',\n",
       "  'police corruption',\n",
       "  'gangsters',\n",
       "  'manipulation'],\n",
       " 4: ['comedy',\n",
       "  'funny',\n",
       "  'hilarious',\n",
       "  'goofy',\n",
       "  'humorous',\n",
       "  'humor',\n",
       "  'very funny',\n",
       "  'cult classic',\n",
       "  'quotable',\n",
       "  'funny as hell']}"
      ]
     },
     "execution_count": 31,
     "metadata": {},
     "output_type": "execute_result"
    }
   ],
   "source": [
    "dir_to_worst"
   ]
  },
  {
   "cell_type": "markdown",
   "metadata": {},
   "source": [
    "Looking at the tags with highest and lowest coordinates in the first 5 five directions, we find the following concepts to descripe each principal component : \n",
    "- 0: good movie/bad movie\n",
    "- 1: deep/blockbuster (action based)\n",
    "- 2: sweet/horror\n",
    "- 3: good looking/good plot\n",
    "- 4: suspenseful/comedy"
   ]
  },
  {
   "cell_type": "markdown",
   "metadata": {},
   "source": [
    "#### Writing file to disk"
   ]
  },
  {
   "cell_type": "code",
   "execution_count": 32,
   "metadata": {
    "collapsed": false
   },
   "outputs": [],
   "source": [
    "tag_to_coordinates = {}\n",
    "for tag in range(1128):\n",
    "    coords = []\n",
    "    for direction in range(DIRECTIONS):\n",
    "        coords.append(top5vectors[tag, direction])\n",
    "    tag_to_coordinates[tag_to_name[tag + 1]] = coords\n",
    "\n",
    "jsonarray = json.dumps(tag_to_coordinates, ensure_ascii=False)\n",
    "\n",
    "with open('data.txt', 'w') as dst:\n",
    "    json.dump(jsonarray, dst)"
   ]
  },
  {
   "cell_type": "markdown",
   "metadata": {
    "collapsed": true
   },
   "source": [
    "### Exercise 3.3"
   ]
  },
  {
   "cell_type": "code",
   "execution_count": 33,
   "metadata": {
    "collapsed": true
   },
   "outputs": [],
   "source": [
    "import pickle"
   ]
  },
  {
   "cell_type": "code",
   "execution_count": 35,
   "metadata": {
    "collapsed": true
   },
   "outputs": [],
   "source": [
    "# Reading an object from disk.\n",
    "with open(\"selected-movies.pickle\", \"rb\") as f:\n",
    "    movies = pickle.load(f, encoding=\"utf-8\")\n",
    "    \n",
    "movies = sorted(movies, key=lambda x: x[0])\n",
    "movies_to_ids = [movie[0] for movie in movies]"
   ]
  },
  {
   "cell_type": "code",
   "execution_count": 36,
   "metadata": {
    "collapsed": false
   },
   "outputs": [
    {
     "data": {
      "text/plain": [
       "[(260, 'Star Wars: Episode IV - A New Hope (1977)', 0.93),\n",
       " (318, 'Shawshank Redemption, The (1994)', 0.91),\n",
       " (356, 'Forrest Gump (1994)', 0.72),\n",
       " (480, 'Jurassic Park (1993)', 0.93)]"
      ]
     },
     "execution_count": 36,
     "metadata": {},
     "output_type": "execute_result"
    }
   ],
   "source": [
    "movies[:4]"
   ]
  },
  {
   "cell_type": "markdown",
   "metadata": {},
   "source": [
    "#### Question A"
   ]
  },
  {
   "cell_type": "code",
   "execution_count": 37,
   "metadata": {
    "collapsed": true
   },
   "outputs": [],
   "source": [
    "new_matrix_rows = scores.map(itemgetter('movieId', 'relevance'))\\\n",
    "                        .filter(lambda x: x[0] in moviesIds)\\\n",
    "                        .groupByKey()\\\n",
    "                        .sortByKey()\\\n",
    "                        .map(lambda x: list(x[1]))\\\n",
    "                        .collect()"
   ]
  },
  {
   "cell_type": "code",
   "execution_count": 39,
   "metadata": {
    "collapsed": false
   },
   "outputs": [
    {
     "data": {
      "text/plain": [
       "(37, 1128)"
      ]
     },
     "execution_count": 39,
     "metadata": {},
     "output_type": "execute_result"
    }
   ],
   "source": [
    "new_matrix = np.matrix(new_matrix_rows)\n",
    "new_matrix.shape"
   ]
  },
  {
   "cell_type": "code",
   "execution_count": 40,
   "metadata": {
    "collapsed": true
   },
   "outputs": [],
   "source": [
    "new_values = sorted_values[:2]\n",
    "new_vectors = vectors[:,:2]"
   ]
  },
  {
   "cell_type": "code",
   "execution_count": 41,
   "metadata": {
    "collapsed": true
   },
   "outputs": [],
   "source": [
    "projected_matrix = (new_matrix @ new_vectors).tolist()"
   ]
  },
  {
   "cell_type": "code",
   "execution_count": 42,
   "metadata": {
    "collapsed": false
   },
   "outputs": [
    {
     "data": {
      "text/plain": [
       "[[5.2832496543578324, -7.576582963071961],\n",
       " [8.263266304963055, -5.846979358682076],\n",
       " [6.080402888934187, -5.029462539700734],\n",
       " [3.4670611846015627, -7.283029689024394],\n",
       " [8.012862850827643, -4.795991450586858],\n",
       " [1.9563192464706614, -7.004651322298655],\n",
       " [3.755509495583608, -3.8082300471480055],\n",
       " [6.34224322689365, -3.2403711678747174],\n",
       " [4.887597829601472, -7.444349465494821],\n",
       " [6.60835290283577, -3.535904261552043],\n",
       " [8.407282228254967, -4.879104796308239],\n",
       " [6.166922994976304, -8.28875686934102],\n",
       " [2.2125037350328154, -3.6432593003081424],\n",
       " [8.594701228394449, -3.1185938681355125],\n",
       " [8.44873288967171, -5.661292452125196],\n",
       " [5.112584895129661, -2.2201140873897733],\n",
       " [5.7849314280172175, -3.482605027518495],\n",
       " [5.478011932785149, -1.8601570872829674],\n",
       " [0.7511985315999727, -2.300994940111544],\n",
       " [7.467585235072499, -1.0961272811702452],\n",
       " [4.417500015444921, -2.82659672751574],\n",
       " [2.423473011939735, -6.568361706153171],\n",
       " [2.558724956197574, 0.21770525613205594],\n",
       " [8.862855699951105, -4.322910455168633],\n",
       " [2.628179377648642, -2.995109243900949],\n",
       " [4.335738415983896, -1.8528059086619648],\n",
       " [4.314339943618703, -2.541359361363764],\n",
       " [0.2763807327027913, -2.289430325011643],\n",
       " [0.09133591026512687, -1.8303448652081356],\n",
       " [5.783400284483893, -2.8005467589011537],\n",
       " [3.6911395441109227, -2.7906872889413794],\n",
       " [7.3095272701504115, -1.815051254156259],\n",
       " [5.439232132618232, -3.722982094802207],\n",
       " [6.351129429131264, -3.7401245085837203],\n",
       " [0.07895014805738226, -4.95140784927581],\n",
       " [4.356287831804958, -7.076629257758825],\n",
       " [5.350205221235817, -1.8469216704740612]]"
      ]
     },
     "execution_count": 42,
     "metadata": {},
     "output_type": "execute_result"
    }
   ],
   "source": [
    "projected_matrix"
   ]
  },
  {
   "cell_type": "code",
   "execution_count": 43,
   "metadata": {
    "collapsed": false
   },
   "outputs": [
    {
     "data": {
      "text/html": [
       "\n",
       "    <div class=\"bk-root\">\n",
       "        <a href=\"http://bokeh.pydata.org\" target=\"_blank\" class=\"bk-logo bk-logo-small bk-logo-notebook\"></a>\n",
       "        <span id=\"9976da0c-2fa7-42fa-baa9-d86d86b3aa4a\">Loading BokehJS ...</span>\n",
       "    </div>"
      ]
     },
     "metadata": {},
     "output_type": "display_data"
    },
    {
     "data": {
      "application/javascript": [
       "\n",
       "(function(global) {\n",
       "  function now() {\n",
       "    return new Date();\n",
       "  }\n",
       "\n",
       "  var force = \"1\";\n",
       "\n",
       "  if (typeof (window._bokeh_onload_callbacks) === \"undefined\" || force !== \"\") {\n",
       "    window._bokeh_onload_callbacks = [];\n",
       "    window._bokeh_is_loading = undefined;\n",
       "  }\n",
       "\n",
       "\n",
       "  \n",
       "  if (typeof (window._bokeh_timeout) === \"undefined\" || force !== \"\") {\n",
       "    window._bokeh_timeout = Date.now() + 5000;\n",
       "    window._bokeh_failed_load = false;\n",
       "  }\n",
       "\n",
       "  var NB_LOAD_WARNING = {'data': {'text/html':\n",
       "     \"<div style='background-color: #fdd'>\\n\"+\n",
       "     \"<p>\\n\"+\n",
       "     \"BokehJS does not appear to have successfully loaded. If loading BokehJS from CDN, this \\n\"+\n",
       "     \"may be due to a slow or bad network connection. Possible fixes:\\n\"+\n",
       "     \"</p>\\n\"+\n",
       "     \"<ul>\\n\"+\n",
       "     \"<li>re-rerun `output_notebook()` to attempt to load from CDN again, or</li>\\n\"+\n",
       "     \"<li>use INLINE resources instead, as so:</li>\\n\"+\n",
       "     \"</ul>\\n\"+\n",
       "     \"<code>\\n\"+\n",
       "     \"from bokeh.resources import INLINE\\n\"+\n",
       "     \"output_notebook(resources=INLINE)\\n\"+\n",
       "     \"</code>\\n\"+\n",
       "     \"</div>\"}};\n",
       "\n",
       "  function display_loaded() {\n",
       "    if (window.Bokeh !== undefined) {\n",
       "      Bokeh.$(\"#9976da0c-2fa7-42fa-baa9-d86d86b3aa4a\").text(\"BokehJS successfully loaded.\");\n",
       "    } else if (Date.now() < window._bokeh_timeout) {\n",
       "      setTimeout(display_loaded, 100)\n",
       "    }\n",
       "  }\n",
       "\n",
       "  function run_callbacks() {\n",
       "    window._bokeh_onload_callbacks.forEach(function(callback) { callback() });\n",
       "    delete window._bokeh_onload_callbacks\n",
       "    console.info(\"Bokeh: all callbacks have finished\");\n",
       "  }\n",
       "\n",
       "  function load_libs(js_urls, callback) {\n",
       "    window._bokeh_onload_callbacks.push(callback);\n",
       "    if (window._bokeh_is_loading > 0) {\n",
       "      console.log(\"Bokeh: BokehJS is being loaded, scheduling callback at\", now());\n",
       "      return null;\n",
       "    }\n",
       "    if (js_urls == null || js_urls.length === 0) {\n",
       "      run_callbacks();\n",
       "      return null;\n",
       "    }\n",
       "    console.log(\"Bokeh: BokehJS not loaded, scheduling load and callback at\", now());\n",
       "    window._bokeh_is_loading = js_urls.length;\n",
       "    for (var i = 0; i < js_urls.length; i++) {\n",
       "      var url = js_urls[i];\n",
       "      var s = document.createElement('script');\n",
       "      s.src = url;\n",
       "      s.async = false;\n",
       "      s.onreadystatechange = s.onload = function() {\n",
       "        window._bokeh_is_loading--;\n",
       "        if (window._bokeh_is_loading === 0) {\n",
       "          console.log(\"Bokeh: all BokehJS libraries loaded\");\n",
       "          run_callbacks()\n",
       "        }\n",
       "      };\n",
       "      s.onerror = function() {\n",
       "        console.warn(\"failed to load library \" + url);\n",
       "      };\n",
       "      console.log(\"Bokeh: injecting script tag for BokehJS library: \", url);\n",
       "      document.getElementsByTagName(\"head\")[0].appendChild(s);\n",
       "    }\n",
       "  };var element = document.getElementById(\"9976da0c-2fa7-42fa-baa9-d86d86b3aa4a\");\n",
       "  if (element == null) {\n",
       "    console.log(\"Bokeh: ERROR: autoload.js configured with elementid '9976da0c-2fa7-42fa-baa9-d86d86b3aa4a' but no matching script tag was found. \")\n",
       "    return false;\n",
       "  }\n",
       "\n",
       "  var js_urls = ['https://cdn.pydata.org/bokeh/release/bokeh-0.12.2.min.js', 'https://cdn.pydata.org/bokeh/release/bokeh-widgets-0.12.2.min.js', 'https://cdn.pydata.org/bokeh/release/bokeh-compiler-0.12.2.min.js'];\n",
       "\n",
       "  var inline_js = [\n",
       "    function(Bokeh) {\n",
       "      Bokeh.set_log_level(\"info\");\n",
       "    },\n",
       "    \n",
       "    function(Bokeh) {\n",
       "      \n",
       "      Bokeh.$(\"#9976da0c-2fa7-42fa-baa9-d86d86b3aa4a\").text(\"BokehJS is loading...\");\n",
       "    },\n",
       "    function(Bokeh) {\n",
       "      console.log(\"Bokeh: injecting CSS: https://cdn.pydata.org/bokeh/release/bokeh-0.12.2.min.css\");\n",
       "      Bokeh.embed.inject_css(\"https://cdn.pydata.org/bokeh/release/bokeh-0.12.2.min.css\");\n",
       "      console.log(\"Bokeh: injecting CSS: https://cdn.pydata.org/bokeh/release/bokeh-widgets-0.12.2.min.css\");\n",
       "      Bokeh.embed.inject_css(\"https://cdn.pydata.org/bokeh/release/bokeh-widgets-0.12.2.min.css\");\n",
       "    }\n",
       "  ];\n",
       "\n",
       "  function run_inline_js() {\n",
       "    \n",
       "    if ((window.Bokeh !== undefined) || (force === \"1\")) {\n",
       "      for (var i = 0; i < inline_js.length; i++) {\n",
       "        inline_js[i](window.Bokeh);\n",
       "      }if (force === \"1\") {\n",
       "        display_loaded();\n",
       "      }} else if (Date.now() < window._bokeh_timeout) {\n",
       "      setTimeout(run_inline_js, 100);\n",
       "    } else if (!window._bokeh_failed_load) {\n",
       "      console.log(\"Bokeh: BokehJS failed to load within specified timeout.\");\n",
       "      window._bokeh_failed_load = true;\n",
       "    } else if (!force) {\n",
       "      var cell = $(\"#9976da0c-2fa7-42fa-baa9-d86d86b3aa4a\").parents('.cell').data().cell;\n",
       "      cell.output_area.append_execute_result(NB_LOAD_WARNING)\n",
       "    }\n",
       "\n",
       "  }\n",
       "\n",
       "  if (window._bokeh_is_loading === 0) {\n",
       "    console.log(\"Bokeh: BokehJS loaded, going straight to plotting\");\n",
       "    run_inline_js();\n",
       "  } else {\n",
       "    load_libs(js_urls, function() {\n",
       "      console.log(\"Bokeh: BokehJS plotting callback run at\", now());\n",
       "      run_inline_js();\n",
       "    });\n",
       "  }\n",
       "}(this));"
      ]
     },
     "metadata": {},
     "output_type": "display_data"
    }
   ],
   "source": [
    "from bokeh.io import show, output_notebook\n",
    "from bokeh.plotting import figure, ColumnDataSource\n",
    "from bokeh.models import HoverTool, ResetTool, PanTool, WheelZoomTool, SaveTool\n",
    "output_notebook()"
   ]
  },
  {
   "cell_type": "code",
   "execution_count": 44,
   "metadata": {
    "collapsed": false
   },
   "outputs": [
    {
     "data": {
      "text/html": [
       "\n",
       "\n",
       "    <div class=\"bk-root\">\n",
       "        <div class=\"plotdiv\" id=\"b7cef836-4e1e-4cb9-b420-a80049af364f\"></div>\n",
       "    </div>\n",
       "<script type=\"text/javascript\">\n",
       "  \n",
       "  (function(global) {\n",
       "    function now() {\n",
       "      return new Date();\n",
       "    }\n",
       "  \n",
       "    var force = \"\";\n",
       "  \n",
       "    if (typeof (window._bokeh_onload_callbacks) === \"undefined\" || force !== \"\") {\n",
       "      window._bokeh_onload_callbacks = [];\n",
       "      window._bokeh_is_loading = undefined;\n",
       "    }\n",
       "  \n",
       "  \n",
       "    \n",
       "    if (typeof (window._bokeh_timeout) === \"undefined\" || force !== \"\") {\n",
       "      window._bokeh_timeout = Date.now() + 0;\n",
       "      window._bokeh_failed_load = false;\n",
       "    }\n",
       "  \n",
       "    var NB_LOAD_WARNING = {'data': {'text/html':\n",
       "       \"<div style='background-color: #fdd'>\\n\"+\n",
       "       \"<p>\\n\"+\n",
       "       \"BokehJS does not appear to have successfully loaded. If loading BokehJS from CDN, this \\n\"+\n",
       "       \"may be due to a slow or bad network connection. Possible fixes:\\n\"+\n",
       "       \"</p>\\n\"+\n",
       "       \"<ul>\\n\"+\n",
       "       \"<li>re-rerun `output_notebook()` to attempt to load from CDN again, or</li>\\n\"+\n",
       "       \"<li>use INLINE resources instead, as so:</li>\\n\"+\n",
       "       \"</ul>\\n\"+\n",
       "       \"<code>\\n\"+\n",
       "       \"from bokeh.resources import INLINE\\n\"+\n",
       "       \"output_notebook(resources=INLINE)\\n\"+\n",
       "       \"</code>\\n\"+\n",
       "       \"</div>\"}};\n",
       "  \n",
       "    function display_loaded() {\n",
       "      if (window.Bokeh !== undefined) {\n",
       "        Bokeh.$(\"#b7cef836-4e1e-4cb9-b420-a80049af364f\").text(\"BokehJS successfully loaded.\");\n",
       "      } else if (Date.now() < window._bokeh_timeout) {\n",
       "        setTimeout(display_loaded, 100)\n",
       "      }\n",
       "    }if ((window.Jupyter !== undefined) && Jupyter.notebook.kernel) {\n",
       "      comm_manager = Jupyter.notebook.kernel.comm_manager\n",
       "      comm_manager.register_target(\"db8dd02b-7fa1-4764-9597-3cc571ade806\", function () {});\n",
       "    }\n",
       "  \n",
       "    function run_callbacks() {\n",
       "      window._bokeh_onload_callbacks.forEach(function(callback) { callback() });\n",
       "      delete window._bokeh_onload_callbacks\n",
       "      console.info(\"Bokeh: all callbacks have finished\");\n",
       "    }\n",
       "  \n",
       "    function load_libs(js_urls, callback) {\n",
       "      window._bokeh_onload_callbacks.push(callback);\n",
       "      if (window._bokeh_is_loading > 0) {\n",
       "        console.log(\"Bokeh: BokehJS is being loaded, scheduling callback at\", now());\n",
       "        return null;\n",
       "      }\n",
       "      if (js_urls == null || js_urls.length === 0) {\n",
       "        run_callbacks();\n",
       "        return null;\n",
       "      }\n",
       "      console.log(\"Bokeh: BokehJS not loaded, scheduling load and callback at\", now());\n",
       "      window._bokeh_is_loading = js_urls.length;\n",
       "      for (var i = 0; i < js_urls.length; i++) {\n",
       "        var url = js_urls[i];\n",
       "        var s = document.createElement('script');\n",
       "        s.src = url;\n",
       "        s.async = false;\n",
       "        s.onreadystatechange = s.onload = function() {\n",
       "          window._bokeh_is_loading--;\n",
       "          if (window._bokeh_is_loading === 0) {\n",
       "            console.log(\"Bokeh: all BokehJS libraries loaded\");\n",
       "            run_callbacks()\n",
       "          }\n",
       "        };\n",
       "        s.onerror = function() {\n",
       "          console.warn(\"failed to load library \" + url);\n",
       "        };\n",
       "        console.log(\"Bokeh: injecting script tag for BokehJS library: \", url);\n",
       "        document.getElementsByTagName(\"head\")[0].appendChild(s);\n",
       "      }\n",
       "    };var element = document.getElementById(\"b7cef836-4e1e-4cb9-b420-a80049af364f\");\n",
       "    if (element == null) {\n",
       "      console.log(\"Bokeh: ERROR: autoload.js configured with elementid 'b7cef836-4e1e-4cb9-b420-a80049af364f' but no matching script tag was found. \")\n",
       "      return false;\n",
       "    }\n",
       "  \n",
       "    var js_urls = [];\n",
       "  \n",
       "    var inline_js = [\n",
       "      function(Bokeh) {\n",
       "        Bokeh.$(function() {\n",
       "            var docs_json = {\"9c582909-988a-44ea-ba7b-27f0eee15e49\":{\"roots\":{\"references\":[{\"attributes\":{\"fill_alpha\":{\"value\":0.5},\"fill_color\":{\"field\":\"color\"},\"line_alpha\":{\"value\":0.5},\"line_color\":{\"field\":\"color\"},\"size\":{\"units\":\"screen\",\"value\":20},\"x\":{\"field\":\"x\"},\"y\":{\"field\":\"y\"}},\"id\":\"2b61bb68-4607-4e9e-8250-5d5b4f764bef\",\"type\":\"Circle\"},{\"attributes\":{\"fill_alpha\":{\"value\":0.1},\"fill_color\":{\"value\":\"#1f77b4\"},\"line_alpha\":{\"value\":0.1},\"line_color\":{\"value\":\"#1f77b4\"},\"size\":{\"units\":\"screen\",\"value\":20},\"x\":{\"field\":\"x\"},\"y\":{\"field\":\"y\"}},\"id\":\"be560f64-4283-40cc-862f-cba4bfcbf41d\",\"type\":\"Circle\"},{\"attributes\":{\"plot\":{\"id\":\"8ed64de5-5c1e-4d45-a070-15205637d749\",\"subtype\":\"Figure\",\"type\":\"Plot\"}},\"id\":\"47e40ed2-9b28-41b3-81e9-fc8b35468a8b\",\"type\":\"WheelZoomTool\"},{\"attributes\":{\"formatter\":{\"id\":\"3d07f978-4cb6-47c1-9b7d-d067d937c252\",\"type\":\"BasicTickFormatter\"},\"plot\":{\"id\":\"8ed64de5-5c1e-4d45-a070-15205637d749\",\"subtype\":\"Figure\",\"type\":\"Plot\"},\"ticker\":{\"id\":\"ede746f1-3324-42eb-922a-39a3874839dd\",\"type\":\"BasicTicker\"}},\"id\":\"54015067-2d08-4099-9b0a-b7d72835b103\",\"type\":\"LinearAxis\"},{\"attributes\":{\"formatter\":{\"id\":\"e6a0fb1b-ec07-4319-bfc8-9b468faa7326\",\"type\":\"BasicTickFormatter\"},\"plot\":{\"id\":\"8ed64de5-5c1e-4d45-a070-15205637d749\",\"subtype\":\"Figure\",\"type\":\"Plot\"},\"ticker\":{\"id\":\"babadd68-5fe4-45a3-8ac9-3d84304d0869\",\"type\":\"BasicTicker\"}},\"id\":\"58d2eaac-a06b-4fc6-afa1-485b91a2bf28\",\"type\":\"LinearAxis\"},{\"attributes\":{},\"id\":\"cef72ea2-fc77-4570-bda8-14297cb8ec75\",\"type\":\"ToolEvents\"},{\"attributes\":{},\"id\":\"e6a0fb1b-ec07-4319-bfc8-9b468faa7326\",\"type\":\"BasicTickFormatter\"},{\"attributes\":{\"plot\":{\"id\":\"8ed64de5-5c1e-4d45-a070-15205637d749\",\"subtype\":\"Figure\",\"type\":\"Plot\"},\"ticker\":{\"id\":\"babadd68-5fe4-45a3-8ac9-3d84304d0869\",\"type\":\"BasicTicker\"}},\"id\":\"b3e90603-55e8-4852-b94c-6a65bb37736b\",\"type\":\"Grid\"},{\"attributes\":{\"callback\":null,\"plot\":{\"id\":\"8ed64de5-5c1e-4d45-a070-15205637d749\",\"subtype\":\"Figure\",\"type\":\"Plot\"},\"tooltips\":[[\"Name\",\"@name\"]]},\"id\":\"6dc6857a-fe13-408a-b466-a7c29256a289\",\"type\":\"HoverTool\"},{\"attributes\":{},\"id\":\"3d07f978-4cb6-47c1-9b7d-d067d937c252\",\"type\":\"BasicTickFormatter\"},{\"attributes\":{\"callback\":null},\"id\":\"c197588e-f057-4da2-a24c-3f75d5397234\",\"type\":\"DataRange1d\"},{\"attributes\":{\"plot\":{\"id\":\"8ed64de5-5c1e-4d45-a070-15205637d749\",\"subtype\":\"Figure\",\"type\":\"Plot\"}},\"id\":\"c175588b-a876-4261-ae1f-69caf6a32822\",\"type\":\"SaveTool\"},{\"attributes\":{\"dimension\":1,\"plot\":{\"id\":\"8ed64de5-5c1e-4d45-a070-15205637d749\",\"subtype\":\"Figure\",\"type\":\"Plot\"},\"ticker\":{\"id\":\"ede746f1-3324-42eb-922a-39a3874839dd\",\"type\":\"BasicTicker\"}},\"id\":\"dc2ea1a0-7f51-4352-a1cd-eff90500ec1c\",\"type\":\"Grid\"},{\"attributes\":{\"below\":[{\"id\":\"58d2eaac-a06b-4fc6-afa1-485b91a2bf28\",\"type\":\"LinearAxis\"}],\"left\":[{\"id\":\"54015067-2d08-4099-9b0a-b7d72835b103\",\"type\":\"LinearAxis\"}],\"plot_height\":360,\"plot_width\":960,\"renderers\":[{\"id\":\"58d2eaac-a06b-4fc6-afa1-485b91a2bf28\",\"type\":\"LinearAxis\"},{\"id\":\"b3e90603-55e8-4852-b94c-6a65bb37736b\",\"type\":\"Grid\"},{\"id\":\"54015067-2d08-4099-9b0a-b7d72835b103\",\"type\":\"LinearAxis\"},{\"id\":\"dc2ea1a0-7f51-4352-a1cd-eff90500ec1c\",\"type\":\"Grid\"},{\"id\":\"f4ea40f4-182e-493c-b3da-e21814b7d2d1\",\"type\":\"GlyphRenderer\"}],\"title\":{\"id\":\"594d0f82-efb4-4c07-a7c7-6e51b14a4215\",\"type\":\"Title\"},\"tool_events\":{\"id\":\"cef72ea2-fc77-4570-bda8-14297cb8ec75\",\"type\":\"ToolEvents\"},\"toolbar\":{\"id\":\"348fa424-fe6b-417c-b39b-9560f559d44e\",\"type\":\"Toolbar\"},\"x_range\":{\"id\":\"7b7d6d84-11cc-4328-a0e6-31a88cd8dbbc\",\"type\":\"DataRange1d\"},\"y_range\":{\"id\":\"c197588e-f057-4da2-a24c-3f75d5397234\",\"type\":\"DataRange1d\"}},\"id\":\"8ed64de5-5c1e-4d45-a070-15205637d749\",\"subtype\":\"Figure\",\"type\":\"Plot\"},{\"attributes\":{\"plot\":null,\"text\":\"Mouse over the dots\"},\"id\":\"594d0f82-efb4-4c07-a7c7-6e51b14a4215\",\"type\":\"Title\"},{\"attributes\":{\"callback\":null,\"column_names\":[\"y\",\"color\",\"name\",\"x\"],\"data\":{\"color\":[\"#d2e21b\",\"#c2df23\",\"#4ec36b\",\"#d2e21b\",\"#e5e419\",\"#22a884\",\"#37b878\",\"#f1e51d\",\"#fde725\",\"#7ad151\",\"#8ed645\",\"#a8db34\",\"#22a884\",\"#b0dd2f\",\"#75d054\",\"#9bd93c\",\"#dfe318\",\"#9bd93c\",\"#23898e\",\"#dfe318\",\"#3bbb75\",\"#b5de2b\",\"#81d34d\",\"#bddf26\",\"#443a83\",\"#6ece58\",\"#2cb17e\",\"#463480\",\"#472e7c\",\"#20928c\",\"#b0dd2f\",\"#a8db34\",\"#8ed645\",\"#dfe318\",\"#306a8e\",\"#c2df23\",\"#cae11f\"],\"name\":[[\"260\",\"Star Wars: Episode IV - A New Hope (1977)\",\"0.93\"],[\"318\",\"Shawshank Redemption, The (1994)\",\"0.91\"],[\"356\",\"Forrest Gump (1994)\",\"0.72\"],[\"480\",\"Jurassic Park (1993)\",\"0.93\"],[\"527\",\"Schindler's List (1993)\",\"0.96\"],[\"780\",\"Independence Day (a.k.a. ID4) (1996)\",\"0.6\"],[\"805\",\"Time to Kill, A (1996)\",\"0.67\"],[\"1199\",\"Brazil (1985)\",\"0.98\"],[\"1240\",\"Terminator, The (1984)\",\"1.0\"],[\"2324\",\"Life Is Beautiful (La Vita \\u00e8 bella) (1997)\",\"0.8\"],[\"2329\",\"American History X (1998)\",\"0.83\"],[\"2571\",\"Matrix, The (1999)\",\"0.87\"],[\"2706\",\"American Pie (1999)\",\"0.6\"],[\"2858\",\"American Beauty (1999)\",\"0.88\"],[\"2959\",\"Fight Club (1999)\",\"0.79\"],[\"3967\",\"Billy Elliot (2000)\",\"0.85\"],[\"4465\",\"Accused, The (1988)\",\"0.95\"],[\"4658\",\"Santa Sangre (1989)\",\"0.85\"],[\"4700\",\"Princess Diaries, The (2001)\",\"0.47\"],[\"5147\",\"Wild Strawberries (Smultronst\\u00e4llet) (1957)\",\"0.95\"],[\"5163\",\"Stage Fright (Deliria) (1987)\",\"0.68\"],[\"5349\",\"Spider-Man (2002)\",\"0.89\"],[\"5687\",\"Take Care of My Cat (Goyangileul butaghae) (2001)\",\"0.81\"],[\"6016\",\"City of God (Cidade de Deus) (2002)\",\"0.9\"],[\"6132\",\"New York Ripper, The (Squartatore di New York, Lo) (1982)\",\"0.17\"],[\"6774\",\"Videodrome (1983)\",\"0.78\"],[\"7235\",\"Ichi the Killer (Koroshiya 1) (2001)\",\"0.64\"],[\"32296\",\"Miss Congeniality 2: Armed and Fabulous (2005)\",\"0.15\"],[\"43930\",\"Just My Luck (2006)\",\"0.13\"],[\"48043\",\"Fountain, The (2006)\",\"0.51\"],[\"54503\",\"Superbad (2007)\",\"0.88\"],[\"55444\",\"Control (2007)\",\"0.87\"],[\"74545\",\"Ghost Writer, The (2010)\",\"0.83\"],[\"81845\",\"King's Speech, The (2010)\",\"0.95\"],[\"94018\",\"Battleship (2012)\",\"0.34\"],[\"111759\",\"Edge of Tomorrow (2014)\",\"0.91\"],[\"114028\",\"Pride (2014)\",\"0.92\"]],\"x\":[5.2832496543578324,8.263266304963055,6.080402888934187,3.4670611846015627,8.012862850827643,1.9563192464706614,3.755509495583608,6.34224322689365,4.887597829601472,6.60835290283577,8.407282228254967,6.166922994976304,2.2125037350328154,8.594701228394449,8.44873288967171,5.112584895129661,5.7849314280172175,5.478011932785149,0.7511985315999727,7.467585235072499,4.417500015444921,2.423473011939735,2.558724956197574,8.862855699951105,2.628179377648642,4.335738415983896,4.314339943618703,0.2763807327027913,0.09133591026512687,5.783400284483893,3.6911395441109227,7.3095272701504115,5.439232132618232,6.351129429131264,0.07895014805738226,4.356287831804958,5.350205221235817],\"y\":[-7.576582963071961,-5.846979358682076,-5.029462539700734,-7.283029689024394,-4.795991450586858,-7.004651322298655,-3.8082300471480055,-3.2403711678747174,-7.444349465494821,-3.535904261552043,-4.879104796308239,-8.28875686934102,-3.6432593003081424,-3.1185938681355125,-5.661292452125196,-2.2201140873897733,-3.482605027518495,-1.8601570872829674,-2.300994940111544,-1.0961272811702452,-2.82659672751574,-6.568361706153171,0.21770525613205594,-4.322910455168633,-2.995109243900949,-1.8528059086619648,-2.541359361363764,-2.289430325011643,-1.8303448652081356,-2.8005467589011537,-2.7906872889413794,-1.815051254156259,-3.722982094802207,-3.7401245085837203,-4.95140784927581,-7.076629257758825,-1.8469216704740612]}},\"id\":\"e1458fdc-ad7e-481f-ab2a-838402932155\",\"type\":\"ColumnDataSource\"},{\"attributes\":{},\"id\":\"ede746f1-3324-42eb-922a-39a3874839dd\",\"type\":\"BasicTicker\"},{\"attributes\":{\"active_drag\":\"auto\",\"active_scroll\":\"auto\",\"active_tap\":\"auto\",\"tools\":[{\"id\":\"6dc6857a-fe13-408a-b466-a7c29256a289\",\"type\":\"HoverTool\"},{\"id\":\"e6f6c5aa-be39-4e86-9ada-a93d0865e1d9\",\"type\":\"ResetTool\"},{\"id\":\"063a6f68-4bc8-4790-a3bd-9c7f32d18afb\",\"type\":\"PanTool\"},{\"id\":\"47e40ed2-9b28-41b3-81e9-fc8b35468a8b\",\"type\":\"WheelZoomTool\"},{\"id\":\"c175588b-a876-4261-ae1f-69caf6a32822\",\"type\":\"SaveTool\"}]},\"id\":\"348fa424-fe6b-417c-b39b-9560f559d44e\",\"type\":\"Toolbar\"},{\"attributes\":{\"plot\":{\"id\":\"8ed64de5-5c1e-4d45-a070-15205637d749\",\"subtype\":\"Figure\",\"type\":\"Plot\"}},\"id\":\"063a6f68-4bc8-4790-a3bd-9c7f32d18afb\",\"type\":\"PanTool\"},{\"attributes\":{\"plot\":{\"id\":\"8ed64de5-5c1e-4d45-a070-15205637d749\",\"subtype\":\"Figure\",\"type\":\"Plot\"}},\"id\":\"e6f6c5aa-be39-4e86-9ada-a93d0865e1d9\",\"type\":\"ResetTool\"},{\"attributes\":{\"data_source\":{\"id\":\"e1458fdc-ad7e-481f-ab2a-838402932155\",\"type\":\"ColumnDataSource\"},\"glyph\":{\"id\":\"2b61bb68-4607-4e9e-8250-5d5b4f764bef\",\"type\":\"Circle\"},\"hover_glyph\":null,\"nonselection_glyph\":{\"id\":\"be560f64-4283-40cc-862f-cba4bfcbf41d\",\"type\":\"Circle\"},\"selection_glyph\":null},\"id\":\"f4ea40f4-182e-493c-b3da-e21814b7d2d1\",\"type\":\"GlyphRenderer\"},{\"attributes\":{\"callback\":null},\"id\":\"7b7d6d84-11cc-4328-a0e6-31a88cd8dbbc\",\"type\":\"DataRange1d\"},{\"attributes\":{},\"id\":\"babadd68-5fe4-45a3-8ac9-3d84304d0869\",\"type\":\"BasicTicker\"}],\"root_ids\":[\"8ed64de5-5c1e-4d45-a070-15205637d749\"]},\"title\":\"Bokeh Application\",\"version\":\"0.12.2\"}};\n",
       "            var render_items = [{\"docid\":\"9c582909-988a-44ea-ba7b-27f0eee15e49\",\"elementid\":\"b7cef836-4e1e-4cb9-b420-a80049af364f\",\"modelid\":\"8ed64de5-5c1e-4d45-a070-15205637d749\",\"notebook_comms_target\":\"db8dd02b-7fa1-4764-9597-3cc571ade806\"}];\n",
       "            \n",
       "            Bokeh.embed.embed_items(docs_json, render_items);\n",
       "        });\n",
       "      },\n",
       "      function(Bokeh) {\n",
       "      }\n",
       "    ];\n",
       "  \n",
       "    function run_inline_js() {\n",
       "      \n",
       "      if ((window.Bokeh !== undefined) || (force === \"1\")) {\n",
       "        for (var i = 0; i < inline_js.length; i++) {\n",
       "          inline_js[i](window.Bokeh);\n",
       "        }if (force === \"1\") {\n",
       "          display_loaded();\n",
       "        }} else if (Date.now() < window._bokeh_timeout) {\n",
       "        setTimeout(run_inline_js, 100);\n",
       "      } else if (!window._bokeh_failed_load) {\n",
       "        console.log(\"Bokeh: BokehJS failed to load within specified timeout.\");\n",
       "        window._bokeh_failed_load = true;\n",
       "      } else if (!force) {\n",
       "        var cell = $(\"#b7cef836-4e1e-4cb9-b420-a80049af364f\").parents('.cell').data().cell;\n",
       "        cell.output_area.append_execute_result(NB_LOAD_WARNING)\n",
       "      }\n",
       "  \n",
       "    }\n",
       "  \n",
       "    if (window._bokeh_is_loading === 0) {\n",
       "      console.log(\"Bokeh: BokehJS loaded, going straight to plotting\");\n",
       "      run_inline_js();\n",
       "    } else {\n",
       "      load_libs(js_urls, function() {\n",
       "        console.log(\"Bokeh: BokehJS plotting callback run at\", now());\n",
       "        run_inline_js();\n",
       "      });\n",
       "    }\n",
       "  }(this));\n",
       "</script>"
      ]
     },
     "metadata": {},
     "output_type": "display_data"
    },
    {
     "data": {
      "text/html": [
       "<p><code>&lt;Bokeh Notebook handle for <strong>In[44]</strong>&gt;</code></p>"
      ],
      "text/plain": [
       "<bokeh.io._CommsHandle at 0x7fac4e56f208>"
      ]
     },
     "execution_count": 44,
     "metadata": {},
     "output_type": "execute_result"
    }
   ],
   "source": [
    "# Categorial colors\n",
    "from bokeh.palettes import Dark2_8\n",
    "from matplotlib.colors import rgb2hex \n",
    "\n",
    "cmap = plt.get_cmap('viridis')\n",
    "def val2rgb(val):\n",
    "    return rgb2hex(cmap(val)[:3])\n",
    "\n",
    "hover = HoverTool(\n",
    "    tooltips=[\n",
    "        (\"Name\", \"@name\"),\n",
    "    ])\n",
    "tools = [hover, ResetTool(), PanTool(), WheelZoomTool(), SaveTool()]\n",
    "    \n",
    "source = ColumnDataSource(\n",
    "    data={\n",
    "        \"x\": [x[0] for x in projected_matrix],\n",
    "        \"y\": [x[1] for x in projected_matrix],\n",
    "        \"name\": [x for x in movies],\n",
    "        \"color\": [val2rgb(x[2]) for x in movies],\n",
    "    })\n",
    "\n",
    "p = figure(plot_width=960, plot_height=360, tools=tools, title=\"Mouse over the dots\")\n",
    "p.circle(\"x\", \"y\", source=source, size=20, color=\"color\", alpha=0.5)\n",
    "show(p, notebook_handle=True)"
   ]
  },
  {
   "cell_type": "markdown",
   "metadata": {},
   "source": [
    "#### Question B"
   ]
  },
  {
   "cell_type": "markdown",
   "metadata": {},
   "source": [
    "Recall:\n",
    "\n",
    " - Component 0: good movie/bad movie\n",
    " - Component 1: deep/blockbuster (action based)\n",
    "\n",
    "Knowing the general concepts described by the first two dimensions, we can confirm that our plot for the selected movies makes perfect sense. Indeed:\n",
    "\n",
    " - Looking at the top right corner in our plot, we find the movie Wild Strawberries which has a score of 0.95 on rotten tomatoes and is qualified by wikipedia as a \"moving film\". This corresponds to our description of the first two principal directions.\n",
    " - Looking the bottom right, we find the movie Matrix which has a score of 0.87 on rotten tomatoes and can be seen as a blockbuster (63 million dollars budget accordint to wikipedia)\n",
    " - Looking at the top left, we find the movie Just my Luck which as a low score of 0.13 on rotten tomatoes and can be characterized as a more emotion focused movie than Matrix or Battleship\n",
    " - Looking at the bottom left, we find the movie Battleship which as a low score of 0.34 on rotten tomatoes and a budget of 209–220 million dollars according to wikipedia."
   ]
  },
  {
   "cell_type": "markdown",
   "metadata": {},
   "source": [
    "#### Question C"
   ]
  },
  {
   "cell_type": "code",
   "execution_count": 46,
   "metadata": {
    "collapsed": false
   },
   "outputs": [
    {
     "data": {
      "text/html": [
       "\n",
       "\n",
       "    <div class=\"bk-root\">\n",
       "        <div class=\"plotdiv\" id=\"c3205ef0-297e-46f4-baa6-b8cfc814caf8\"></div>\n",
       "    </div>\n",
       "<script type=\"text/javascript\">\n",
       "  \n",
       "  (function(global) {\n",
       "    function now() {\n",
       "      return new Date();\n",
       "    }\n",
       "  \n",
       "    var force = \"\";\n",
       "  \n",
       "    if (typeof (window._bokeh_onload_callbacks) === \"undefined\" || force !== \"\") {\n",
       "      window._bokeh_onload_callbacks = [];\n",
       "      window._bokeh_is_loading = undefined;\n",
       "    }\n",
       "  \n",
       "  \n",
       "    \n",
       "    if (typeof (window._bokeh_timeout) === \"undefined\" || force !== \"\") {\n",
       "      window._bokeh_timeout = Date.now() + 0;\n",
       "      window._bokeh_failed_load = false;\n",
       "    }\n",
       "  \n",
       "    var NB_LOAD_WARNING = {'data': {'text/html':\n",
       "       \"<div style='background-color: #fdd'>\\n\"+\n",
       "       \"<p>\\n\"+\n",
       "       \"BokehJS does not appear to have successfully loaded. If loading BokehJS from CDN, this \\n\"+\n",
       "       \"may be due to a slow or bad network connection. Possible fixes:\\n\"+\n",
       "       \"</p>\\n\"+\n",
       "       \"<ul>\\n\"+\n",
       "       \"<li>re-rerun `output_notebook()` to attempt to load from CDN again, or</li>\\n\"+\n",
       "       \"<li>use INLINE resources instead, as so:</li>\\n\"+\n",
       "       \"</ul>\\n\"+\n",
       "       \"<code>\\n\"+\n",
       "       \"from bokeh.resources import INLINE\\n\"+\n",
       "       \"output_notebook(resources=INLINE)\\n\"+\n",
       "       \"</code>\\n\"+\n",
       "       \"</div>\"}};\n",
       "  \n",
       "    function display_loaded() {\n",
       "      if (window.Bokeh !== undefined) {\n",
       "        Bokeh.$(\"#c3205ef0-297e-46f4-baa6-b8cfc814caf8\").text(\"BokehJS successfully loaded.\");\n",
       "      } else if (Date.now() < window._bokeh_timeout) {\n",
       "        setTimeout(display_loaded, 100)\n",
       "      }\n",
       "    }if ((window.Jupyter !== undefined) && Jupyter.notebook.kernel) {\n",
       "      comm_manager = Jupyter.notebook.kernel.comm_manager\n",
       "      comm_manager.register_target(\"129727d0-966c-4df5-898c-0d0435104193\", function () {});\n",
       "    }\n",
       "  \n",
       "    function run_callbacks() {\n",
       "      window._bokeh_onload_callbacks.forEach(function(callback) { callback() });\n",
       "      delete window._bokeh_onload_callbacks\n",
       "      console.info(\"Bokeh: all callbacks have finished\");\n",
       "    }\n",
       "  \n",
       "    function load_libs(js_urls, callback) {\n",
       "      window._bokeh_onload_callbacks.push(callback);\n",
       "      if (window._bokeh_is_loading > 0) {\n",
       "        console.log(\"Bokeh: BokehJS is being loaded, scheduling callback at\", now());\n",
       "        return null;\n",
       "      }\n",
       "      if (js_urls == null || js_urls.length === 0) {\n",
       "        run_callbacks();\n",
       "        return null;\n",
       "      }\n",
       "      console.log(\"Bokeh: BokehJS not loaded, scheduling load and callback at\", now());\n",
       "      window._bokeh_is_loading = js_urls.length;\n",
       "      for (var i = 0; i < js_urls.length; i++) {\n",
       "        var url = js_urls[i];\n",
       "        var s = document.createElement('script');\n",
       "        s.src = url;\n",
       "        s.async = false;\n",
       "        s.onreadystatechange = s.onload = function() {\n",
       "          window._bokeh_is_loading--;\n",
       "          if (window._bokeh_is_loading === 0) {\n",
       "            console.log(\"Bokeh: all BokehJS libraries loaded\");\n",
       "            run_callbacks()\n",
       "          }\n",
       "        };\n",
       "        s.onerror = function() {\n",
       "          console.warn(\"failed to load library \" + url);\n",
       "        };\n",
       "        console.log(\"Bokeh: injecting script tag for BokehJS library: \", url);\n",
       "        document.getElementsByTagName(\"head\")[0].appendChild(s);\n",
       "      }\n",
       "    };var element = document.getElementById(\"c3205ef0-297e-46f4-baa6-b8cfc814caf8\");\n",
       "    if (element == null) {\n",
       "      console.log(\"Bokeh: ERROR: autoload.js configured with elementid 'c3205ef0-297e-46f4-baa6-b8cfc814caf8' but no matching script tag was found. \")\n",
       "      return false;\n",
       "    }\n",
       "  \n",
       "    var js_urls = [];\n",
       "  \n",
       "    var inline_js = [\n",
       "      function(Bokeh) {\n",
       "        Bokeh.$(function() {\n",
       "            var docs_json = {\"ed69888f-6e26-4093-886e-04ad123f89a8\":{\"roots\":{\"references\":[{\"attributes\":{\"plot\":null,\"text\":\"Mouse over the dots\"},\"id\":\"8d05d843-7cf1-4308-a8a2-86cbdd35c746\",\"type\":\"Title\"},{\"attributes\":{\"formatter\":{\"id\":\"9372cd5d-8427-4139-8b73-21170cec2653\",\"type\":\"BasicTickFormatter\"},\"plot\":{\"id\":\"e6774844-22e3-4b24-bc2f-bc44d7272c20\",\"subtype\":\"Figure\",\"type\":\"Plot\"},\"ticker\":{\"id\":\"1ea42ba3-b883-46fe-8638-3b0ae3488b63\",\"type\":\"BasicTicker\"}},\"id\":\"c419dd99-6033-47e2-a25e-c03ef6533465\",\"type\":\"LinearAxis\"},{\"attributes\":{},\"id\":\"cbbf2db4-2ffd-450a-bf51-8e047c8fb19b\",\"type\":\"BasicTickFormatter\"},{\"attributes\":{\"callback\":null},\"id\":\"53281aa1-bb5c-40d2-a6b3-ba23a6b9bfba\",\"type\":\"DataRange1d\"},{\"attributes\":{},\"id\":\"1ea42ba3-b883-46fe-8638-3b0ae3488b63\",\"type\":\"BasicTicker\"},{\"attributes\":{\"fill_alpha\":{\"value\":0.5},\"fill_color\":{\"field\":\"color\"},\"line_alpha\":{\"value\":0.5},\"line_color\":{\"field\":\"color\"},\"size\":{\"units\":\"screen\",\"value\":20},\"x\":{\"field\":\"x\"},\"y\":{\"field\":\"y\"}},\"id\":\"842c3d9f-05b2-43c5-bf92-7e093db6d5e6\",\"type\":\"Circle\"},{\"attributes\":{\"active_drag\":\"auto\",\"active_scroll\":\"auto\",\"active_tap\":\"auto\",\"tools\":[{\"id\":\"56dcecd2-f020-4aca-a68e-eed6defc9ba4\",\"type\":\"HoverTool\"},{\"id\":\"83ac1f4c-30f5-448c-a1b3-0be50dd2d608\",\"type\":\"ResetTool\"},{\"id\":\"461e31e3-e668-4e0d-9285-0e4d6baf3726\",\"type\":\"PanTool\"},{\"id\":\"8d70cc38-66cd-4b4d-a6d6-f5c8f6c7d14f\",\"type\":\"WheelZoomTool\"},{\"id\":\"494c76f6-9b64-4139-bb4a-89090b59c4d2\",\"type\":\"SaveTool\"}]},\"id\":\"53949f26-7975-419c-978a-8aff954fe5c3\",\"type\":\"Toolbar\"},{\"attributes\":{\"callback\":null},\"id\":\"42458f7a-642c-4295-a9ca-3f9e50e1c7d7\",\"type\":\"DataRange1d\"},{\"attributes\":{\"callback\":null,\"plot\":{\"id\":\"e6774844-22e3-4b24-bc2f-bc44d7272c20\",\"subtype\":\"Figure\",\"type\":\"Plot\"},\"tooltips\":[[\"Name\",\"@name\"]]},\"id\":\"56dcecd2-f020-4aca-a68e-eed6defc9ba4\",\"type\":\"HoverTool\"},{\"attributes\":{},\"id\":\"093b40d7-30e0-4c2b-b0d8-f6b1b673181b\",\"type\":\"ToolEvents\"},{\"attributes\":{\"plot\":{\"id\":\"e6774844-22e3-4b24-bc2f-bc44d7272c20\",\"subtype\":\"Figure\",\"type\":\"Plot\"}},\"id\":\"8d70cc38-66cd-4b4d-a6d6-f5c8f6c7d14f\",\"type\":\"WheelZoomTool\"},{\"attributes\":{\"dimension\":1,\"plot\":{\"id\":\"e6774844-22e3-4b24-bc2f-bc44d7272c20\",\"subtype\":\"Figure\",\"type\":\"Plot\"},\"ticker\":{\"id\":\"1ea42ba3-b883-46fe-8638-3b0ae3488b63\",\"type\":\"BasicTicker\"}},\"id\":\"83aababd-6982-44d9-a8c4-a4f14dbd8132\",\"type\":\"Grid\"},{\"attributes\":{\"data_source\":{\"id\":\"1ff27503-56fe-434a-98a4-0d32e4fd1942\",\"type\":\"ColumnDataSource\"},\"glyph\":{\"id\":\"842c3d9f-05b2-43c5-bf92-7e093db6d5e6\",\"type\":\"Circle\"},\"hover_glyph\":null,\"nonselection_glyph\":{\"id\":\"74b9756c-3e14-4cc4-8988-75e05276f403\",\"type\":\"Circle\"},\"selection_glyph\":null},\"id\":\"d2212bfb-799c-4d9a-8af4-b5d3ad3d5acb\",\"type\":\"GlyphRenderer\"},{\"attributes\":{\"callback\":null,\"column_names\":[\"y\",\"color\",\"name\",\"x\"],\"data\":{\"color\":[\"#d2e21b\",\"#c2df23\",\"#4ec36b\",\"#d2e21b\",\"#e5e419\",\"#22a884\",\"#37b878\",\"#f1e51d\",\"#fde725\",\"#7ad151\",\"#8ed645\",\"#a8db34\",\"#22a884\",\"#b0dd2f\",\"#75d054\",\"#9bd93c\",\"#dfe318\",\"#9bd93c\",\"#23898e\",\"#dfe318\",\"#3bbb75\",\"#b5de2b\",\"#81d34d\",\"#bddf26\",\"#443a83\",\"#6ece58\",\"#2cb17e\",\"#463480\",\"#472e7c\",\"#20928c\",\"#b0dd2f\",\"#a8db34\",\"#8ed645\",\"#dfe318\",\"#306a8e\",\"#c2df23\",\"#cae11f\"],\"name\":[[\"260\",\"Star Wars: Episode IV - A New Hope (1977)\",\"0.93\"],[\"318\",\"Shawshank Redemption, The (1994)\",\"0.91\"],[\"356\",\"Forrest Gump (1994)\",\"0.72\"],[\"480\",\"Jurassic Park (1993)\",\"0.93\"],[\"527\",\"Schindler's List (1993)\",\"0.96\"],[\"780\",\"Independence Day (a.k.a. ID4) (1996)\",\"0.6\"],[\"805\",\"Time to Kill, A (1996)\",\"0.67\"],[\"1199\",\"Brazil (1985)\",\"0.98\"],[\"1240\",\"Terminator, The (1984)\",\"1.0\"],[\"2324\",\"Life Is Beautiful (La Vita \\u00e8 bella) (1997)\",\"0.8\"],[\"2329\",\"American History X (1998)\",\"0.83\"],[\"2571\",\"Matrix, The (1999)\",\"0.87\"],[\"2706\",\"American Pie (1999)\",\"0.6\"],[\"2858\",\"American Beauty (1999)\",\"0.88\"],[\"2959\",\"Fight Club (1999)\",\"0.79\"],[\"3967\",\"Billy Elliot (2000)\",\"0.85\"],[\"4465\",\"Accused, The (1988)\",\"0.95\"],[\"4658\",\"Santa Sangre (1989)\",\"0.85\"],[\"4700\",\"Princess Diaries, The (2001)\",\"0.47\"],[\"5147\",\"Wild Strawberries (Smultronst\\u00e4llet) (1957)\",\"0.95\"],[\"5163\",\"Stage Fright (Deliria) (1987)\",\"0.68\"],[\"5349\",\"Spider-Man (2002)\",\"0.89\"],[\"5687\",\"Take Care of My Cat (Goyangileul butaghae) (2001)\",\"0.81\"],[\"6016\",\"City of God (Cidade de Deus) (2002)\",\"0.9\"],[\"6132\",\"New York Ripper, The (Squartatore di New York, Lo) (1982)\",\"0.17\"],[\"6774\",\"Videodrome (1983)\",\"0.78\"],[\"7235\",\"Ichi the Killer (Koroshiya 1) (2001)\",\"0.64\"],[\"32296\",\"Miss Congeniality 2: Armed and Fabulous (2005)\",\"0.15\"],[\"43930\",\"Just My Luck (2006)\",\"0.13\"],[\"48043\",\"Fountain, The (2006)\",\"0.51\"],[\"54503\",\"Superbad (2007)\",\"0.88\"],[\"55444\",\"Control (2007)\",\"0.87\"],[\"74545\",\"Ghost Writer, The (2010)\",\"0.83\"],[\"81845\",\"King's Speech, The (2010)\",\"0.95\"],[\"94018\",\"Battleship (2012)\",\"0.34\"],[\"111759\",\"Edge of Tomorrow (2014)\",\"0.91\"],[\"114028\",\"Pride (2014)\",\"0.92\"]],\"x\":[5.2832496543578324,8.263266304963055,6.080402888934187,3.4670611846015627,8.012862850827643,1.9563192464706614,3.755509495583608,6.34224322689365,4.887597829601472,6.60835290283577,8.407282228254967,6.166922994976304,2.2125037350328154,8.594701228394449,8.44873288967171,5.112584895129661,5.7849314280172175,5.478011932785149,0.7511985315999727,7.467585235072499,4.417500015444921,2.423473011939735,2.558724956197574,8.862855699951105,2.628179377648642,4.335738415983896,4.314339943618703,0.2763807327027913,0.09133591026512687,5.783400284483893,3.6911395441109227,7.3095272701504115,5.439232132618232,6.351129429131264,0.07895014805738226,4.356287831804958,5.350205221235817],\"y\":[0,0,0,0,0,0,0,0,0,0,0,0,0,0,0,0,0,0,0,0,0,0,0,0,0,0,0,0,0,0,0,0,0,0,0,0,0]}},\"id\":\"1ff27503-56fe-434a-98a4-0d32e4fd1942\",\"type\":\"ColumnDataSource\"},{\"attributes\":{\"plot\":{\"id\":\"e6774844-22e3-4b24-bc2f-bc44d7272c20\",\"subtype\":\"Figure\",\"type\":\"Plot\"}},\"id\":\"83ac1f4c-30f5-448c-a1b3-0be50dd2d608\",\"type\":\"ResetTool\"},{\"attributes\":{},\"id\":\"9372cd5d-8427-4139-8b73-21170cec2653\",\"type\":\"BasicTickFormatter\"},{\"attributes\":{\"plot\":{\"id\":\"e6774844-22e3-4b24-bc2f-bc44d7272c20\",\"subtype\":\"Figure\",\"type\":\"Plot\"}},\"id\":\"494c76f6-9b64-4139-bb4a-89090b59c4d2\",\"type\":\"SaveTool\"},{\"attributes\":{\"below\":[{\"id\":\"6746b519-bb97-4aa7-b706-d2b55ec1c0ad\",\"type\":\"LinearAxis\"}],\"left\":[{\"id\":\"c419dd99-6033-47e2-a25e-c03ef6533465\",\"type\":\"LinearAxis\"}],\"plot_height\":360,\"plot_width\":960,\"renderers\":[{\"id\":\"6746b519-bb97-4aa7-b706-d2b55ec1c0ad\",\"type\":\"LinearAxis\"},{\"id\":\"1fc9d6ce-95f3-4b42-a034-f81138b4c7eb\",\"type\":\"Grid\"},{\"id\":\"c419dd99-6033-47e2-a25e-c03ef6533465\",\"type\":\"LinearAxis\"},{\"id\":\"83aababd-6982-44d9-a8c4-a4f14dbd8132\",\"type\":\"Grid\"},{\"id\":\"d2212bfb-799c-4d9a-8af4-b5d3ad3d5acb\",\"type\":\"GlyphRenderer\"}],\"title\":{\"id\":\"8d05d843-7cf1-4308-a8a2-86cbdd35c746\",\"type\":\"Title\"},\"tool_events\":{\"id\":\"093b40d7-30e0-4c2b-b0d8-f6b1b673181b\",\"type\":\"ToolEvents\"},\"toolbar\":{\"id\":\"53949f26-7975-419c-978a-8aff954fe5c3\",\"type\":\"Toolbar\"},\"x_range\":{\"id\":\"53281aa1-bb5c-40d2-a6b3-ba23a6b9bfba\",\"type\":\"DataRange1d\"},\"y_range\":{\"id\":\"42458f7a-642c-4295-a9ca-3f9e50e1c7d7\",\"type\":\"DataRange1d\"}},\"id\":\"e6774844-22e3-4b24-bc2f-bc44d7272c20\",\"subtype\":\"Figure\",\"type\":\"Plot\"},{\"attributes\":{},\"id\":\"26f10130-f253-48ec-9ed1-4981f84f79d0\",\"type\":\"BasicTicker\"},{\"attributes\":{\"plot\":{\"id\":\"e6774844-22e3-4b24-bc2f-bc44d7272c20\",\"subtype\":\"Figure\",\"type\":\"Plot\"},\"ticker\":{\"id\":\"26f10130-f253-48ec-9ed1-4981f84f79d0\",\"type\":\"BasicTicker\"}},\"id\":\"1fc9d6ce-95f3-4b42-a034-f81138b4c7eb\",\"type\":\"Grid\"},{\"attributes\":{\"fill_alpha\":{\"value\":0.1},\"fill_color\":{\"value\":\"#1f77b4\"},\"line_alpha\":{\"value\":0.1},\"line_color\":{\"value\":\"#1f77b4\"},\"size\":{\"units\":\"screen\",\"value\":20},\"x\":{\"field\":\"x\"},\"y\":{\"field\":\"y\"}},\"id\":\"74b9756c-3e14-4cc4-8988-75e05276f403\",\"type\":\"Circle\"},{\"attributes\":{\"formatter\":{\"id\":\"cbbf2db4-2ffd-450a-bf51-8e047c8fb19b\",\"type\":\"BasicTickFormatter\"},\"plot\":{\"id\":\"e6774844-22e3-4b24-bc2f-bc44d7272c20\",\"subtype\":\"Figure\",\"type\":\"Plot\"},\"ticker\":{\"id\":\"26f10130-f253-48ec-9ed1-4981f84f79d0\",\"type\":\"BasicTicker\"}},\"id\":\"6746b519-bb97-4aa7-b706-d2b55ec1c0ad\",\"type\":\"LinearAxis\"},{\"attributes\":{\"plot\":{\"id\":\"e6774844-22e3-4b24-bc2f-bc44d7272c20\",\"subtype\":\"Figure\",\"type\":\"Plot\"}},\"id\":\"461e31e3-e668-4e0d-9285-0e4d6baf3726\",\"type\":\"PanTool\"}],\"root_ids\":[\"e6774844-22e3-4b24-bc2f-bc44d7272c20\"]},\"title\":\"Bokeh Application\",\"version\":\"0.12.2\"}};\n",
       "            var render_items = [{\"docid\":\"ed69888f-6e26-4093-886e-04ad123f89a8\",\"elementid\":\"c3205ef0-297e-46f4-baa6-b8cfc814caf8\",\"modelid\":\"e6774844-22e3-4b24-bc2f-bc44d7272c20\",\"notebook_comms_target\":\"129727d0-966c-4df5-898c-0d0435104193\"}];\n",
       "            \n",
       "            Bokeh.embed.embed_items(docs_json, render_items);\n",
       "        });\n",
       "      },\n",
       "      function(Bokeh) {\n",
       "      }\n",
       "    ];\n",
       "  \n",
       "    function run_inline_js() {\n",
       "      \n",
       "      if ((window.Bokeh !== undefined) || (force === \"1\")) {\n",
       "        for (var i = 0; i < inline_js.length; i++) {\n",
       "          inline_js[i](window.Bokeh);\n",
       "        }if (force === \"1\") {\n",
       "          display_loaded();\n",
       "        }} else if (Date.now() < window._bokeh_timeout) {\n",
       "        setTimeout(run_inline_js, 100);\n",
       "      } else if (!window._bokeh_failed_load) {\n",
       "        console.log(\"Bokeh: BokehJS failed to load within specified timeout.\");\n",
       "        window._bokeh_failed_load = true;\n",
       "      } else if (!force) {\n",
       "        var cell = $(\"#c3205ef0-297e-46f4-baa6-b8cfc814caf8\").parents('.cell').data().cell;\n",
       "        cell.output_area.append_execute_result(NB_LOAD_WARNING)\n",
       "      }\n",
       "  \n",
       "    }\n",
       "  \n",
       "    if (window._bokeh_is_loading === 0) {\n",
       "      console.log(\"Bokeh: BokehJS loaded, going straight to plotting\");\n",
       "      run_inline_js();\n",
       "    } else {\n",
       "      load_libs(js_urls, function() {\n",
       "        console.log(\"Bokeh: BokehJS plotting callback run at\", now());\n",
       "        run_inline_js();\n",
       "      });\n",
       "    }\n",
       "  }(this));\n",
       "</script>"
      ]
     },
     "metadata": {},
     "output_type": "display_data"
    },
    {
     "data": {
      "text/html": [
       "<p><code>&lt;Bokeh Notebook handle for <strong>In[46]</strong>&gt;</code></p>"
      ],
      "text/plain": [
       "<bokeh.io._CommsHandle at 0x7fac4e52a080>"
      ]
     },
     "execution_count": 46,
     "metadata": {},
     "output_type": "execute_result"
    }
   ],
   "source": [
    "#Projecting on first principal component\n",
    "\n",
    "hover2 = HoverTool(\n",
    "    tooltips=[\n",
    "        (\"Name\", \"@name\"),\n",
    "    ])\n",
    "tools2 = [hover2, ResetTool(), PanTool(), WheelZoomTool(), SaveTool()]\n",
    "\n",
    "source2 = ColumnDataSource(\n",
    "    data={\n",
    "        \"x\": [x[0] for x in projected_matrix],\n",
    "        \"y\": [0 for x in projected_matrix],\n",
    "        \"name\": [x for x in movies],\n",
    "        \"color\": [val2rgb(x[2]) for x in movies],\n",
    "    })\n",
    "\n",
    "p = figure(plot_width=960, plot_height=360, tools=tools2, title=\"Mouse over the dots\")\n",
    "p.circle(\"x\", \"y\", source=source2, size=20, color=\"color\", alpha=0.5)\n",
    "show(p, notebook_handle=True)"
   ]
  },
  {
   "cell_type": "markdown",
   "metadata": {},
   "source": [
    "By projecting the data points on the first axis, we can see that there is quite a strong correlation between the rotten tomato score and the coordinate of the point in that direction. As for the second principal direction, we can see on the plot below that is not really correlated to the rotten tomato score."
   ]
  },
  {
   "cell_type": "code",
   "execution_count": 48,
   "metadata": {
    "collapsed": false
   },
   "outputs": [
    {
     "data": {
      "text/html": [
       "\n",
       "\n",
       "    <div class=\"bk-root\">\n",
       "        <div class=\"plotdiv\" id=\"08f72a64-24e3-4353-a23f-c1849817a519\"></div>\n",
       "    </div>\n",
       "<script type=\"text/javascript\">\n",
       "  \n",
       "  (function(global) {\n",
       "    function now() {\n",
       "      return new Date();\n",
       "    }\n",
       "  \n",
       "    var force = \"\";\n",
       "  \n",
       "    if (typeof (window._bokeh_onload_callbacks) === \"undefined\" || force !== \"\") {\n",
       "      window._bokeh_onload_callbacks = [];\n",
       "      window._bokeh_is_loading = undefined;\n",
       "    }\n",
       "  \n",
       "  \n",
       "    \n",
       "    if (typeof (window._bokeh_timeout) === \"undefined\" || force !== \"\") {\n",
       "      window._bokeh_timeout = Date.now() + 0;\n",
       "      window._bokeh_failed_load = false;\n",
       "    }\n",
       "  \n",
       "    var NB_LOAD_WARNING = {'data': {'text/html':\n",
       "       \"<div style='background-color: #fdd'>\\n\"+\n",
       "       \"<p>\\n\"+\n",
       "       \"BokehJS does not appear to have successfully loaded. If loading BokehJS from CDN, this \\n\"+\n",
       "       \"may be due to a slow or bad network connection. Possible fixes:\\n\"+\n",
       "       \"</p>\\n\"+\n",
       "       \"<ul>\\n\"+\n",
       "       \"<li>re-rerun `output_notebook()` to attempt to load from CDN again, or</li>\\n\"+\n",
       "       \"<li>use INLINE resources instead, as so:</li>\\n\"+\n",
       "       \"</ul>\\n\"+\n",
       "       \"<code>\\n\"+\n",
       "       \"from bokeh.resources import INLINE\\n\"+\n",
       "       \"output_notebook(resources=INLINE)\\n\"+\n",
       "       \"</code>\\n\"+\n",
       "       \"</div>\"}};\n",
       "  \n",
       "    function display_loaded() {\n",
       "      if (window.Bokeh !== undefined) {\n",
       "        Bokeh.$(\"#08f72a64-24e3-4353-a23f-c1849817a519\").text(\"BokehJS successfully loaded.\");\n",
       "      } else if (Date.now() < window._bokeh_timeout) {\n",
       "        setTimeout(display_loaded, 100)\n",
       "      }\n",
       "    }if ((window.Jupyter !== undefined) && Jupyter.notebook.kernel) {\n",
       "      comm_manager = Jupyter.notebook.kernel.comm_manager\n",
       "      comm_manager.register_target(\"b3e6afa8-4e30-419f-9df4-f08945908a24\", function () {});\n",
       "    }\n",
       "  \n",
       "    function run_callbacks() {\n",
       "      window._bokeh_onload_callbacks.forEach(function(callback) { callback() });\n",
       "      delete window._bokeh_onload_callbacks\n",
       "      console.info(\"Bokeh: all callbacks have finished\");\n",
       "    }\n",
       "  \n",
       "    function load_libs(js_urls, callback) {\n",
       "      window._bokeh_onload_callbacks.push(callback);\n",
       "      if (window._bokeh_is_loading > 0) {\n",
       "        console.log(\"Bokeh: BokehJS is being loaded, scheduling callback at\", now());\n",
       "        return null;\n",
       "      }\n",
       "      if (js_urls == null || js_urls.length === 0) {\n",
       "        run_callbacks();\n",
       "        return null;\n",
       "      }\n",
       "      console.log(\"Bokeh: BokehJS not loaded, scheduling load and callback at\", now());\n",
       "      window._bokeh_is_loading = js_urls.length;\n",
       "      for (var i = 0; i < js_urls.length; i++) {\n",
       "        var url = js_urls[i];\n",
       "        var s = document.createElement('script');\n",
       "        s.src = url;\n",
       "        s.async = false;\n",
       "        s.onreadystatechange = s.onload = function() {\n",
       "          window._bokeh_is_loading--;\n",
       "          if (window._bokeh_is_loading === 0) {\n",
       "            console.log(\"Bokeh: all BokehJS libraries loaded\");\n",
       "            run_callbacks()\n",
       "          }\n",
       "        };\n",
       "        s.onerror = function() {\n",
       "          console.warn(\"failed to load library \" + url);\n",
       "        };\n",
       "        console.log(\"Bokeh: injecting script tag for BokehJS library: \", url);\n",
       "        document.getElementsByTagName(\"head\")[0].appendChild(s);\n",
       "      }\n",
       "    };var element = document.getElementById(\"08f72a64-24e3-4353-a23f-c1849817a519\");\n",
       "    if (element == null) {\n",
       "      console.log(\"Bokeh: ERROR: autoload.js configured with elementid '08f72a64-24e3-4353-a23f-c1849817a519' but no matching script tag was found. \")\n",
       "      return false;\n",
       "    }\n",
       "  \n",
       "    var js_urls = [];\n",
       "  \n",
       "    var inline_js = [\n",
       "      function(Bokeh) {\n",
       "        Bokeh.$(function() {\n",
       "            var docs_json = {\"c4ecbc12-7ba5-4f2a-9bd7-1dd52c584bc5\":{\"roots\":{\"references\":[{\"attributes\":{\"active_drag\":\"auto\",\"active_scroll\":\"auto\",\"active_tap\":\"auto\",\"tools\":[{\"id\":\"6ae41042-687f-4f92-932d-00edd1f35523\",\"type\":\"HoverTool\"},{\"id\":\"1a19b9f9-ee60-41d7-a15c-e63260b549f8\",\"type\":\"ResetTool\"},{\"id\":\"6e4eecec-e767-4c53-a61a-6a36d397f84a\",\"type\":\"PanTool\"},{\"id\":\"e8c308bc-a6b0-4d14-b02d-83be97de7808\",\"type\":\"WheelZoomTool\"},{\"id\":\"fb8a7928-9fc9-4ebd-a5d6-337a3c4310bb\",\"type\":\"SaveTool\"}]},\"id\":\"c188c09d-4ed8-4231-b6bc-4352dafd34fe\",\"type\":\"Toolbar\"},{\"attributes\":{\"formatter\":{\"id\":\"7b1dea52-c2e8-4ec7-bf8c-1f8a7cae5b67\",\"type\":\"BasicTickFormatter\"},\"plot\":{\"id\":\"f6490bbb-3942-4b18-bfdd-6795c39272e9\",\"subtype\":\"Figure\",\"type\":\"Plot\"},\"ticker\":{\"id\":\"89130e7f-5059-46de-bdbe-58d8a4d5c1b3\",\"type\":\"BasicTicker\"}},\"id\":\"bddd944f-8d67-4107-9615-e45ce3f07751\",\"type\":\"LinearAxis\"},{\"attributes\":{\"fill_alpha\":{\"value\":0.1},\"fill_color\":{\"value\":\"#1f77b4\"},\"line_alpha\":{\"value\":0.1},\"line_color\":{\"value\":\"#1f77b4\"},\"size\":{\"units\":\"screen\",\"value\":20},\"x\":{\"field\":\"x\"},\"y\":{\"field\":\"y\"}},\"id\":\"c778f1b3-9c6a-4f31-8a47-c92a07236b8b\",\"type\":\"Circle\"},{\"attributes\":{\"callback\":null},\"id\":\"9ce4d349-493b-4f6a-9bac-afb7803db039\",\"type\":\"DataRange1d\"},{\"attributes\":{},\"id\":\"7b1dea52-c2e8-4ec7-bf8c-1f8a7cae5b67\",\"type\":\"BasicTickFormatter\"},{\"attributes\":{},\"id\":\"cde48261-a961-499b-9cc2-1a30ae71c48f\",\"type\":\"BasicTickFormatter\"},{\"attributes\":{\"plot\":{\"id\":\"f6490bbb-3942-4b18-bfdd-6795c39272e9\",\"subtype\":\"Figure\",\"type\":\"Plot\"}},\"id\":\"1a19b9f9-ee60-41d7-a15c-e63260b549f8\",\"type\":\"ResetTool\"},{\"attributes\":{},\"id\":\"7bf7ac74-b73f-4b10-8b5e-24cedd9a342c\",\"type\":\"ToolEvents\"},{\"attributes\":{\"dimension\":1,\"plot\":{\"id\":\"f6490bbb-3942-4b18-bfdd-6795c39272e9\",\"subtype\":\"Figure\",\"type\":\"Plot\"},\"ticker\":{\"id\":\"d8e7dc02-9771-402f-ba0b-0be825899b5e\",\"type\":\"BasicTicker\"}},\"id\":\"ce628ea1-b193-49e4-b0b2-030084aca5ef\",\"type\":\"Grid\"},{\"attributes\":{\"plot\":{\"id\":\"f6490bbb-3942-4b18-bfdd-6795c39272e9\",\"subtype\":\"Figure\",\"type\":\"Plot\"}},\"id\":\"6e4eecec-e767-4c53-a61a-6a36d397f84a\",\"type\":\"PanTool\"},{\"attributes\":{\"plot\":{\"id\":\"f6490bbb-3942-4b18-bfdd-6795c39272e9\",\"subtype\":\"Figure\",\"type\":\"Plot\"}},\"id\":\"fb8a7928-9fc9-4ebd-a5d6-337a3c4310bb\",\"type\":\"SaveTool\"},{\"attributes\":{},\"id\":\"d8e7dc02-9771-402f-ba0b-0be825899b5e\",\"type\":\"BasicTicker\"},{\"attributes\":{\"data_source\":{\"id\":\"4ec1fb77-d4ce-491d-bdf9-450d33444826\",\"type\":\"ColumnDataSource\"},\"glyph\":{\"id\":\"252cbf4c-a133-4086-814d-549e3451cf32\",\"type\":\"Circle\"},\"hover_glyph\":null,\"nonselection_glyph\":{\"id\":\"c778f1b3-9c6a-4f31-8a47-c92a07236b8b\",\"type\":\"Circle\"},\"selection_glyph\":null},\"id\":\"bf32c904-75d0-44b8-ac07-f606688e8c88\",\"type\":\"GlyphRenderer\"},{\"attributes\":{\"plot\":{\"id\":\"f6490bbb-3942-4b18-bfdd-6795c39272e9\",\"subtype\":\"Figure\",\"type\":\"Plot\"}},\"id\":\"e8c308bc-a6b0-4d14-b02d-83be97de7808\",\"type\":\"WheelZoomTool\"},{\"attributes\":{\"callback\":null,\"plot\":{\"id\":\"f6490bbb-3942-4b18-bfdd-6795c39272e9\",\"subtype\":\"Figure\",\"type\":\"Plot\"},\"tooltips\":[[\"Name\",\"@name\"]]},\"id\":\"6ae41042-687f-4f92-932d-00edd1f35523\",\"type\":\"HoverTool\"},{\"attributes\":{\"formatter\":{\"id\":\"cde48261-a961-499b-9cc2-1a30ae71c48f\",\"type\":\"BasicTickFormatter\"},\"plot\":{\"id\":\"f6490bbb-3942-4b18-bfdd-6795c39272e9\",\"subtype\":\"Figure\",\"type\":\"Plot\"},\"ticker\":{\"id\":\"d8e7dc02-9771-402f-ba0b-0be825899b5e\",\"type\":\"BasicTicker\"}},\"id\":\"7f090bb8-5e38-446e-bd98-962ce07337d1\",\"type\":\"LinearAxis\"},{\"attributes\":{\"callback\":null,\"column_names\":[\"y\",\"color\",\"name\",\"x\"],\"data\":{\"color\":[\"#d2e21b\",\"#c2df23\",\"#4ec36b\",\"#d2e21b\",\"#e5e419\",\"#22a884\",\"#37b878\",\"#f1e51d\",\"#fde725\",\"#7ad151\",\"#8ed645\",\"#a8db34\",\"#22a884\",\"#b0dd2f\",\"#75d054\",\"#9bd93c\",\"#dfe318\",\"#9bd93c\",\"#23898e\",\"#dfe318\",\"#3bbb75\",\"#b5de2b\",\"#81d34d\",\"#bddf26\",\"#443a83\",\"#6ece58\",\"#2cb17e\",\"#463480\",\"#472e7c\",\"#20928c\",\"#b0dd2f\",\"#a8db34\",\"#8ed645\",\"#dfe318\",\"#306a8e\",\"#c2df23\",\"#cae11f\"],\"name\":[[\"260\",\"Star Wars: Episode IV - A New Hope (1977)\",\"0.93\"],[\"318\",\"Shawshank Redemption, The (1994)\",\"0.91\"],[\"356\",\"Forrest Gump (1994)\",\"0.72\"],[\"480\",\"Jurassic Park (1993)\",\"0.93\"],[\"527\",\"Schindler's List (1993)\",\"0.96\"],[\"780\",\"Independence Day (a.k.a. ID4) (1996)\",\"0.6\"],[\"805\",\"Time to Kill, A (1996)\",\"0.67\"],[\"1199\",\"Brazil (1985)\",\"0.98\"],[\"1240\",\"Terminator, The (1984)\",\"1.0\"],[\"2324\",\"Life Is Beautiful (La Vita \\u00e8 bella) (1997)\",\"0.8\"],[\"2329\",\"American History X (1998)\",\"0.83\"],[\"2571\",\"Matrix, The (1999)\",\"0.87\"],[\"2706\",\"American Pie (1999)\",\"0.6\"],[\"2858\",\"American Beauty (1999)\",\"0.88\"],[\"2959\",\"Fight Club (1999)\",\"0.79\"],[\"3967\",\"Billy Elliot (2000)\",\"0.85\"],[\"4465\",\"Accused, The (1988)\",\"0.95\"],[\"4658\",\"Santa Sangre (1989)\",\"0.85\"],[\"4700\",\"Princess Diaries, The (2001)\",\"0.47\"],[\"5147\",\"Wild Strawberries (Smultronst\\u00e4llet) (1957)\",\"0.95\"],[\"5163\",\"Stage Fright (Deliria) (1987)\",\"0.68\"],[\"5349\",\"Spider-Man (2002)\",\"0.89\"],[\"5687\",\"Take Care of My Cat (Goyangileul butaghae) (2001)\",\"0.81\"],[\"6016\",\"City of God (Cidade de Deus) (2002)\",\"0.9\"],[\"6132\",\"New York Ripper, The (Squartatore di New York, Lo) (1982)\",\"0.17\"],[\"6774\",\"Videodrome (1983)\",\"0.78\"],[\"7235\",\"Ichi the Killer (Koroshiya 1) (2001)\",\"0.64\"],[\"32296\",\"Miss Congeniality 2: Armed and Fabulous (2005)\",\"0.15\"],[\"43930\",\"Just My Luck (2006)\",\"0.13\"],[\"48043\",\"Fountain, The (2006)\",\"0.51\"],[\"54503\",\"Superbad (2007)\",\"0.88\"],[\"55444\",\"Control (2007)\",\"0.87\"],[\"74545\",\"Ghost Writer, The (2010)\",\"0.83\"],[\"81845\",\"King's Speech, The (2010)\",\"0.95\"],[\"94018\",\"Battleship (2012)\",\"0.34\"],[\"111759\",\"Edge of Tomorrow (2014)\",\"0.91\"],[\"114028\",\"Pride (2014)\",\"0.92\"]],\"x\":[0,0,0,0,0,0,0,0,0,0,0,0,0,0,0,0,0,0,0,0,0,0,0,0,0,0,0,0,0,0,0,0,0,0,0,0,0],\"y\":[-7.576582963071961,-5.846979358682076,-5.029462539700734,-7.283029689024394,-4.795991450586858,-7.004651322298655,-3.8082300471480055,-3.2403711678747174,-7.444349465494821,-3.535904261552043,-4.879104796308239,-8.28875686934102,-3.6432593003081424,-3.1185938681355125,-5.661292452125196,-2.2201140873897733,-3.482605027518495,-1.8601570872829674,-2.300994940111544,-1.0961272811702452,-2.82659672751574,-6.568361706153171,0.21770525613205594,-4.322910455168633,-2.995109243900949,-1.8528059086619648,-2.541359361363764,-2.289430325011643,-1.8303448652081356,-2.8005467589011537,-2.7906872889413794,-1.815051254156259,-3.722982094802207,-3.7401245085837203,-4.95140784927581,-7.076629257758825,-1.8469216704740612]}},\"id\":\"4ec1fb77-d4ce-491d-bdf9-450d33444826\",\"type\":\"ColumnDataSource\"},{\"attributes\":{\"plot\":null,\"text\":\"Mouse over the dots\"},\"id\":\"8007175d-e3e2-4f6b-ad30-b06acfd9f533\",\"type\":\"Title\"},{\"attributes\":{\"fill_alpha\":{\"value\":0.5},\"fill_color\":{\"field\":\"color\"},\"line_alpha\":{\"value\":0.5},\"line_color\":{\"field\":\"color\"},\"size\":{\"units\":\"screen\",\"value\":20},\"x\":{\"field\":\"x\"},\"y\":{\"field\":\"y\"}},\"id\":\"252cbf4c-a133-4086-814d-549e3451cf32\",\"type\":\"Circle\"},{\"attributes\":{\"plot\":{\"id\":\"f6490bbb-3942-4b18-bfdd-6795c39272e9\",\"subtype\":\"Figure\",\"type\":\"Plot\"},\"ticker\":{\"id\":\"89130e7f-5059-46de-bdbe-58d8a4d5c1b3\",\"type\":\"BasicTicker\"}},\"id\":\"fd071a7f-4d07-4358-a1b8-25d7870d805b\",\"type\":\"Grid\"},{\"attributes\":{\"below\":[{\"id\":\"bddd944f-8d67-4107-9615-e45ce3f07751\",\"type\":\"LinearAxis\"}],\"left\":[{\"id\":\"7f090bb8-5e38-446e-bd98-962ce07337d1\",\"type\":\"LinearAxis\"}],\"plot_height\":360,\"plot_width\":960,\"renderers\":[{\"id\":\"bddd944f-8d67-4107-9615-e45ce3f07751\",\"type\":\"LinearAxis\"},{\"id\":\"fd071a7f-4d07-4358-a1b8-25d7870d805b\",\"type\":\"Grid\"},{\"id\":\"7f090bb8-5e38-446e-bd98-962ce07337d1\",\"type\":\"LinearAxis\"},{\"id\":\"ce628ea1-b193-49e4-b0b2-030084aca5ef\",\"type\":\"Grid\"},{\"id\":\"bf32c904-75d0-44b8-ac07-f606688e8c88\",\"type\":\"GlyphRenderer\"}],\"title\":{\"id\":\"8007175d-e3e2-4f6b-ad30-b06acfd9f533\",\"type\":\"Title\"},\"tool_events\":{\"id\":\"7bf7ac74-b73f-4b10-8b5e-24cedd9a342c\",\"type\":\"ToolEvents\"},\"toolbar\":{\"id\":\"c188c09d-4ed8-4231-b6bc-4352dafd34fe\",\"type\":\"Toolbar\"},\"x_range\":{\"id\":\"0109349c-1e4c-445e-a61f-3044439e2223\",\"type\":\"DataRange1d\"},\"y_range\":{\"id\":\"9ce4d349-493b-4f6a-9bac-afb7803db039\",\"type\":\"DataRange1d\"}},\"id\":\"f6490bbb-3942-4b18-bfdd-6795c39272e9\",\"subtype\":\"Figure\",\"type\":\"Plot\"},{\"attributes\":{\"callback\":null},\"id\":\"0109349c-1e4c-445e-a61f-3044439e2223\",\"type\":\"DataRange1d\"},{\"attributes\":{},\"id\":\"89130e7f-5059-46de-bdbe-58d8a4d5c1b3\",\"type\":\"BasicTicker\"}],\"root_ids\":[\"f6490bbb-3942-4b18-bfdd-6795c39272e9\"]},\"title\":\"Bokeh Application\",\"version\":\"0.12.2\"}};\n",
       "            var render_items = [{\"docid\":\"c4ecbc12-7ba5-4f2a-9bd7-1dd52c584bc5\",\"elementid\":\"08f72a64-24e3-4353-a23f-c1849817a519\",\"modelid\":\"f6490bbb-3942-4b18-bfdd-6795c39272e9\",\"notebook_comms_target\":\"b3e6afa8-4e30-419f-9df4-f08945908a24\"}];\n",
       "            \n",
       "            Bokeh.embed.embed_items(docs_json, render_items);\n",
       "        });\n",
       "      },\n",
       "      function(Bokeh) {\n",
       "      }\n",
       "    ];\n",
       "  \n",
       "    function run_inline_js() {\n",
       "      \n",
       "      if ((window.Bokeh !== undefined) || (force === \"1\")) {\n",
       "        for (var i = 0; i < inline_js.length; i++) {\n",
       "          inline_js[i](window.Bokeh);\n",
       "        }if (force === \"1\") {\n",
       "          display_loaded();\n",
       "        }} else if (Date.now() < window._bokeh_timeout) {\n",
       "        setTimeout(run_inline_js, 100);\n",
       "      } else if (!window._bokeh_failed_load) {\n",
       "        console.log(\"Bokeh: BokehJS failed to load within specified timeout.\");\n",
       "        window._bokeh_failed_load = true;\n",
       "      } else if (!force) {\n",
       "        var cell = $(\"#08f72a64-24e3-4353-a23f-c1849817a519\").parents('.cell').data().cell;\n",
       "        cell.output_area.append_execute_result(NB_LOAD_WARNING)\n",
       "      }\n",
       "  \n",
       "    }\n",
       "  \n",
       "    if (window._bokeh_is_loading === 0) {\n",
       "      console.log(\"Bokeh: BokehJS loaded, going straight to plotting\");\n",
       "      run_inline_js();\n",
       "    } else {\n",
       "      load_libs(js_urls, function() {\n",
       "        console.log(\"Bokeh: BokehJS plotting callback run at\", now());\n",
       "        run_inline_js();\n",
       "      });\n",
       "    }\n",
       "  }(this));\n",
       "</script>"
      ]
     },
     "metadata": {},
     "output_type": "display_data"
    },
    {
     "data": {
      "text/html": [
       "<p><code>&lt;Bokeh Notebook handle for <strong>In[48]</strong>&gt;</code></p>"
      ],
      "text/plain": [
       "<bokeh.io._CommsHandle at 0x7fac4e4c1fd0>"
      ]
     },
     "execution_count": 48,
     "metadata": {},
     "output_type": "execute_result"
    }
   ],
   "source": [
    "source3 = ColumnDataSource(\n",
    "    data={\n",
    "        \"x\": [0 for x in projected_matrix],\n",
    "        \"y\": [x[1] for x in projected_matrix],\n",
    "        \"name\": [x for x in movies],\n",
    "        \"color\": [val2rgb(x[2]) for x in movies],\n",
    "    })\n",
    "\n",
    "hover3 = HoverTool(\n",
    "    tooltips=[\n",
    "        (\"Name\", \"@name\"),\n",
    "    ])\n",
    "tools3 = [hover3, ResetTool(), PanTool(), WheelZoomTool(), SaveTool()]\n",
    "\n",
    "p = figure(plot_width=960, plot_height=360, tools=tools3, title=\"Mouse over the dots\")\n",
    "p.circle(\"x\", \"y\", source=source3, size=20, color=\"color\", alpha=0.5)\n",
    "show(p, notebook_handle=True)"
   ]
  },
  {
   "cell_type": "code",
   "execution_count": null,
   "metadata": {
    "collapsed": true
   },
   "outputs": [],
   "source": []
  }
 ],
 "metadata": {
  "anaconda-cloud": {},
  "kernelspec": {
   "display_name": "Python 3",
   "language": "python",
   "name": "python3"
  },
  "language_info": {
   "codemirror_mode": {
    "name": "ipython",
    "version": 3
   },
   "file_extension": ".py",
   "mimetype": "text/x-python",
   "name": "python",
   "nbconvert_exporter": "python",
   "pygments_lexer": "ipython3",
   "version": "3.5.2"
  }
 },
 "nbformat": 4,
 "nbformat_minor": 1
}
