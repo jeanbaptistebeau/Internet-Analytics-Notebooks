{
 "cells": [
  {
   "cell_type": "markdown",
   "metadata": {},
   "source": [
    "# Lab 3 — dimensionality reduction"
   ]
  },
  {
   "cell_type": "code",
   "execution_count": 1,
   "metadata": {
    "collapsed": true
   },
   "outputs": [],
   "source": [
    "import json\n",
    "import matplotlib.pyplot as plt\n",
    "import numpy as np\n",
    "import numpy.linalg as la\n",
    "\n",
    "from operator import itemgetter\n",
    "\n",
    "%matplotlib inline\n",
    "plt.style.use(\"ggplot\")"
   ]
  },
  {
   "cell_type": "code",
   "execution_count": 191,
   "metadata": {
    "collapsed": false
   },
   "outputs": [
    {
     "name": "stdout",
     "output_type": "stream",
     "text": [
      "{\"relevance\": 0.11449999999999999, \"tagId\": 1127, \"movieId\": 131170}\n",
      "{\"relevance\": 0.02174999999999999, \"tagId\": 1128, \"movieId\": 131170}\n",
      "{\"genres\": [\"(no genres listed)\"], \"movieId\": 131260, \"title\": \"Rentun Ruusu (2001)\"}\n",
      "{\"genres\": [\"Adventure\", \"Fantasy\", \"Horror\"], \"movieId\": 131262, \"title\": \"Innocence (2014)\"}\n",
      "{\"tagId\": 1127, \"tag\": \"zombie\"}\n",
      "{\"tagId\": 1128, \"tag\": \"zombies\"}\n"
     ]
    }
   ],
   "source": [
    "!hdfs dfs -cat /ix/ml-20m/genome-scores.txt | tail -n 2\n",
    "!hdfs dfs -cat /ix/ml-20m/movies.txt | tail -n 2\n",
    "!hdfs dfs -cat /ix/ml-20m/genome-tags.txt | tail -n 2"
   ]
  },
  {
   "cell_type": "code",
   "execution_count": 192,
   "metadata": {
    "collapsed": true
   },
   "outputs": [],
   "source": [
    "scores = sc.textFile(\"/ix/ml-20m/genome-scores.txt\").map(json.loads)\n",
    "movies = sc.textFile(\"/ix/ml-20m/movies.txt\").map(json.loads)\n",
    "tags = sc.textFile(\"/ix/ml-20m/genome-tags.txt\").map(json.loads)"
   ]
  },
  {
   "cell_type": "markdown",
   "metadata": {
    "collapsed": true
   },
   "source": [
    "### Exercise 3.1"
   ]
  },
  {
   "cell_type": "code",
   "execution_count": 117,
   "metadata": {
    "collapsed": true
   },
   "outputs": [],
   "source": [
    "from collections import OrderedDict\n",
    "buildTuple = lambda j: (j['tagId'], (j['movieId'], j['relevance']))\n",
    "mapped = scores.map(buildTuple).groupByKey().mapValues(lambda ls: OrderedDict(ls)).sortByKey().persist()"
   ]
  },
  {
   "cell_type": "markdown",
   "metadata": {},
   "source": [
    "#### Exploring the scores data"
   ]
  },
  {
   "cell_type": "code",
   "execution_count": 118,
   "metadata": {
    "collapsed": false
   },
   "outputs": [
    {
     "data": {
      "text/plain": [
       "True"
      ]
     },
     "execution_count": 118,
     "metadata": {},
     "output_type": "execute_result"
    }
   ],
   "source": [
    "seqOp = lambda accTup, entry: (   min(accTup[0], len(entry[1])), max(accTup[0], len(entry[1]))   )\n",
    "combOp = lambda tup1, tup2: (min(tup1[0], tup2[0]), max(tup1[1], tup2[1]))\n",
    "minV, maxV = mapped.aggregate((movies.count(), 0), seqOp, combOp)\n",
    "minV == maxV"
   ]
  },
  {
   "cell_type": "markdown",
   "metadata": {},
   "source": [
    "We checked that all the tags are associated to the same number of movies. As the minimum number of movies per tag is equal to the maximum, each movie has a relevance for every tag: the data is not sparse (we did not consider movies without tags)"
   ]
  },
  {
   "cell_type": "code",
   "execution_count": 119,
   "metadata": {
    "collapsed": false
   },
   "outputs": [
    {
     "data": {
      "text/plain": [
       "0"
      ]
     },
     "execution_count": 119,
     "metadata": {},
     "output_type": "execute_result"
    }
   ],
   "source": [
    "sc.parallelize(list(range(1, mapped.count() + 1))).subtract(mapped.keys()).count()"
   ]
  },
  {
   "cell_type": "markdown",
   "metadata": {},
   "source": [
    "We checked that the tag ids are sequential integers from $1$ to $max(tagId)$. Therefore we know how to retrieve a tag from the matrix: $tagId = rowNumber + 1$.\n",
    "\n",
    "Let's build the matrix:"
   ]
  },
  {
   "cell_type": "code",
   "execution_count": 120,
   "metadata": {
    "collapsed": true
   },
   "outputs": [],
   "source": [
    "rows = mapped.map(lambda kv: list(kv[1].values()))\n",
    "M = np.matrix(rows.collect())"
   ]
  },
  {
   "cell_type": "markdown",
   "metadata": {},
   "source": [
    "Remark that we collect a list of lists. We could use PySparks mllib.linalg to build Vectors and Matrices. However this module uses numpy arrays and matrices on a single machine, therefore this makes no difference.\n",
    "\n",
    "We compute the matrix $M$\n"
   ]
  },
  {
   "cell_type": "code",
   "execution_count": 121,
   "metadata": {
    "collapsed": false
   },
   "outputs": [
    {
     "data": {
      "text/plain": [
       "(1128, 10381)"
      ]
     },
     "execution_count": 121,
     "metadata": {},
     "output_type": "execute_result"
    }
   ],
   "source": [
    "M.shape"
   ]
  },
  {
   "cell_type": "markdown",
   "metadata": {},
   "source": [
    "Let's center the matrix:"
   ]
  },
  {
   "cell_type": "code",
   "execution_count": 122,
   "metadata": {
    "collapsed": true
   },
   "outputs": [],
   "source": [
    "M = M - np.mean(M, axis=0)"
   ]
  },
  {
   "cell_type": "markdown",
   "metadata": {},
   "source": [
    "#### Question A"
   ]
  },
  {
   "cell_type": "code",
   "execution_count": 123,
   "metadata": {
    "collapsed": false
   },
   "outputs": [
    {
     "data": {
      "text/plain": [
       "<matplotlib.text.Text at 0x7fd380909b38>"
      ]
     },
     "execution_count": 123,
     "metadata": {},
     "output_type": "execute_result"
    },
    {
     "data": {
      "image/png": "[encoded data removed]",
      "text/plain": [
       "<matplotlib.figure.Figure at 0x7fd380998cc0>"
      ]
     },
     "metadata": {},
     "output_type": "display_data"
    }
   ],
   "source": [
    "plt.plot(sorted(np.ravel(np.var(M, axis=0)), key=lambda x: -x))\n",
    "plt.title('Variance distribution of the movies')"
   ]
  },
  {
   "cell_type": "code",
   "execution_count": 124,
   "metadata": {
    "collapsed": false
   },
   "outputs": [
    {
     "data": {
      "text/plain": [
       "<matplotlib.text.Text at 0x7fd3809550b8>"
      ]
     },
     "execution_count": 124,
     "metadata": {},
     "output_type": "execute_result"
    },
    {
     "data": {
      "image/png": "[encoded data removed]",
      "text/plain": [
       "<matplotlib.figure.Figure at 0x7fd380a96b70>"
      ]
     },
     "metadata": {},
     "output_type": "display_data"
    }
   ],
   "source": [
    "plt.plot(sorted(np.ravel(np.var(M, axis=1)), key=lambda x: -x))\n",
    "plt.title('Variance distribution of the tags')"
   ]
  },
  {
   "cell_type": "markdown",
   "metadata": {},
   "source": [
    "#### Question B"
   ]
  },
  {
   "cell_type": "code",
   "execution_count": 155,
   "metadata": {
    "collapsed": false
   },
   "outputs": [
    {
     "name": "stdout",
     "output_type": "stream",
     "text": [
      "(10381, 10381)\n"
     ]
    }
   ],
   "source": [
    "C = (M.T @ M) / M.shape[1]\n",
    "print(C.shape)"
   ]
  },
  {
   "cell_type": "code",
   "execution_count": 156,
   "metadata": {
    "collapsed": false
   },
   "outputs": [],
   "source": [
    "sorted_values, vectors = la.eigh(C)\n",
    "sorted_values = sorted_values[::-1]\n",
    "vectors = vectors[::-1]"
   ]
  },
  {
   "cell_type": "code",
   "execution_count": 157,
   "metadata": {
    "collapsed": false
   },
   "outputs": [
    {
     "name": "stdout",
     "output_type": "stream",
     "text": [
      "[  9.99887956e+00   1.27298972e+00   8.52412690e-01 ...,  -2.45480427e-16\n",
      "  -3.25903225e-16  -1.02934514e-15]\n"
     ]
    }
   ],
   "source": [
    "print(sorted_values)"
   ]
  },
  {
   "cell_type": "code",
   "execution_count": 158,
   "metadata": {
    "collapsed": false
   },
   "outputs": [
    {
     "data": {
      "text/plain": [
       "<matplotlib.text.Text at 0x7fd38fb98048>"
      ]
     },
     "execution_count": 158,
     "metadata": {},
     "output_type": "execute_result"
    },
    {
     "data": {
      "image/png": "[encoded data removed]",
      "text/plain": [
       "<matplotlib.figure.Figure at 0x7fd38fbe4ef0>"
      ]
     },
     "metadata": {},
     "output_type": "display_data"
    }
   ],
   "source": [
    "plt.semilogy(sorted_values)\n",
    "plt.title('Eigenvalues of the covariance matrix')"
   ]
  },
  {
   "cell_type": "markdown",
   "metadata": {},
   "source": [
    "#### Question C"
   ]
  },
  {
   "cell_type": "markdown",
   "metadata": {},
   "source": [
    "We can see that eigenvalues fall off very quickly. This means that a few directions can explain the data really well."
   ]
  },
  {
   "cell_type": "markdown",
   "metadata": {},
   "source": [
    "#### Conclusion"
   ]
  },
  {
   "cell_type": "code",
   "execution_count": 171,
   "metadata": {
    "collapsed": true
   },
   "outputs": [],
   "source": [
    "def directionsVariability(ww, ratio):\n",
    "    currentRatio = 0.0\n",
    "    i = 1\n",
    "    tot = np.sum(ww)\n",
    "    while currentRatio < ratio:\n",
    "        currentRatio = np.sum(ww[:i]) / tot\n",
    "        i += 1\n",
    "    return i - 1"
   ]
  },
  {
   "cell_type": "code",
   "execution_count": 172,
   "metadata": {
    "collapsed": false
   },
   "outputs": [
    {
     "name": "stdout",
     "output_type": "stream",
     "text": [
      "We need 27 directions to explain 2/3 of the variability in the data\n"
     ]
    }
   ],
   "source": [
    "print('We need', directionsVariability(sorted_values, 2/3), 'directions to explain 2/3 of the variability in the data')"
   ]
  },
  {
   "cell_type": "markdown",
   "metadata": {},
   "source": [
    "### Exercise 3.2"
   ]
  },
  {
   "cell_type": "markdown",
   "metadata": {},
   "source": [
    "#### Setup"
   ]
  },
  {
   "cell_type": "code",
   "execution_count": 190,
   "metadata": {
    "collapsed": true
   },
   "outputs": [],
   "source": [
    "DIRECTIONS = 5"
   ]
  },
  {
   "cell_type": "code",
   "execution_count": 180,
   "metadata": {
    "collapsed": false
   },
   "outputs": [],
   "source": [
    "top5values = sorted_values[:DIRECTIONS][::-1]\n",
    "top5vectors = vectors[:DIRECTIONS][::-1]"
   ]
  },
  {
   "cell_type": "code",
   "execution_count": 181,
   "metadata": {
    "collapsed": false
   },
   "outputs": [
    {
     "data": {
      "text/plain": [
       "(5, 10381)"
      ]
     },
     "execution_count": 181,
     "metadata": {},
     "output_type": "execute_result"
    }
   ],
   "source": [
    "top5vectors.shape"
   ]
  },
  {
   "cell_type": "code",
   "execution_count": 185,
   "metadata": {
    "collapsed": false
   },
   "outputs": [],
   "source": [
    "reduced = M @ top5vectors.T"
   ]
  },
  {
   "cell_type": "code",
   "execution_count": 187,
   "metadata": {
    "collapsed": false
   },
   "outputs": [
    {
     "data": {
      "text/plain": [
       "(1128, 5)"
      ]
     },
     "execution_count": 187,
     "metadata": {},
     "output_type": "execute_result"
    }
   ],
   "source": [
    "reduced.shape"
   ]
  },
  {
   "cell_type": "code",
   "execution_count": 210,
   "metadata": {
    "collapsed": true
   },
   "outputs": [],
   "source": [
    "tag2name = dict(tags.map(itemgetter(\"tagId\", \"tag\")).collect())"
   ]
  },
  {
   "cell_type": "code",
   "execution_count": 207,
   "metadata": {
    "collapsed": false
   },
   "outputs": [],
   "source": [
    "dir_to_best = {}\n",
    "dir_to_worst = {}\n",
    "for direction in range(DIRECTIONS):\n",
    "    tag_to_score = [(tag, reduced[tag, direction]) for tag in range(1128)]\n",
    "    ordered = sorted(tag_to_score, key=lambda t: -t[1])\n",
    "    best10 = [tag2name[el[0] + 1] for el in ordered[:10:1]]\n",
    "    worst10 = [tag2name[el[0] + 1] for el in ordered[::-1][:10]]\n",
    "    dir_to_best[direction] = best10  \n",
    "    dir_to_worst[direction] = worst10"
   ]
  },
  {
   "cell_type": "code",
   "execution_count": 208,
   "metadata": {
    "collapsed": false
   },
   "outputs": [
    {
     "data": {
      "text/plain": [
       "{0: ['downbeat',\n",
       "  'obsession',\n",
       "  'bleak',\n",
       "  'intimate',\n",
       "  'poignant',\n",
       "  'oscar (best actress)',\n",
       "  'nudity (full frontal - notable)',\n",
       "  'tragedy',\n",
       "  'enigmatic',\n",
       "  'melancholy'],\n",
       " 1: ['touching',\n",
       "  'childhood',\n",
       "  'heartwarming',\n",
       "  'independent film',\n",
       "  'feel good movie',\n",
       "  'inspiring',\n",
       "  'artistic',\n",
       "  'fun movie',\n",
       "  'poignant',\n",
       "  'coming of age'],\n",
       " 2: ['intimate',\n",
       "  'fun',\n",
       "  'kids',\n",
       "  'family',\n",
       "  'stunning',\n",
       "  'forceful',\n",
       "  'fast paced',\n",
       "  'melancholy',\n",
       "  'artistic',\n",
       "  'complex characters'],\n",
       " 3: ['drinking',\n",
       "  'cult classic',\n",
       "  'family drama',\n",
       "  'family',\n",
       "  'cerebral',\n",
       "  'realistic',\n",
       "  'music',\n",
       "  'good soundtrack',\n",
       "  'surreal',\n",
       "  'single father'],\n",
       " 4: ['kids',\n",
       "  'weapons',\n",
       "  'action',\n",
       "  'space',\n",
       "  'scifi',\n",
       "  'sacrifice',\n",
       "  'survival',\n",
       "  'vigilante',\n",
       "  'desert',\n",
       "  'marijuana']}"
      ]
     },
     "execution_count": 208,
     "metadata": {},
     "output_type": "execute_result"
    }
   ],
   "source": [
    "dir_to_best"
   ]
  },
  {
   "cell_type": "code",
   "execution_count": 209,
   "metadata": {
    "collapsed": false
   },
   "outputs": [
    {
     "data": {
      "text/plain": [
       "{0: ['action',\n",
       "  'good action',\n",
       "  'fight scenes',\n",
       "  'breathtaking',\n",
       "  'computer game',\n",
       "  'beautifully filmed',\n",
       "  'car chase',\n",
       "  'exciting',\n",
       "  'cool',\n",
       "  'entertaining'],\n",
       " 1: ['violent',\n",
       "  'cinematography',\n",
       "  'detective',\n",
       "  'suspense',\n",
       "  'supernatural',\n",
       "  'bad acting',\n",
       "  'complex',\n",
       "  'stylish',\n",
       "  'revenge',\n",
       "  'science fiction'],\n",
       " 2: ['wartime',\n",
       "  'action packed',\n",
       "  'war',\n",
       "  'goofy',\n",
       "  'big budget',\n",
       "  'wwii',\n",
       "  'allegory',\n",
       "  'historical',\n",
       "  'period piece',\n",
       "  'dramatic'],\n",
       " 3: ['girlie movie',\n",
       "  'stereotypes',\n",
       "  'romantic comedy',\n",
       "  'feel good movie',\n",
       "  'drama',\n",
       "  'adapted from:book',\n",
       "  'chick flick',\n",
       "  'excellent script',\n",
       "  'intense',\n",
       "  'horror'],\n",
       " 4: ['adapted from:book',\n",
       "  'erotic',\n",
       "  'golden palm',\n",
       "  'cult film',\n",
       "  'childhood',\n",
       "  'queer',\n",
       "  'affectionate',\n",
       "  'pointless',\n",
       "  'melancholic',\n",
       "  'allegory']}"
      ]
     },
     "execution_count": 209,
     "metadata": {},
     "output_type": "execute_result"
    }
   ],
   "source": [
    "dir_to_worst"
   ]
  },
  {
   "cell_type": "markdown",
   "metadata": {},
   "source": [
    "#### Writing file to disk"
   ]
  },
  {
   "cell_type": "code",
   "execution_count": 197,
   "metadata": {
    "collapsed": false
   },
   "outputs": [],
   "source": [
    "tagToCoords = {}\n",
    "for tag in range(1128):\n",
    "    coords = []\n",
    "    for direction in range(DIRECTIONS):\n",
    "        coords.append(reduced[tag, direction])\n",
    "    tagToCoords[tag2name[tag + 1]] = coords\n",
    "\n",
    "jsonarray = json.dumps(tagToCoords, ensure_ascii=False)\n",
    "\n",
    "with open('data.txt', 'w') as dst:\n",
    "    json.dump(jsonarray, dst)"
   ]
  },
  {
   "cell_type": "markdown",
   "metadata": {
    "collapsed": true
   },
   "source": [
    "### Exercise 3.3"
   ]
  },
  {
   "cell_type": "code",
   "execution_count": 211,
   "metadata": {
    "collapsed": true
   },
   "outputs": [],
   "source": [
    "import pickle"
   ]
  },
  {
   "cell_type": "code",
   "execution_count": 212,
   "metadata": {
    "collapsed": false
   },
   "outputs": [],
   "source": [
    "# Reading an object from disk.\n",
    "with open(\"selected-movies.pickle\", \"rb\") as f:\n",
    "    movies = pickle.load(f, encoding=\"utf-8\")\n",
    "    \n",
    "movies = sorted(movies, key=lambda x: x[0])\n",
    "moviesIds = [movie[0] for movie in movies]"
   ]
  },
  {
   "cell_type": "code",
   "execution_count": 213,
   "metadata": {
    "collapsed": false
   },
   "outputs": [
    {
     "data": {
      "text/plain": [
       "[(260, 'Star Wars: Episode IV - A New Hope (1977)', 0.93),\n",
       " (318, 'Shawshank Redemption, The (1994)', 0.91),\n",
       " (356, 'Forrest Gump (1994)', 0.72),\n",
       " (480, 'Jurassic Park (1993)', 0.93),\n",
       " (527, \"Schindler's List (1993)\", 0.96),\n",
       " (780, 'Independence Day (a.k.a. ID4) (1996)', 0.6),\n",
       " (805, 'Time to Kill, A (1996)', 0.67),\n",
       " (1199, 'Brazil (1985)', 0.98),\n",
       " (1240, 'Terminator, The (1984)', 1.0),\n",
       " (2324, 'Life Is Beautiful (La Vita è bella) (1997)', 0.8),\n",
       " (2329, 'American History X (1998)', 0.83),\n",
       " (2571, 'Matrix, The (1999)', 0.87),\n",
       " (2706, 'American Pie (1999)', 0.6),\n",
       " (2858, 'American Beauty (1999)', 0.88),\n",
       " (2959, 'Fight Club (1999)', 0.79),\n",
       " (3967, 'Billy Elliot (2000)', 0.85),\n",
       " (4465, 'Accused, The (1988)', 0.95),\n",
       " (4658, 'Santa Sangre (1989)', 0.85),\n",
       " (4700, 'Princess Diaries, The (2001)', 0.47),\n",
       " (5147, 'Wild Strawberries (Smultronstället) (1957)', 0.95),\n",
       " (5163, 'Stage Fright (Deliria) (1987)', 0.68),\n",
       " (5349, 'Spider-Man (2002)', 0.89),\n",
       " (5687, 'Take Care of My Cat (Goyangileul butaghae) (2001)', 0.81),\n",
       " (6016, 'City of God (Cidade de Deus) (2002)', 0.9),\n",
       " (6132, 'New York Ripper, The (Squartatore di New York, Lo) (1982)', 0.17),\n",
       " (6774, 'Videodrome (1983)', 0.78),\n",
       " (7235, 'Ichi the Killer (Koroshiya 1) (2001)', 0.64),\n",
       " (32296, 'Miss Congeniality 2: Armed and Fabulous (2005)', 0.15),\n",
       " (43930, 'Just My Luck (2006)', 0.13),\n",
       " (48043, 'Fountain, The (2006)', 0.51),\n",
       " (54503, 'Superbad (2007)', 0.88),\n",
       " (55444, 'Control (2007)', 0.87),\n",
       " (74545, 'Ghost Writer, The (2010)', 0.83),\n",
       " (81845, \"King's Speech, The (2010)\", 0.95),\n",
       " (94018, 'Battleship (2012)', 0.34),\n",
       " (111759, 'Edge of Tomorrow (2014)', 0.91),\n",
       " (114028, 'Pride (2014)', 0.92)]"
      ]
     },
     "execution_count": 213,
     "metadata": {},
     "output_type": "execute_result"
    }
   ],
   "source": [
    "movies"
   ]
  },
  {
   "cell_type": "markdown",
   "metadata": {},
   "source": [
    "#### Question A"
   ]
  },
  {
   "cell_type": "code",
   "execution_count": 252,
   "metadata": {
    "collapsed": false
   },
   "outputs": [],
   "source": [
    "newMatrix = scoresGetter.map(itemgetter('movieId', 'relevance')).groupByKey().sortByKey().filter(lambda x: x[0] in moviesIds).map(lambda x: list(x[1])).collect()"
   ]
  },
  {
   "cell_type": "code",
   "execution_count": 253,
   "metadata": {
    "collapsed": false
   },
   "outputs": [
    {
     "name": "stdout",
     "output_type": "stream",
     "text": [
      "(37, 1128)\n"
     ]
    }
   ],
   "source": [
    "newX = np.matrix(newMatrix)\n",
    "\n",
    "print(newX.shape)"
   ]
  },
  {
   "cell_type": "code",
   "execution_count": 254,
   "metadata": {
    "collapsed": true
   },
   "outputs": [],
   "source": [
    "w2, v2 = principalDirectionsDecomposition(2, w, v)"
   ]
  },
  {
   "cell_type": "code",
   "execution_count": 255,
   "metadata": {
    "collapsed": false
   },
   "outputs": [],
   "source": [
    "projectedMatrix = (newX * v2).tolist()"
   ]
  },
  {
   "cell_type": "code",
   "execution_count": 256,
   "metadata": {
    "collapsed": false
   },
   "outputs": [
    {
     "name": "stdout",
     "output_type": "stream",
     "text": [
      "[[2.0893300546353504, -5.426914790378008], [4.7798756527706905, -7.005831293614132], [3.0891068583586843, -5.720596389488723], [0.5040908679323646, -4.657254604744452], [5.235154169255041, -5.9820308465410825], [-0.619546763288653, -3.638962682158663], [1.5902876955488527, -4.038491906764626], [3.9257951449722626, -5.198879006577363], [1.8429495418955506, -5.1268531813498015], [3.9822373589623643, -5.554794560022297], [5.291756690454118, -6.613882098485531], [2.6775037703474904, -6.027528562757453], [-0.11269701696355026, -3.800151139869716], [5.515006342204587, -6.8633884716835185], [4.979014694817191, -7.047067473896883], [2.9620590971683987, -4.574748022110336], [3.4184561597469916, -4.939231614220861], [3.5535225294013144, -4.411486955895904], [-0.8886969971584623, -2.5571835583797444], [5.271580829677336, -5.5090613838925275], [2.4464763192971968, -4.013630946662102], [-0.36545729277637856, -4.175436808630352], [1.7586746876617503, -2.108221973526682], [5.7563527389843845, -6.808381939566286], [0.9515403238725184, -3.045839886473475], [2.618587985561411, -3.7697461377323442], [2.3321622804124726, -4.071942696554037], [-1.1655526350654755, -2.1256895983742345], [-1.17965963715869, -1.8561889865176844], [3.481937436220834, -4.924758040303907], [1.3734570941154924, -4.332132420185063], [4.974729611798532, -5.544603547041542], [3.242566988551826, -4.557608634365749], [3.868995625966139, -5.241855854862068], [-1.7425752351597468, -2.2557941386040827], [1.2934826027279076, -5.100752230083398], [3.4155873237934347, -4.353031578863631]]\n"
     ]
    }
   ],
   "source": [
    "print(projectedMatrix)"
   ]
  },
  {
   "cell_type": "code",
   "execution_count": 257,
   "metadata": {
    "collapsed": false
   },
   "outputs": [
    {
     "data": {
      "text/html": [
       "\n",
       "    <div class=\"bk-root\">\n",
       "        <a href=\"http://bokeh.pydata.org\" target=\"_blank\" class=\"bk-logo bk-logo-small bk-logo-notebook\"></a>\n",
       "        <span id=\"904583d8-da97-4ffb-a3f9-588fc628cbcd\">Loading BokehJS ...</span>\n",
       "    </div>"
      ]
     },
     "metadata": {},
     "output_type": "display_data"
    },
    {
     "data": {
      "application/javascript": [
       "\n",
       "(function(global) {\n",
       "  function now() {\n",
       "    return new Date();\n",
       "  }\n",
       "\n",
       "  var force = \"1\";\n",
       "\n",
       "  if (typeof (window._bokeh_onload_callbacks) === \"undefined\" || force !== \"\") {\n",
       "    window._bokeh_onload_callbacks = [];\n",
       "    window._bokeh_is_loading = undefined;\n",
       "  }\n",
       "\n",
       "\n",
       "  \n",
       "  if (typeof (window._bokeh_timeout) === \"undefined\" || force !== \"\") {\n",
       "    window._bokeh_timeout = Date.now() + 5000;\n",
       "    window._bokeh_failed_load = false;\n",
       "  }\n",
       "\n",
       "  var NB_LOAD_WARNING = {'data': {'text/html':\n",
       "     \"<div style='background-color: #fdd'>\\n\"+\n",
       "     \"<p>\\n\"+\n",
       "     \"BokehJS does not appear to have successfully loaded. If loading BokehJS from CDN, this \\n\"+\n",
       "     \"may be due to a slow or bad network connection. Possible fixes:\\n\"+\n",
       "     \"</p>\\n\"+\n",
       "     \"<ul>\\n\"+\n",
       "     \"<li>re-rerun `output_notebook()` to attempt to load from CDN again, or</li>\\n\"+\n",
       "     \"<li>use INLINE resources instead, as so:</li>\\n\"+\n",
       "     \"</ul>\\n\"+\n",
       "     \"<code>\\n\"+\n",
       "     \"from bokeh.resources import INLINE\\n\"+\n",
       "     \"output_notebook(resources=INLINE)\\n\"+\n",
       "     \"</code>\\n\"+\n",
       "     \"</div>\"}};\n",
       "\n",
       "  function display_loaded() {\n",
       "    if (window.Bokeh !== undefined) {\n",
       "      Bokeh.$(\"#904583d8-da97-4ffb-a3f9-588fc628cbcd\").text(\"BokehJS successfully loaded.\");\n",
       "    } else if (Date.now() < window._bokeh_timeout) {\n",
       "      setTimeout(display_loaded, 100)\n",
       "    }\n",
       "  }\n",
       "\n",
       "  function run_callbacks() {\n",
       "    window._bokeh_onload_callbacks.forEach(function(callback) { callback() });\n",
       "    delete window._bokeh_onload_callbacks\n",
       "    console.info(\"Bokeh: all callbacks have finished\");\n",
       "  }\n",
       "\n",
       "  function load_libs(js_urls, callback) {\n",
       "    window._bokeh_onload_callbacks.push(callback);\n",
       "    if (window._bokeh_is_loading > 0) {\n",
       "      console.log(\"Bokeh: BokehJS is being loaded, scheduling callback at\", now());\n",
       "      return null;\n",
       "    }\n",
       "    if (js_urls == null || js_urls.length === 0) {\n",
       "      run_callbacks();\n",
       "      return null;\n",
       "    }\n",
       "    console.log(\"Bokeh: BokehJS not loaded, scheduling load and callback at\", now());\n",
       "    window._bokeh_is_loading = js_urls.length;\n",
       "    for (var i = 0; i < js_urls.length; i++) {\n",
       "      var url = js_urls[i];\n",
       "      var s = document.createElement('script');\n",
       "      s.src = url;\n",
       "      s.async = false;\n",
       "      s.onreadystatechange = s.onload = function() {\n",
       "        window._bokeh_is_loading--;\n",
       "        if (window._bokeh_is_loading === 0) {\n",
       "          console.log(\"Bokeh: all BokehJS libraries loaded\");\n",
       "          run_callbacks()\n",
       "        }\n",
       "      };\n",
       "      s.onerror = function() {\n",
       "        console.warn(\"failed to load library \" + url);\n",
       "      };\n",
       "      console.log(\"Bokeh: injecting script tag for BokehJS library: \", url);\n",
       "      document.getElementsByTagName(\"head\")[0].appendChild(s);\n",
       "    }\n",
       "  };var element = document.getElementById(\"904583d8-da97-4ffb-a3f9-588fc628cbcd\");\n",
       "  if (element == null) {\n",
       "    console.log(\"Bokeh: ERROR: autoload.js configured with elementid '904583d8-da97-4ffb-a3f9-588fc628cbcd' but no matching script tag was found. \")\n",
       "    return false;\n",
       "  }\n",
       "\n",
       "  var js_urls = ['https://cdn.pydata.org/bokeh/release/bokeh-0.12.2.min.js', 'https://cdn.pydata.org/bokeh/release/bokeh-widgets-0.12.2.min.js', 'https://cdn.pydata.org/bokeh/release/bokeh-compiler-0.12.2.min.js'];\n",
       "\n",
       "  var inline_js = [\n",
       "    function(Bokeh) {\n",
       "      Bokeh.set_log_level(\"info\");\n",
       "    },\n",
       "    \n",
       "    function(Bokeh) {\n",
       "      \n",
       "      Bokeh.$(\"#904583d8-da97-4ffb-a3f9-588fc628cbcd\").text(\"BokehJS is loading...\");\n",
       "    },\n",
       "    function(Bokeh) {\n",
       "      console.log(\"Bokeh: injecting CSS: https://cdn.pydata.org/bokeh/release/bokeh-0.12.2.min.css\");\n",
       "      Bokeh.embed.inject_css(\"https://cdn.pydata.org/bokeh/release/bokeh-0.12.2.min.css\");\n",
       "      console.log(\"Bokeh: injecting CSS: https://cdn.pydata.org/bokeh/release/bokeh-widgets-0.12.2.min.css\");\n",
       "      Bokeh.embed.inject_css(\"https://cdn.pydata.org/bokeh/release/bokeh-widgets-0.12.2.min.css\");\n",
       "    }\n",
       "  ];\n",
       "\n",
       "  function run_inline_js() {\n",
       "    \n",
       "    if ((window.Bokeh !== undefined) || (force === \"1\")) {\n",
       "      for (var i = 0; i < inline_js.length; i++) {\n",
       "        inline_js[i](window.Bokeh);\n",
       "      }if (force === \"1\") {\n",
       "        display_loaded();\n",
       "      }} else if (Date.now() < window._bokeh_timeout) {\n",
       "      setTimeout(run_inline_js, 100);\n",
       "    } else if (!window._bokeh_failed_load) {\n",
       "      console.log(\"Bokeh: BokehJS failed to load within specified timeout.\");\n",
       "      window._bokeh_failed_load = true;\n",
       "    } else if (!force) {\n",
       "      var cell = $(\"#904583d8-da97-4ffb-a3f9-588fc628cbcd\").parents('.cell').data().cell;\n",
       "      cell.output_area.append_execute_result(NB_LOAD_WARNING)\n",
       "    }\n",
       "\n",
       "  }\n",
       "\n",
       "  if (window._bokeh_is_loading === 0) {\n",
       "    console.log(\"Bokeh: BokehJS loaded, going straight to plotting\");\n",
       "    run_inline_js();\n",
       "  } else {\n",
       "    load_libs(js_urls, function() {\n",
       "      console.log(\"Bokeh: BokehJS plotting callback run at\", now());\n",
       "      run_inline_js();\n",
       "    });\n",
       "  }\n",
       "}(this));"
      ]
     },
     "metadata": {},
     "output_type": "display_data"
    }
   ],
   "source": [
    "from bokeh.io import show, output_notebook\n",
    "from bokeh.plotting import figure, ColumnDataSource\n",
    "from bokeh.models import HoverTool, ResetTool, PanTool, WheelZoomTool, SaveTool\n",
    "output_notebook()"
   ]
  },
  {
   "cell_type": "code",
   "execution_count": 258,
   "metadata": {
    "collapsed": false
   },
   "outputs": [
    {
     "data": {
      "text/html": [
       "\n",
       "\n",
       "    <div class=\"bk-root\">\n",
       "        <div class=\"plotdiv\" id=\"9e3bf7c2-5197-4dd7-9371-7ef218d65f11\"></div>\n",
       "    </div>\n",
       "<script type=\"text/javascript\">\n",
       "  \n",
       "  (function(global) {\n",
       "    function now() {\n",
       "      return new Date();\n",
       "    }\n",
       "  \n",
       "    var force = \"\";\n",
       "  \n",
       "    if (typeof (window._bokeh_onload_callbacks) === \"undefined\" || force !== \"\") {\n",
       "      window._bokeh_onload_callbacks = [];\n",
       "      window._bokeh_is_loading = undefined;\n",
       "    }\n",
       "  \n",
       "  \n",
       "    \n",
       "    if (typeof (window._bokeh_timeout) === \"undefined\" || force !== \"\") {\n",
       "      window._bokeh_timeout = Date.now() + 0;\n",
       "      window._bokeh_failed_load = false;\n",
       "    }\n",
       "  \n",
       "    var NB_LOAD_WARNING = {'data': {'text/html':\n",
       "       \"<div style='background-color: #fdd'>\\n\"+\n",
       "       \"<p>\\n\"+\n",
       "       \"BokehJS does not appear to have successfully loaded. If loading BokehJS from CDN, this \\n\"+\n",
       "       \"may be due to a slow or bad network connection. Possible fixes:\\n\"+\n",
       "       \"</p>\\n\"+\n",
       "       \"<ul>\\n\"+\n",
       "       \"<li>re-rerun `output_notebook()` to attempt to load from CDN again, or</li>\\n\"+\n",
       "       \"<li>use INLINE resources instead, as so:</li>\\n\"+\n",
       "       \"</ul>\\n\"+\n",
       "       \"<code>\\n\"+\n",
       "       \"from bokeh.resources import INLINE\\n\"+\n",
       "       \"output_notebook(resources=INLINE)\\n\"+\n",
       "       \"</code>\\n\"+\n",
       "       \"</div>\"}};\n",
       "  \n",
       "    function display_loaded() {\n",
       "      if (window.Bokeh !== undefined) {\n",
       "        Bokeh.$(\"#9e3bf7c2-5197-4dd7-9371-7ef218d65f11\").text(\"BokehJS successfully loaded.\");\n",
       "      } else if (Date.now() < window._bokeh_timeout) {\n",
       "        setTimeout(display_loaded, 100)\n",
       "      }\n",
       "    }if ((window.Jupyter !== undefined) && Jupyter.notebook.kernel) {\n",
       "      comm_manager = Jupyter.notebook.kernel.comm_manager\n",
       "      comm_manager.register_target(\"47c85de2-6120-41e9-aa72-06627bdd840d\", function () {});\n",
       "    }\n",
       "  \n",
       "    function run_callbacks() {\n",
       "      window._bokeh_onload_callbacks.forEach(function(callback) { callback() });\n",
       "      delete window._bokeh_onload_callbacks\n",
       "      console.info(\"Bokeh: all callbacks have finished\");\n",
       "    }\n",
       "  \n",
       "    function load_libs(js_urls, callback) {\n",
       "      window._bokeh_onload_callbacks.push(callback);\n",
       "      if (window._bokeh_is_loading > 0) {\n",
       "        console.log(\"Bokeh: BokehJS is being loaded, scheduling callback at\", now());\n",
       "        return null;\n",
       "      }\n",
       "      if (js_urls == null || js_urls.length === 0) {\n",
       "        run_callbacks();\n",
       "        return null;\n",
       "      }\n",
       "      console.log(\"Bokeh: BokehJS not loaded, scheduling load and callback at\", now());\n",
       "      window._bokeh_is_loading = js_urls.length;\n",
       "      for (var i = 0; i < js_urls.length; i++) {\n",
       "        var url = js_urls[i];\n",
       "        var s = document.createElement('script');\n",
       "        s.src = url;\n",
       "        s.async = false;\n",
       "        s.onreadystatechange = s.onload = function() {\n",
       "          window._bokeh_is_loading--;\n",
       "          if (window._bokeh_is_loading === 0) {\n",
       "            console.log(\"Bokeh: all BokehJS libraries loaded\");\n",
       "            run_callbacks()\n",
       "          }\n",
       "        };\n",
       "        s.onerror = function() {\n",
       "          console.warn(\"failed to load library \" + url);\n",
       "        };\n",
       "        console.log(\"Bokeh: injecting script tag for BokehJS library: \", url);\n",
       "        document.getElementsByTagName(\"head\")[0].appendChild(s);\n",
       "      }\n",
       "    };var element = document.getElementById(\"9e3bf7c2-5197-4dd7-9371-7ef218d65f11\");\n",
       "    if (element == null) {\n",
       "      console.log(\"Bokeh: ERROR: autoload.js configured with elementid '9e3bf7c2-5197-4dd7-9371-7ef218d65f11' but no matching script tag was found. \")\n",
       "      return false;\n",
       "    }\n",
       "  \n",
       "    var js_urls = [];\n",
       "  \n",
       "    var inline_js = [\n",
       "      function(Bokeh) {\n",
       "        Bokeh.$(function() {\n",
       "            var docs_json = {\"f555b49d-e55e-4c13-8841-8f8a24707648\":{\"roots\":{\"references\":[{\"attributes\":{\"callback\":null},\"id\":\"a8cbe3c3-8419-4953-8e07-6d77b5f5a121\",\"type\":\"DataRange1d\"},{\"attributes\":{\"data_source\":{\"id\":\"699b4380-ac3a-456a-9624-8596ad3ca6b2\",\"type\":\"ColumnDataSource\"},\"glyph\":{\"id\":\"f2d47726-47bc-4a1d-b43f-f8bdee3e46e6\",\"type\":\"Circle\"},\"hover_glyph\":null,\"nonselection_glyph\":{\"id\":\"d48d20fb-341c-4c90-ad85-7b81e63ed214\",\"type\":\"Circle\"},\"selection_glyph\":null},\"id\":\"feb13054-f4e1-41b9-844d-c6f736bf315d\",\"type\":\"GlyphRenderer\"},{\"attributes\":{},\"id\":\"ffc61c2b-5c67-4567-a34d-de045054f72b\",\"type\":\"BasicTicker\"},{\"attributes\":{\"formatter\":{\"id\":\"50f20905-f727-4667-8d59-8b933114b817\",\"type\":\"BasicTickFormatter\"},\"plot\":{\"id\":\"d6ab9615-1912-4ac8-8f27-42244a312a39\",\"subtype\":\"Figure\",\"type\":\"Plot\"},\"ticker\":{\"id\":\"ed6a718b-1624-46ba-9b70-e575161f6ec6\",\"type\":\"BasicTicker\"}},\"id\":\"851bf6f3-4097-46f0-913d-822c9b154465\",\"type\":\"LinearAxis\"},{\"attributes\":{\"active_drag\":\"auto\",\"active_scroll\":\"auto\",\"active_tap\":\"auto\",\"tools\":[{\"id\":\"666d20ec-9392-4882-805a-58a417a36738\",\"type\":\"HoverTool\"},{\"id\":\"93e86437-45ce-4eb5-8acd-a6f6677d69a1\",\"type\":\"ResetTool\"},{\"id\":\"f1da9766-f0fc-42ce-8b9e-2a28387934dc\",\"type\":\"PanTool\"},{\"id\":\"364cc129-6879-4fdd-92a3-6e88cd9a1998\",\"type\":\"WheelZoomTool\"},{\"id\":\"945131cd-6bb5-4550-b89e-3182d4627f75\",\"type\":\"SaveTool\"}]},\"id\":\"25e313a1-a8c1-46da-a839-cb93bfa8e23a\",\"type\":\"Toolbar\"},{\"attributes\":{\"callback\":null,\"column_names\":[\"y\",\"color\",\"name\",\"x\"],\"data\":{\"color\":[\"#d2e21b\",\"#c2df23\",\"#4ec36b\",\"#d2e21b\",\"#e5e419\",\"#22a884\",\"#37b878\",\"#f1e51d\",\"#fde725\",\"#7ad151\",\"#8ed645\",\"#a8db34\",\"#22a884\",\"#b0dd2f\",\"#75d054\",\"#9bd93c\",\"#dfe318\",\"#9bd93c\",\"#23898e\",\"#dfe318\",\"#3bbb75\",\"#b5de2b\",\"#81d34d\",\"#bddf26\",\"#443a83\",\"#6ece58\",\"#2cb17e\",\"#463480\",\"#472e7c\",\"#20928c\",\"#b0dd2f\",\"#a8db34\",\"#8ed645\",\"#dfe318\",\"#306a8e\",\"#c2df23\",\"#cae11f\"],\"name\":[[\"260\",\"Star Wars: Episode IV - A New Hope (1977)\",\"0.93\"],[\"318\",\"Shawshank Redemption, The (1994)\",\"0.91\"],[\"356\",\"Forrest Gump (1994)\",\"0.72\"],[\"480\",\"Jurassic Park (1993)\",\"0.93\"],[\"527\",\"Schindler's List (1993)\",\"0.96\"],[\"780\",\"Independence Day (a.k.a. ID4) (1996)\",\"0.6\"],[\"805\",\"Time to Kill, A (1996)\",\"0.67\"],[\"1199\",\"Brazil (1985)\",\"0.98\"],[\"1240\",\"Terminator, The (1984)\",\"1.0\"],[\"2324\",\"Life Is Beautiful (La Vita \\u00e8 bella) (1997)\",\"0.8\"],[\"2329\",\"American History X (1998)\",\"0.83\"],[\"2571\",\"Matrix, The (1999)\",\"0.87\"],[\"2706\",\"American Pie (1999)\",\"0.6\"],[\"2858\",\"American Beauty (1999)\",\"0.88\"],[\"2959\",\"Fight Club (1999)\",\"0.79\"],[\"3967\",\"Billy Elliot (2000)\",\"0.85\"],[\"4465\",\"Accused, The (1988)\",\"0.95\"],[\"4658\",\"Santa Sangre (1989)\",\"0.85\"],[\"4700\",\"Princess Diaries, The (2001)\",\"0.47\"],[\"5147\",\"Wild Strawberries (Smultronst\\u00e4llet) (1957)\",\"0.95\"],[\"5163\",\"Stage Fright (Deliria) (1987)\",\"0.68\"],[\"5349\",\"Spider-Man (2002)\",\"0.89\"],[\"5687\",\"Take Care of My Cat (Goyangileul butaghae) (2001)\",\"0.81\"],[\"6016\",\"City of God (Cidade de Deus) (2002)\",\"0.9\"],[\"6132\",\"New York Ripper, The (Squartatore di New York, Lo) (1982)\",\"0.17\"],[\"6774\",\"Videodrome (1983)\",\"0.78\"],[\"7235\",\"Ichi the Killer (Koroshiya 1) (2001)\",\"0.64\"],[\"32296\",\"Miss Congeniality 2: Armed and Fabulous (2005)\",\"0.15\"],[\"43930\",\"Just My Luck (2006)\",\"0.13\"],[\"48043\",\"Fountain, The (2006)\",\"0.51\"],[\"54503\",\"Superbad (2007)\",\"0.88\"],[\"55444\",\"Control (2007)\",\"0.87\"],[\"74545\",\"Ghost Writer, The (2010)\",\"0.83\"],[\"81845\",\"King's Speech, The (2010)\",\"0.95\"],[\"94018\",\"Battleship (2012)\",\"0.34\"],[\"111759\",\"Edge of Tomorrow (2014)\",\"0.91\"],[\"114028\",\"Pride (2014)\",\"0.92\"]],\"x\":[2.0893300546353504,4.7798756527706905,3.0891068583586843,0.5040908679323646,5.235154169255041,-0.619546763288653,1.5902876955488527,3.9257951449722626,1.8429495418955506,3.9822373589623643,5.291756690454118,2.6775037703474904,-0.11269701696355026,5.515006342204587,4.979014694817191,2.9620590971683987,3.4184561597469916,3.5535225294013144,-0.8886969971584623,5.271580829677336,2.4464763192971968,-0.36545729277637856,1.7586746876617503,5.7563527389843845,0.9515403238725184,2.618587985561411,2.3321622804124726,-1.1655526350654755,-1.17965963715869,3.481937436220834,1.3734570941154924,4.974729611798532,3.242566988551826,3.868995625966139,-1.7425752351597468,1.2934826027279076,3.4155873237934347],\"y\":[-5.426914790378008,-7.005831293614132,-5.720596389488723,-4.657254604744452,-5.9820308465410825,-3.638962682158663,-4.038491906764626,-5.198879006577363,-5.1268531813498015,-5.554794560022297,-6.613882098485531,-6.027528562757453,-3.800151139869716,-6.8633884716835185,-7.047067473896883,-4.574748022110336,-4.939231614220861,-4.411486955895904,-2.5571835583797444,-5.5090613838925275,-4.013630946662102,-4.175436808630352,-2.108221973526682,-6.808381939566286,-3.045839886473475,-3.7697461377323442,-4.071942696554037,-2.1256895983742345,-1.8561889865176844,-4.924758040303907,-4.332132420185063,-5.544603547041542,-4.557608634365749,-5.241855854862068,-2.2557941386040827,-5.100752230083398,-4.353031578863631]}},\"id\":\"699b4380-ac3a-456a-9624-8596ad3ca6b2\",\"type\":\"ColumnDataSource\"},{\"attributes\":{},\"id\":\"50f20905-f727-4667-8d59-8b933114b817\",\"type\":\"BasicTickFormatter\"},{\"attributes\":{\"plot\":null,\"text\":\"Mouse over the dots\"},\"id\":\"5ec65309-f9db-4177-84ad-248d92174dcf\",\"type\":\"Title\"},{\"attributes\":{\"plot\":{\"id\":\"d6ab9615-1912-4ac8-8f27-42244a312a39\",\"subtype\":\"Figure\",\"type\":\"Plot\"}},\"id\":\"f1da9766-f0fc-42ce-8b9e-2a28387934dc\",\"type\":\"PanTool\"},{\"attributes\":{\"below\":[{\"id\":\"e81e3042-8a60-4117-ac05-bde3088c94c7\",\"type\":\"LinearAxis\"}],\"left\":[{\"id\":\"851bf6f3-4097-46f0-913d-822c9b154465\",\"type\":\"LinearAxis\"}],\"plot_height\":360,\"plot_width\":960,\"renderers\":[{\"id\":\"e81e3042-8a60-4117-ac05-bde3088c94c7\",\"type\":\"LinearAxis\"},{\"id\":\"36f0fa8a-6d55-4a9f-bc39-2e69a76fbb17\",\"type\":\"Grid\"},{\"id\":\"851bf6f3-4097-46f0-913d-822c9b154465\",\"type\":\"LinearAxis\"},{\"id\":\"49d65d11-e8f7-4161-b4d9-ae25dab064cb\",\"type\":\"Grid\"},{\"id\":\"feb13054-f4e1-41b9-844d-c6f736bf315d\",\"type\":\"GlyphRenderer\"}],\"title\":{\"id\":\"5ec65309-f9db-4177-84ad-248d92174dcf\",\"type\":\"Title\"},\"tool_events\":{\"id\":\"af2fb1cc-a5f4-48fa-be0d-ec0a31fbf21a\",\"type\":\"ToolEvents\"},\"toolbar\":{\"id\":\"25e313a1-a8c1-46da-a839-cb93bfa8e23a\",\"type\":\"Toolbar\"},\"x_range\":{\"id\":\"a8cbe3c3-8419-4953-8e07-6d77b5f5a121\",\"type\":\"DataRange1d\"},\"y_range\":{\"id\":\"7bc09f68-fb70-4a8e-8c32-5d5c41423a3c\",\"type\":\"DataRange1d\"}},\"id\":\"d6ab9615-1912-4ac8-8f27-42244a312a39\",\"subtype\":\"Figure\",\"type\":\"Plot\"},{\"attributes\":{\"fill_alpha\":{\"value\":0.1},\"fill_color\":{\"value\":\"#1f77b4\"},\"line_alpha\":{\"value\":0.1},\"line_color\":{\"value\":\"#1f77b4\"},\"size\":{\"units\":\"screen\",\"value\":20},\"x\":{\"field\":\"x\"},\"y\":{\"field\":\"y\"}},\"id\":\"d48d20fb-341c-4c90-ad85-7b81e63ed214\",\"type\":\"Circle\"},{\"attributes\":{\"plot\":{\"id\":\"d6ab9615-1912-4ac8-8f27-42244a312a39\",\"subtype\":\"Figure\",\"type\":\"Plot\"}},\"id\":\"364cc129-6879-4fdd-92a3-6e88cd9a1998\",\"type\":\"WheelZoomTool\"},{\"attributes\":{\"plot\":{\"id\":\"d6ab9615-1912-4ac8-8f27-42244a312a39\",\"subtype\":\"Figure\",\"type\":\"Plot\"}},\"id\":\"945131cd-6bb5-4550-b89e-3182d4627f75\",\"type\":\"SaveTool\"},{\"attributes\":{\"plot\":{\"id\":\"d6ab9615-1912-4ac8-8f27-42244a312a39\",\"subtype\":\"Figure\",\"type\":\"Plot\"},\"ticker\":{\"id\":\"ffc61c2b-5c67-4567-a34d-de045054f72b\",\"type\":\"BasicTicker\"}},\"id\":\"36f0fa8a-6d55-4a9f-bc39-2e69a76fbb17\",\"type\":\"Grid\"},{\"attributes\":{\"callback\":null},\"id\":\"7bc09f68-fb70-4a8e-8c32-5d5c41423a3c\",\"type\":\"DataRange1d\"},{\"attributes\":{},\"id\":\"fc4143f5-865d-4e55-b935-cc0f127a28db\",\"type\":\"BasicTickFormatter\"},{\"attributes\":{\"callback\":null,\"plot\":{\"id\":\"d6ab9615-1912-4ac8-8f27-42244a312a39\",\"subtype\":\"Figure\",\"type\":\"Plot\"},\"tooltips\":[[\"Name\",\"@name\"]]},\"id\":\"666d20ec-9392-4882-805a-58a417a36738\",\"type\":\"HoverTool\"},{\"attributes\":{\"fill_alpha\":{\"value\":0.5},\"fill_color\":{\"field\":\"color\"},\"line_alpha\":{\"value\":0.5},\"line_color\":{\"field\":\"color\"},\"size\":{\"units\":\"screen\",\"value\":20},\"x\":{\"field\":\"x\"},\"y\":{\"field\":\"y\"}},\"id\":\"f2d47726-47bc-4a1d-b43f-f8bdee3e46e6\",\"type\":\"Circle\"},{\"attributes\":{\"formatter\":{\"id\":\"fc4143f5-865d-4e55-b935-cc0f127a28db\",\"type\":\"BasicTickFormatter\"},\"plot\":{\"id\":\"d6ab9615-1912-4ac8-8f27-42244a312a39\",\"subtype\":\"Figure\",\"type\":\"Plot\"},\"ticker\":{\"id\":\"ffc61c2b-5c67-4567-a34d-de045054f72b\",\"type\":\"BasicTicker\"}},\"id\":\"e81e3042-8a60-4117-ac05-bde3088c94c7\",\"type\":\"LinearAxis\"},{\"attributes\":{},\"id\":\"ed6a718b-1624-46ba-9b70-e575161f6ec6\",\"type\":\"BasicTicker\"},{\"attributes\":{\"plot\":{\"id\":\"d6ab9615-1912-4ac8-8f27-42244a312a39\",\"subtype\":\"Figure\",\"type\":\"Plot\"}},\"id\":\"93e86437-45ce-4eb5-8acd-a6f6677d69a1\",\"type\":\"ResetTool\"},{\"attributes\":{},\"id\":\"af2fb1cc-a5f4-48fa-be0d-ec0a31fbf21a\",\"type\":\"ToolEvents\"},{\"attributes\":{\"dimension\":1,\"plot\":{\"id\":\"d6ab9615-1912-4ac8-8f27-42244a312a39\",\"subtype\":\"Figure\",\"type\":\"Plot\"},\"ticker\":{\"id\":\"ed6a718b-1624-46ba-9b70-e575161f6ec6\",\"type\":\"BasicTicker\"}},\"id\":\"49d65d11-e8f7-4161-b4d9-ae25dab064cb\",\"type\":\"Grid\"}],\"root_ids\":[\"d6ab9615-1912-4ac8-8f27-42244a312a39\"]},\"title\":\"Bokeh Application\",\"version\":\"0.12.2\"}};\n",
       "            var render_items = [{\"docid\":\"f555b49d-e55e-4c13-8841-8f8a24707648\",\"elementid\":\"9e3bf7c2-5197-4dd7-9371-7ef218d65f11\",\"modelid\":\"d6ab9615-1912-4ac8-8f27-42244a312a39\",\"notebook_comms_target\":\"47c85de2-6120-41e9-aa72-06627bdd840d\"}];\n",
       "            \n",
       "            Bokeh.embed.embed_items(docs_json, render_items);\n",
       "        });\n",
       "      },\n",
       "      function(Bokeh) {\n",
       "      }\n",
       "    ];\n",
       "  \n",
       "    function run_inline_js() {\n",
       "      \n",
       "      if ((window.Bokeh !== undefined) || (force === \"1\")) {\n",
       "        for (var i = 0; i < inline_js.length; i++) {\n",
       "          inline_js[i](window.Bokeh);\n",
       "        }if (force === \"1\") {\n",
       "          display_loaded();\n",
       "        }} else if (Date.now() < window._bokeh_timeout) {\n",
       "        setTimeout(run_inline_js, 100);\n",
       "      } else if (!window._bokeh_failed_load) {\n",
       "        console.log(\"Bokeh: BokehJS failed to load within specified timeout.\");\n",
       "        window._bokeh_failed_load = true;\n",
       "      } else if (!force) {\n",
       "        var cell = $(\"#9e3bf7c2-5197-4dd7-9371-7ef218d65f11\").parents('.cell').data().cell;\n",
       "        cell.output_area.append_execute_result(NB_LOAD_WARNING)\n",
       "      }\n",
       "  \n",
       "    }\n",
       "  \n",
       "    if (window._bokeh_is_loading === 0) {\n",
       "      console.log(\"Bokeh: BokehJS loaded, going straight to plotting\");\n",
       "      run_inline_js();\n",
       "    } else {\n",
       "      load_libs(js_urls, function() {\n",
       "        console.log(\"Bokeh: BokehJS plotting callback run at\", now());\n",
       "        run_inline_js();\n",
       "      });\n",
       "    }\n",
       "  }(this));\n",
       "</script>"
      ]
     },
     "metadata": {},
     "output_type": "display_data"
    },
    {
     "data": {
      "text/html": [
       "<p><code>&lt;Bokeh Notebook handle for <strong>In[15]</strong>&gt;</code></p>"
      ],
      "text/plain": [
       "<bokeh.io._CommsHandle at 0x7f3cc819fac8>"
      ]
     },
     "execution_count": 258,
     "metadata": {},
     "output_type": "execute_result"
    }
   ],
   "source": [
    "# Categorial colors\n",
    "from bokeh.palettes import Dark2_8\n",
    "from matplotlib.colors import rgb2hex \n",
    "\n",
    "cmap = plt.get_cmap('viridis')\n",
    "def val2rgb(val):\n",
    "    return rgb2hex(cmap(val)[:3])\n",
    "\n",
    "source = ColumnDataSource(\n",
    "    data={\n",
    "        \"x\": [x[0] for x in projectedMatrix],\n",
    "        \"y\": [x[1] for x in projectedMatrix],\n",
    "        \"name\": [x for x in movies],\n",
    "        \"color\": [val2rgb(x[2]) for x in movies],\n",
    "    })\n",
    "\n",
    "hover = HoverTool(\n",
    "    tooltips=[\n",
    "        (\"Name\", \"@name\"),\n",
    "    ])\n",
    "tools = [hover, ResetTool(), PanTool(), WheelZoomTool(), SaveTool()]\n",
    "\n",
    "p = figure(plot_width=960, plot_height=360, tools=tools, title=\"Mouse over the dots\")\n",
    "p.circle(\"x\", \"y\", source=source, size=20, color=\"color\", alpha=0.5)\n",
    "show(p, notebook_handle=True)"
   ]
  },
  {
   "cell_type": "markdown",
   "metadata": {},
   "source": [
    "#### Question 2"
   ]
  },
  {
   "cell_type": "code",
   "execution_count": null,
   "metadata": {
    "collapsed": true
   },
   "outputs": [],
   "source": []
  },
  {
   "cell_type": "markdown",
   "metadata": {},
   "source": [
    "#### Question 3"
   ]
  },
  {
   "cell_type": "markdown",
   "metadata": {},
   "source": []
  }
 ],
 "metadata": {
  "anaconda-cloud": {},
  "kernelspec": {
   "display_name": "Python 3",
   "language": "python",
   "name": "python3"
  },
  "language_info": {
   "codemirror_mode": {
    "name": "ipython",
    "version": 3
   },
   "file_extension": ".py",
   "mimetype": "text/x-python",
   "name": "python",
   "nbconvert_exporter": "python",
   "pygments_lexer": "ipython3",
   "version": "3.5.2"
  }
 },
 "nbformat": 4,
 "nbformat_minor": 1
}
